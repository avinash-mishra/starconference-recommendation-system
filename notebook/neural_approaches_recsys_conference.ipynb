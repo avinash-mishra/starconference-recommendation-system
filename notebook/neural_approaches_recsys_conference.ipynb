{
 "cells": [
  {
   "cell_type": "markdown",
   "metadata": {},
   "source": [
    ""
   ]
  },
  {
   "cell_type": "markdown",
   "metadata": {},
   "source": [
    "## Myself\n",
    "\n",
    "<img src=\"../data/books_dataset/images/lkdin.jpeg\" width=\"140\" height=\"140\" border-radius=\"50%\" align=\"left\"/>\n",
    "\n",
    "        Avinash Mishra (Avi) | Data Scientist | Catalina marketing Japan\n",
    "\n",
    "        Linkedin : https://www.linkedin.com/in/avinash-mishra-a0846360/\n",
    "  \n",
    "        Github : https://github.com/avinash-mishra\n",
    "\n",
    "        Catalina Japan : https://catalina-jp.com/"
   ]
  },
  {
   "cell_type": "markdown",
   "metadata": {},
   "source": [
    "## Outline\n",
    " - Brief Introduction of recSys\n",
    " - Dataset\n",
    " - Build Models using neural approaches\n",
    " - Embedding visualization\n",
    " - Book recommendation"
   ]
  },
  {
   "cell_type": "markdown",
   "metadata": {},
   "source": [
    "## Introduction"
   ]
  },
  {
   "cell_type": "markdown",
   "metadata": {},
   "source": [
    "Recommendataion Engines are one of the most popular applications of Machine learning systems. Due to their widespread success, they are quickly becoming ubiquitous to a lot of business units. \n",
    "\n",
    "Types of Recommendation Systems:\n",
    "- Popularity based\n",
    "- Content based\n",
    "- Collaborative filtering\n",
    "\t- Nearest Neighbor\n",
    "\t- Matrix Factorization\n",
    "\n",
    "Above methods are quite common to build recommendation systems. \n",
    "\n",
    "In the past couple of years this trend has been changing. Due to the massive success of effectively training deep neural networks, new approaches have been developed by levaraging the tools and modeling flexibility from the Deep Learning ecosystem. \n",
    "\n",
    "This notebook gives a quickstart concepts using neural network architectures. "
   ]
  },
  {
   "cell_type": "markdown",
   "metadata": {},
   "source": [
    "## Building book Recommendation\n",
    "Goal : <font color=blue>predict the rating or preference a user would give to a book given his old books ratings or preferences. </font>"
   ]
  },
  {
   "cell_type": "markdown",
   "metadata": {},
   "source": [
    "### Dataset : [goodbooks-10k](http://fastml.com/goodbooks-10k-a-new-dataset-for-book-recommendations/)"
   ]
  },
  {
   "cell_type": "markdown",
   "metadata": {},
   "source": [
    "## Import Libraries"
   ]
  },
  {
   "cell_type": "code",
   "execution_count": 1,
   "metadata": {},
   "outputs": [
    {
     "name": "stderr",
     "output_type": "stream",
     "text": [
      "Using TensorFlow backend.\n"
     ]
    }
   ],
   "source": [
    "import numpy as np\n",
    "import pandas as pd\n",
    "import matplotlib.pyplot as plt\n",
    "import os\n",
    "import warnings\n",
    "\n",
    "# Keras\n",
    "from keras.layers import Input, Embedding, Flatten, Dot, Dense, Concatenate, Dropout, multiply, concatenate\n",
    "from keras.models import Model\n",
    "from keras.models import load_model\n",
    "from keras.utils.vis_utils import model_to_dot\n",
    "\n",
    "\n",
    "from sklearn.model_selection import train_test_split\n",
    "from IPython.display import SVG\n",
    "\n",
    "warnings.filterwarnings('ignore')\n",
    "%matplotlib inline\n"
   ]
  },
  {
   "cell_type": "markdown",
   "metadata": {},
   "source": [
    "## Loading data"
   ]
  },
  {
   "cell_type": "code",
   "execution_count": 2,
   "metadata": {},
   "outputs": [],
   "source": [
    "ratings_df = pd.read_csv('../data/books_dataset/ratings.csv')\n"
   ]
  },
  {
   "cell_type": "markdown",
   "metadata": {},
   "source": [
    "## EDA"
   ]
  },
  {
   "cell_type": "code",
   "execution_count": 3,
   "metadata": {
    "scrolled": true
   },
   "outputs": [
    {
     "data": {
      "text/html": [
       "<div>\n",
       "<style scoped>\n",
       "    .dataframe tbody tr th:only-of-type {\n",
       "        vertical-align: middle;\n",
       "    }\n",
       "\n",
       "    .dataframe tbody tr th {\n",
       "        vertical-align: top;\n",
       "    }\n",
       "\n",
       "    .dataframe thead th {\n",
       "        text-align: right;\n",
       "    }\n",
       "</style>\n",
       "<table border=\"1\" class=\"dataframe\">\n",
       "  <thead>\n",
       "    <tr style=\"text-align: right;\">\n",
       "      <th></th>\n",
       "      <th>book_id</th>\n",
       "      <th>user_id</th>\n",
       "      <th>rating</th>\n",
       "    </tr>\n",
       "  </thead>\n",
       "  <tbody>\n",
       "    <tr>\n",
       "      <th>0</th>\n",
       "      <td>1</td>\n",
       "      <td>314</td>\n",
       "      <td>5</td>\n",
       "    </tr>\n",
       "    <tr>\n",
       "      <th>1</th>\n",
       "      <td>1</td>\n",
       "      <td>439</td>\n",
       "      <td>3</td>\n",
       "    </tr>\n",
       "    <tr>\n",
       "      <th>2</th>\n",
       "      <td>1</td>\n",
       "      <td>588</td>\n",
       "      <td>5</td>\n",
       "    </tr>\n",
       "    <tr>\n",
       "      <th>3</th>\n",
       "      <td>1</td>\n",
       "      <td>1169</td>\n",
       "      <td>4</td>\n",
       "    </tr>\n",
       "    <tr>\n",
       "      <th>4</th>\n",
       "      <td>1</td>\n",
       "      <td>1185</td>\n",
       "      <td>4</td>\n",
       "    </tr>\n",
       "  </tbody>\n",
       "</table>\n",
       "</div>"
      ],
      "text/plain": [
       "   book_id  user_id  rating\n",
       "0        1      314       5\n",
       "1        1      439       3\n",
       "2        1      588       5\n",
       "3        1     1169       4\n",
       "4        1     1185       4"
      ]
     },
     "execution_count": 3,
     "metadata": {},
     "output_type": "execute_result"
    }
   ],
   "source": [
    "ratings_df.head()"
   ]
  },
  {
   "cell_type": "code",
   "execution_count": 4,
   "metadata": {},
   "outputs": [
    {
     "data": {
      "text/plain": [
       "(981756, 3)"
      ]
     },
     "execution_count": 4,
     "metadata": {},
     "output_type": "execute_result"
    }
   ],
   "source": [
    "ratings_df.shape"
   ]
  },
  {
   "cell_type": "code",
   "execution_count": 5,
   "metadata": {},
   "outputs": [
    {
     "data": {
      "text/html": [
       "<div>\n",
       "<style scoped>\n",
       "    .dataframe tbody tr th:only-of-type {\n",
       "        vertical-align: middle;\n",
       "    }\n",
       "\n",
       "    .dataframe tbody tr th {\n",
       "        vertical-align: top;\n",
       "    }\n",
       "\n",
       "    .dataframe thead th {\n",
       "        text-align: right;\n",
       "    }\n",
       "</style>\n",
       "<table border=\"1\" class=\"dataframe\">\n",
       "  <thead>\n",
       "    <tr style=\"text-align: right;\">\n",
       "      <th></th>\n",
       "      <th>count</th>\n",
       "      <th>mean</th>\n",
       "      <th>std</th>\n",
       "      <th>min</th>\n",
       "      <th>25%</th>\n",
       "      <th>50%</th>\n",
       "      <th>75%</th>\n",
       "      <th>max</th>\n",
       "    </tr>\n",
       "  </thead>\n",
       "  <tbody>\n",
       "    <tr>\n",
       "      <th>book_id</th>\n",
       "      <td>981756.0</td>\n",
       "      <td>4943.275636</td>\n",
       "      <td>2873.207415</td>\n",
       "      <td>1.0</td>\n",
       "      <td>2457.0</td>\n",
       "      <td>4921.0</td>\n",
       "      <td>7414.0</td>\n",
       "      <td>10000.0</td>\n",
       "    </tr>\n",
       "    <tr>\n",
       "      <th>user_id</th>\n",
       "      <td>981756.0</td>\n",
       "      <td>25616.759933</td>\n",
       "      <td>15228.338826</td>\n",
       "      <td>1.0</td>\n",
       "      <td>12372.0</td>\n",
       "      <td>25077.0</td>\n",
       "      <td>38572.0</td>\n",
       "      <td>53424.0</td>\n",
       "    </tr>\n",
       "    <tr>\n",
       "      <th>rating</th>\n",
       "      <td>981756.0</td>\n",
       "      <td>3.856534</td>\n",
       "      <td>0.983941</td>\n",
       "      <td>1.0</td>\n",
       "      <td>3.0</td>\n",
       "      <td>4.0</td>\n",
       "      <td>5.0</td>\n",
       "      <td>5.0</td>\n",
       "    </tr>\n",
       "  </tbody>\n",
       "</table>\n",
       "</div>"
      ],
      "text/plain": [
       "            count          mean           std  min      25%      50%      75%  \\\n",
       "book_id  981756.0   4943.275636   2873.207415  1.0   2457.0   4921.0   7414.0   \n",
       "user_id  981756.0  25616.759933  15228.338826  1.0  12372.0  25077.0  38572.0   \n",
       "rating   981756.0      3.856534      0.983941  1.0      3.0      4.0      5.0   \n",
       "\n",
       "             max  \n",
       "book_id  10000.0  \n",
       "user_id  53424.0  \n",
       "rating       5.0  "
      ]
     },
     "execution_count": 5,
     "metadata": {},
     "output_type": "execute_result"
    }
   ],
   "source": [
    "ratings_df.describe().transpose()"
   ]
  },
  {
   "cell_type": "code",
   "execution_count": 6,
   "metadata": {},
   "outputs": [
    {
     "data": {
      "text/plain": [
       "array([5, 3, 4, 1, 2])"
      ]
     },
     "execution_count": 6,
     "metadata": {},
     "output_type": "execute_result"
    }
   ],
   "source": [
    "# 5 ratings\n",
    "ratings_df.rating.unique()"
   ]
  },
  {
   "cell_type": "code",
   "execution_count": 7,
   "metadata": {},
   "outputs": [
    {
     "data": {
      "text/plain": [
       "53424"
      ]
     },
     "execution_count": 7,
     "metadata": {},
     "output_type": "execute_result"
    }
   ],
   "source": [
    "# total user\n",
    "n_users = ratings_df.user_id.nunique()\n",
    "n_users"
   ]
  },
  {
   "cell_type": "code",
   "execution_count": 8,
   "metadata": {},
   "outputs": [
    {
     "data": {
      "text/plain": [
       "10000"
      ]
     },
     "execution_count": 8,
     "metadata": {},
     "output_type": "execute_result"
    }
   ],
   "source": [
    "# Total books\n",
    "n_books = ratings_df.book_id.nunique()\n",
    "n_books"
   ]
  },
  {
   "cell_type": "markdown",
   "metadata": {},
   "source": [
    "## Create train & test set"
   ]
  },
  {
   "cell_type": "code",
   "execution_count": 9,
   "metadata": {},
   "outputs": [],
   "source": [
    "train, test = train_test_split(ratings_df, test_size=0.2, random_state=42)"
   ]
  },
  {
   "cell_type": "code",
   "execution_count": 10,
   "metadata": {
    "scrolled": true
   },
   "outputs": [
    {
     "data": {
      "text/html": [
       "<div>\n",
       "<style scoped>\n",
       "    .dataframe tbody tr th:only-of-type {\n",
       "        vertical-align: middle;\n",
       "    }\n",
       "\n",
       "    .dataframe tbody tr th {\n",
       "        vertical-align: top;\n",
       "    }\n",
       "\n",
       "    .dataframe thead th {\n",
       "        text-align: right;\n",
       "    }\n",
       "</style>\n",
       "<table border=\"1\" class=\"dataframe\">\n",
       "  <thead>\n",
       "    <tr style=\"text-align: right;\">\n",
       "      <th></th>\n",
       "      <th>book_id</th>\n",
       "      <th>user_id</th>\n",
       "      <th>rating</th>\n",
       "    </tr>\n",
       "  </thead>\n",
       "  <tbody>\n",
       "    <tr>\n",
       "      <th>341848</th>\n",
       "      <td>3423</td>\n",
       "      <td>4608</td>\n",
       "      <td>2</td>\n",
       "    </tr>\n",
       "    <tr>\n",
       "      <th>964349</th>\n",
       "      <td>9811</td>\n",
       "      <td>36373</td>\n",
       "      <td>5</td>\n",
       "    </tr>\n",
       "    <tr>\n",
       "      <th>645459</th>\n",
       "      <td>6485</td>\n",
       "      <td>2957</td>\n",
       "      <td>4</td>\n",
       "    </tr>\n",
       "    <tr>\n",
       "      <th>74960</th>\n",
       "      <td>750</td>\n",
       "      <td>42400</td>\n",
       "      <td>3</td>\n",
       "    </tr>\n",
       "    <tr>\n",
       "      <th>358670</th>\n",
       "      <td>3591</td>\n",
       "      <td>36886</td>\n",
       "      <td>5</td>\n",
       "    </tr>\n",
       "  </tbody>\n",
       "</table>\n",
       "</div>"
      ],
      "text/plain": [
       "        book_id  user_id  rating\n",
       "341848     3423     4608       2\n",
       "964349     9811    36373       5\n",
       "645459     6485     2957       4\n",
       "74960       750    42400       3\n",
       "358670     3591    36886       5"
      ]
     },
     "metadata": {},
     "output_type": "execute_result"
    },
    {
     "data": {
      "text/html": [
       "<div>\n",
       "<style scoped>\n",
       "    .dataframe tbody tr th:only-of-type {\n",
       "        vertical-align: middle;\n",
       "    }\n",
       "\n",
       "    .dataframe tbody tr th {\n",
       "        vertical-align: top;\n",
       "    }\n",
       "\n",
       "    .dataframe thead th {\n",
       "        text-align: right;\n",
       "    }\n",
       "</style>\n",
       "<table border=\"1\" class=\"dataframe\">\n",
       "  <thead>\n",
       "    <tr style=\"text-align: right;\">\n",
       "      <th></th>\n",
       "      <th>book_id</th>\n",
       "      <th>user_id</th>\n",
       "      <th>rating</th>\n",
       "    </tr>\n",
       "  </thead>\n",
       "  <tbody>\n",
       "    <tr>\n",
       "      <th>646451</th>\n",
       "      <td>6495</td>\n",
       "      <td>19643</td>\n",
       "      <td>5</td>\n",
       "    </tr>\n",
       "    <tr>\n",
       "      <th>614851</th>\n",
       "      <td>6175</td>\n",
       "      <td>8563</td>\n",
       "      <td>4</td>\n",
       "    </tr>\n",
       "    <tr>\n",
       "      <th>974393</th>\n",
       "      <td>9920</td>\n",
       "      <td>52110</td>\n",
       "      <td>3</td>\n",
       "    </tr>\n",
       "    <tr>\n",
       "      <th>21471</th>\n",
       "      <td>215</td>\n",
       "      <td>33864</td>\n",
       "      <td>5</td>\n",
       "    </tr>\n",
       "    <tr>\n",
       "      <th>272540</th>\n",
       "      <td>2728</td>\n",
       "      <td>16587</td>\n",
       "      <td>3</td>\n",
       "    </tr>\n",
       "  </tbody>\n",
       "</table>\n",
       "</div>"
      ],
      "text/plain": [
       "        book_id  user_id  rating\n",
       "646451     6495    19643       5\n",
       "614851     6175     8563       4\n",
       "974393     9920    52110       3\n",
       "21471       215    33864       5\n",
       "272540     2728    16587       3"
      ]
     },
     "metadata": {},
     "output_type": "execute_result"
    }
   ],
   "source": [
    "display(train.head())\n",
    "display(test.head())"
   ]
  },
  {
   "cell_type": "markdown",
   "metadata": {},
   "source": [
    "## Model building"
   ]
  },
  {
   "cell_type": "markdown",
   "metadata": {},
   "source": [
    "### Creating dot product model\n",
    "Most recommendation systems are build using a simple dot product as shown below but newer ones are now implementing a neural network instead of the simple dot product.\n"
   ]
  },
  {
   "cell_type": "markdown",
   "metadata": {},
   "source": [
    "#### Keras functional api working\n",
    "> Create layers\n",
    "\n",
    "> Combine everything inside model\n",
    "\n",
    "> Compile model\n",
    "\n",
    "> fit the model\n",
    "\n",
    "#### Keras Dot product api is like this\n",
    "`Dot(name=\"Dot-Product\", axes=1)([book_vec, user_vec])`"
   ]
  },
  {
   "cell_type": "code",
   "execution_count": 11,
   "metadata": {},
   "outputs": [
    {
     "name": "stdout",
     "output_type": "stream",
     "text": [
      "WARNING:tensorflow:From /Users/avinash/github/venv/lib/python3.6/site-packages/tensorflow/python/framework/op_def_library.py:263: colocate_with (from tensorflow.python.framework.ops) is deprecated and will be removed in a future version.\n",
      "Instructions for updating:\n",
      "Colocations handled automatically by placer.\n"
     ]
    }
   ],
   "source": [
    "# creating book embedding path\n",
    "book_input = Input(shape=[1], name=\"Book-Input\")\n",
    "book_embedding = Embedding(n_books+1, output_dim=5, name=\"Book-Embedding\")(book_input)\n",
    "book_vec = Flatten(name=\"Flatten-Books\")(book_embedding)\n",
    "\n",
    "# creating user embedding path\n",
    "user_input = Input(shape=[1], name=\"User-Input\")\n",
    "user_embedding = Embedding(n_users+1, output_dim=5, name=\"User-Embedding\")(user_input)\n",
    "user_vec = Flatten(name=\"Flatten-Users\")(user_embedding)\n",
    "\n",
    "# performing dot product and creating model\n",
    "prod = Dot(name=\"Dot-Product\", axes=1)([book_vec, user_vec])\n",
    "model = Model([user_input, book_input], prod)\n",
    "model.compile(optimizer='adam', loss='mean_squared_error', metrics=['mae'])"
   ]
  },
  {
   "cell_type": "code",
   "execution_count": 12,
   "metadata": {},
   "outputs": [
    {
     "data": {
      "image/svg+xml": [
       "<svg height=\"296pt\" viewBox=\"0.00 0.00 675.71 296.00\" width=\"676pt\" xmlns=\"http://www.w3.org/2000/svg\" xmlns:xlink=\"http://www.w3.org/1999/xlink\">\n",
       "<g class=\"graph\" id=\"graph0\" transform=\"scale(1 1) rotate(0) translate(4 292)\">\n",
       "<title>G</title>\n",
       "<polygon fill=\"#ffffff\" points=\"-4,4 -4,-292 671.7085,-292 671.7085,4 -4,4\" stroke=\"transparent\"/>\n",
       "<!-- 4337664464 -->\n",
       "<g class=\"node\" id=\"node1\">\n",
       "<title>4337664464</title>\n",
       "<polygon fill=\"none\" points=\"25.6724,-243.5 25.6724,-287.5 301.1245,-287.5 301.1245,-243.5 25.6724,-243.5\" stroke=\"#000000\"/>\n",
       "<text fill=\"#000000\" font-family=\"Times,serif\" font-size=\"14.00\" text-anchor=\"middle\" x=\"100.7397\" y=\"-261.3\">Book-Input: InputLayer</text>\n",
       "<polyline fill=\"none\" points=\"175.8071,-243.5 175.8071,-287.5 \" stroke=\"#000000\"/>\n",
       "<text fill=\"#000000\" font-family=\"Times,serif\" font-size=\"14.00\" text-anchor=\"middle\" x=\"203.6416\" y=\"-272.3\">input:</text>\n",
       "<polyline fill=\"none\" points=\"175.8071,-265.5 231.4761,-265.5 \" stroke=\"#000000\"/>\n",
       "<text fill=\"#000000\" font-family=\"Times,serif\" font-size=\"14.00\" text-anchor=\"middle\" x=\"203.6416\" y=\"-250.3\">output:</text>\n",
       "<polyline fill=\"none\" points=\"231.4761,-243.5 231.4761,-287.5 \" stroke=\"#000000\"/>\n",
       "<text fill=\"#000000\" font-family=\"Times,serif\" font-size=\"14.00\" text-anchor=\"middle\" x=\"266.3003\" y=\"-272.3\">(None, 1)</text>\n",
       "<polyline fill=\"none\" points=\"231.4761,-265.5 301.1245,-265.5 \" stroke=\"#000000\"/>\n",
       "<text fill=\"#000000\" font-family=\"Times,serif\" font-size=\"14.00\" text-anchor=\"middle\" x=\"266.3003\" y=\"-250.3\">(None, 1)</text>\n",
       "</g>\n",
       "<!-- 4337664576 -->\n",
       "<g class=\"node\" id=\"node3\">\n",
       "<title>4337664576</title>\n",
       "<polygon fill=\"none\" points=\"0,-162.5 0,-206.5 326.7969,-206.5 326.7969,-162.5 0,-162.5\" stroke=\"#000000\"/>\n",
       "<text fill=\"#000000\" font-family=\"Times,serif\" font-size=\"14.00\" text-anchor=\"middle\" x=\"93.7397\" y=\"-180.3\">Book-Embedding: Embedding</text>\n",
       "<polyline fill=\"none\" points=\"187.4795,-162.5 187.4795,-206.5 \" stroke=\"#000000\"/>\n",
       "<text fill=\"#000000\" font-family=\"Times,serif\" font-size=\"14.00\" text-anchor=\"middle\" x=\"215.314\" y=\"-191.3\">input:</text>\n",
       "<polyline fill=\"none\" points=\"187.4795,-184.5 243.1484,-184.5 \" stroke=\"#000000\"/>\n",
       "<text fill=\"#000000\" font-family=\"Times,serif\" font-size=\"14.00\" text-anchor=\"middle\" x=\"215.314\" y=\"-169.3\">output:</text>\n",
       "<polyline fill=\"none\" points=\"243.1484,-162.5 243.1484,-206.5 \" stroke=\"#000000\"/>\n",
       "<text fill=\"#000000\" font-family=\"Times,serif\" font-size=\"14.00\" text-anchor=\"middle\" x=\"284.9727\" y=\"-191.3\">(None, 1)</text>\n",
       "<polyline fill=\"none\" points=\"243.1484,-184.5 326.7969,-184.5 \" stroke=\"#000000\"/>\n",
       "<text fill=\"#000000\" font-family=\"Times,serif\" font-size=\"14.00\" text-anchor=\"middle\" x=\"284.9727\" y=\"-169.3\">(None, 1, 5)</text>\n",
       "</g>\n",
       "<!-- 4337664464&#45;&gt;4337664576 -->\n",
       "<g class=\"edge\" id=\"edge1\">\n",
       "<title>4337664464-&gt;4337664576</title>\n",
       "<path d=\"M163.3984,-243.3664C163.3984,-235.1516 163.3984,-225.6579 163.3984,-216.7252\" fill=\"none\" stroke=\"#000000\"/>\n",
       "<polygon fill=\"#000000\" points=\"166.8985,-216.6068 163.3984,-206.6068 159.8985,-216.6069 166.8985,-216.6068\" stroke=\"#000000\"/>\n",
       "</g>\n",
       "<!-- 4337665528 -->\n",
       "<g class=\"node\" id=\"node2\">\n",
       "<title>4337665528</title>\n",
       "<polygon fill=\"none\" points=\"370.7607,-243.5 370.7607,-287.5 642.0361,-287.5 642.0361,-243.5 370.7607,-243.5\" stroke=\"#000000\"/>\n",
       "<text fill=\"#000000\" font-family=\"Times,serif\" font-size=\"14.00\" text-anchor=\"middle\" x=\"443.7397\" y=\"-261.3\">User-Input: InputLayer</text>\n",
       "<polyline fill=\"none\" points=\"516.7188,-243.5 516.7188,-287.5 \" stroke=\"#000000\"/>\n",
       "<text fill=\"#000000\" font-family=\"Times,serif\" font-size=\"14.00\" text-anchor=\"middle\" x=\"544.5532\" y=\"-272.3\">input:</text>\n",
       "<polyline fill=\"none\" points=\"516.7188,-265.5 572.3877,-265.5 \" stroke=\"#000000\"/>\n",
       "<text fill=\"#000000\" font-family=\"Times,serif\" font-size=\"14.00\" text-anchor=\"middle\" x=\"544.5532\" y=\"-250.3\">output:</text>\n",
       "<polyline fill=\"none\" points=\"572.3877,-243.5 572.3877,-287.5 \" stroke=\"#000000\"/>\n",
       "<text fill=\"#000000\" font-family=\"Times,serif\" font-size=\"14.00\" text-anchor=\"middle\" x=\"607.2119\" y=\"-272.3\">(None, 1)</text>\n",
       "<polyline fill=\"none\" points=\"572.3877,-265.5 642.0361,-265.5 \" stroke=\"#000000\"/>\n",
       "<text fill=\"#000000\" font-family=\"Times,serif\" font-size=\"14.00\" text-anchor=\"middle\" x=\"607.2119\" y=\"-250.3\">(None, 1)</text>\n",
       "</g>\n",
       "<!-- 4337665304 -->\n",
       "<g class=\"node\" id=\"node4\">\n",
       "<title>4337665304</title>\n",
       "<polygon fill=\"none\" points=\"345.0884,-162.5 345.0884,-206.5 667.7085,-206.5 667.7085,-162.5 345.0884,-162.5\" stroke=\"#000000\"/>\n",
       "<text fill=\"#000000\" font-family=\"Times,serif\" font-size=\"14.00\" text-anchor=\"middle\" x=\"436.7397\" y=\"-180.3\">User-Embedding: Embedding</text>\n",
       "<polyline fill=\"none\" points=\"528.3911,-162.5 528.3911,-206.5 \" stroke=\"#000000\"/>\n",
       "<text fill=\"#000000\" font-family=\"Times,serif\" font-size=\"14.00\" text-anchor=\"middle\" x=\"556.2256\" y=\"-191.3\">input:</text>\n",
       "<polyline fill=\"none\" points=\"528.3911,-184.5 584.0601,-184.5 \" stroke=\"#000000\"/>\n",
       "<text fill=\"#000000\" font-family=\"Times,serif\" font-size=\"14.00\" text-anchor=\"middle\" x=\"556.2256\" y=\"-169.3\">output:</text>\n",
       "<polyline fill=\"none\" points=\"584.0601,-162.5 584.0601,-206.5 \" stroke=\"#000000\"/>\n",
       "<text fill=\"#000000\" font-family=\"Times,serif\" font-size=\"14.00\" text-anchor=\"middle\" x=\"625.8843\" y=\"-191.3\">(None, 1)</text>\n",
       "<polyline fill=\"none\" points=\"584.0601,-184.5 667.7085,-184.5 \" stroke=\"#000000\"/>\n",
       "<text fill=\"#000000\" font-family=\"Times,serif\" font-size=\"14.00\" text-anchor=\"middle\" x=\"625.8843\" y=\"-169.3\">(None, 1, 5)</text>\n",
       "</g>\n",
       "<!-- 4337665528&#45;&gt;4337665304 -->\n",
       "<g class=\"edge\" id=\"edge2\">\n",
       "<title>4337665528-&gt;4337665304</title>\n",
       "<path d=\"M506.3984,-243.3664C506.3984,-235.1516 506.3984,-225.6579 506.3984,-216.7252\" fill=\"none\" stroke=\"#000000\"/>\n",
       "<polygon fill=\"#000000\" points=\"509.8985,-216.6068 506.3984,-206.6068 502.8985,-216.6069 509.8985,-216.6068\" stroke=\"#000000\"/>\n",
       "</g>\n",
       "<!-- 4337664912 -->\n",
       "<g class=\"node\" id=\"node5\">\n",
       "<title>4337664912</title>\n",
       "<polygon fill=\"none\" points=\"45.938,-81.5 45.938,-125.5 326.8589,-125.5 326.8589,-81.5 45.938,-81.5\" stroke=\"#000000\"/>\n",
       "<text fill=\"#000000\" font-family=\"Times,serif\" font-size=\"14.00\" text-anchor=\"middle\" x=\"116.7397\" y=\"-99.3\">Flatten-Books: Flatten</text>\n",
       "<polyline fill=\"none\" points=\"187.5415,-81.5 187.5415,-125.5 \" stroke=\"#000000\"/>\n",
       "<text fill=\"#000000\" font-family=\"Times,serif\" font-size=\"14.00\" text-anchor=\"middle\" x=\"215.376\" y=\"-110.3\">input:</text>\n",
       "<polyline fill=\"none\" points=\"187.5415,-103.5 243.2104,-103.5 \" stroke=\"#000000\"/>\n",
       "<text fill=\"#000000\" font-family=\"Times,serif\" font-size=\"14.00\" text-anchor=\"middle\" x=\"215.376\" y=\"-88.3\">output:</text>\n",
       "<polyline fill=\"none\" points=\"243.2104,-81.5 243.2104,-125.5 \" stroke=\"#000000\"/>\n",
       "<text fill=\"#000000\" font-family=\"Times,serif\" font-size=\"14.00\" text-anchor=\"middle\" x=\"285.0347\" y=\"-110.3\">(None, 1, 5)</text>\n",
       "<polyline fill=\"none\" points=\"243.2104,-103.5 326.8589,-103.5 \" stroke=\"#000000\"/>\n",
       "<text fill=\"#000000\" font-family=\"Times,serif\" font-size=\"14.00\" text-anchor=\"middle\" x=\"285.0347\" y=\"-88.3\">(None, 5)</text>\n",
       "</g>\n",
       "<!-- 4337664576&#45;&gt;4337664912 -->\n",
       "<g class=\"edge\" id=\"edge3\">\n",
       "<title>4337664576-&gt;4337664912</title>\n",
       "<path d=\"M169.6833,-162.3664C172.0412,-154.0624 174.7703,-144.4514 177.3307,-135.4341\" fill=\"none\" stroke=\"#000000\"/>\n",
       "<polygon fill=\"#000000\" points=\"180.7565,-136.1826 180.1212,-125.6068 174.0227,-134.2705 180.7565,-136.1826\" stroke=\"#000000\"/>\n",
       "</g>\n",
       "<!-- 4337666984 -->\n",
       "<g class=\"node\" id=\"node6\">\n",
       "<title>4337666984</title>\n",
       "<polygon fill=\"none\" points=\"355.8896,-81.5 355.8896,-125.5 632.9072,-125.5 632.9072,-81.5 355.8896,-81.5\" stroke=\"#000000\"/>\n",
       "<text fill=\"#000000\" font-family=\"Times,serif\" font-size=\"14.00\" text-anchor=\"middle\" x=\"424.7397\" y=\"-99.3\">Flatten-Users: Flatten</text>\n",
       "<polyline fill=\"none\" points=\"493.5898,-81.5 493.5898,-125.5 \" stroke=\"#000000\"/>\n",
       "<text fill=\"#000000\" font-family=\"Times,serif\" font-size=\"14.00\" text-anchor=\"middle\" x=\"521.4243\" y=\"-110.3\">input:</text>\n",
       "<polyline fill=\"none\" points=\"493.5898,-103.5 549.2588,-103.5 \" stroke=\"#000000\"/>\n",
       "<text fill=\"#000000\" font-family=\"Times,serif\" font-size=\"14.00\" text-anchor=\"middle\" x=\"521.4243\" y=\"-88.3\">output:</text>\n",
       "<polyline fill=\"none\" points=\"549.2588,-81.5 549.2588,-125.5 \" stroke=\"#000000\"/>\n",
       "<text fill=\"#000000\" font-family=\"Times,serif\" font-size=\"14.00\" text-anchor=\"middle\" x=\"591.083\" y=\"-110.3\">(None, 1, 5)</text>\n",
       "<polyline fill=\"none\" points=\"549.2588,-103.5 632.9072,-103.5 \" stroke=\"#000000\"/>\n",
       "<text fill=\"#000000\" font-family=\"Times,serif\" font-size=\"14.00\" text-anchor=\"middle\" x=\"591.083\" y=\"-88.3\">(None, 5)</text>\n",
       "</g>\n",
       "<!-- 4337665304&#45;&gt;4337666984 -->\n",
       "<g class=\"edge\" id=\"edge4\">\n",
       "<title>4337665304-&gt;4337666984</title>\n",
       "<path d=\"M503.1194,-162.3664C501.9024,-154.1516 500.4959,-144.6579 499.1725,-135.7252\" fill=\"none\" stroke=\"#000000\"/>\n",
       "<polygon fill=\"#000000\" points=\"502.6013,-134.9859 497.6735,-125.6068 495.6769,-136.0118 502.6013,-134.9859\" stroke=\"#000000\"/>\n",
       "</g>\n",
       "<!-- 4337665472 -->\n",
       "<g class=\"node\" id=\"node7\">\n",
       "<title>4337665472</title>\n",
       "<polygon fill=\"none\" points=\"179.9517,-.5 179.9517,-44.5 488.8452,-44.5 488.8452,-.5 179.9517,-.5\" stroke=\"#000000\"/>\n",
       "<text fill=\"#000000\" font-family=\"Times,serif\" font-size=\"14.00\" text-anchor=\"middle\" x=\"236.7534\" y=\"-18.3\">Dot-Product: Dot</text>\n",
       "<polyline fill=\"none\" points=\"293.5552,-.5 293.5552,-44.5 \" stroke=\"#000000\"/>\n",
       "<text fill=\"#000000\" font-family=\"Times,serif\" font-size=\"14.00\" text-anchor=\"middle\" x=\"321.3896\" y=\"-29.3\">input:</text>\n",
       "<polyline fill=\"none\" points=\"293.5552,-22.5 349.2241,-22.5 \" stroke=\"#000000\"/>\n",
       "<text fill=\"#000000\" font-family=\"Times,serif\" font-size=\"14.00\" text-anchor=\"middle\" x=\"321.3896\" y=\"-7.3\">output:</text>\n",
       "<polyline fill=\"none\" points=\"349.2241,-.5 349.2241,-44.5 \" stroke=\"#000000\"/>\n",
       "<text fill=\"#000000\" font-family=\"Times,serif\" font-size=\"14.00\" text-anchor=\"middle\" x=\"419.0347\" y=\"-29.3\">[(None, 5), (None, 5)]</text>\n",
       "<polyline fill=\"none\" points=\"349.2241,-22.5 488.8452,-22.5 \" stroke=\"#000000\"/>\n",
       "<text fill=\"#000000\" font-family=\"Times,serif\" font-size=\"14.00\" text-anchor=\"middle\" x=\"418.5483\" y=\"-7.3\">(None, 1)</text>\n",
       "</g>\n",
       "<!-- 4337664912&#45;&gt;4337665472 -->\n",
       "<g class=\"edge\" id=\"edge5\">\n",
       "<title>4337664912-&gt;4337665472</title>\n",
       "<path d=\"M226.8401,-81.3664C244.868,-71.4998 266.2672,-59.7881 285.2124,-49.4194\" fill=\"none\" stroke=\"#000000\"/>\n",
       "<polygon fill=\"#000000\" points=\"286.9139,-52.4781 294.0057,-44.6068 283.5532,-46.3376 286.9139,-52.4781\" stroke=\"#000000\"/>\n",
       "</g>\n",
       "<!-- 4337666984&#45;&gt;4337665472 -->\n",
       "<g class=\"edge\" id=\"edge6\">\n",
       "<title>4337666984-&gt;4337665472</title>\n",
       "<path d=\"M450.6777,-81.3664C431.0117,-71.4105 407.6348,-59.5759 387.0172,-49.1382\" fill=\"none\" stroke=\"#000000\"/>\n",
       "<polygon fill=\"#000000\" points=\"388.569,-46.0009 378.0663,-44.6068 385.4073,-52.2462 388.569,-46.0009\" stroke=\"#000000\"/>\n",
       "</g>\n",
       "</g>\n",
       "</svg>"
      ],
      "text/plain": [
       "<IPython.core.display.SVG object>"
      ]
     },
     "execution_count": 12,
     "metadata": {},
     "output_type": "execute_result"
    }
   ],
   "source": [
    "# Model visualization\n",
    "SVG(model_to_dot(model, show_shapes=True).create(prog='dot', format='svg'))\n"
   ]
  },
  {
   "cell_type": "code",
   "execution_count": null,
   "metadata": {},
   "outputs": [],
   "source": [
    "# model.summary()"
   ]
  },
  {
   "cell_type": "code",
   "execution_count": 13,
   "metadata": {},
   "outputs": [],
   "source": [
    "def train_and_save(model, model_name):\n",
    "    epoch = 5\n",
    "    if os.path.exists(f'../models/{model_name}'):\n",
    "        model = load_model(f'../models/{model_name}')\n",
    "    else:\n",
    "        history = model.fit([train.user_id, train.book_id], train.rating, epochs=epoch, verbose=1)\n",
    "        model.save(f'../models/{model_name}')\n",
    "        plt.plot(history.history['loss'])\n",
    "        plt.xlabel(\"Epochs\")\n",
    "        plt.ylabel(\"Training Error\")\n",
    "    return model"
   ]
  },
  {
   "cell_type": "code",
   "execution_count": 14,
   "metadata": {},
   "outputs": [
    {
     "name": "stdout",
     "output_type": "stream",
     "text": [
      "WARNING:tensorflow:From /Users/avinash/github/venv/lib/python3.6/site-packages/tensorflow/python/ops/math_ops.py:3066: to_int32 (from tensorflow.python.ops.math_ops) is deprecated and will be removed in a future version.\n",
      "Instructions for updating:\n",
      "Use tf.cast instead.\n",
      "Epoch 1/5\n",
      "785404/785404 [==============================] - 51s 64us/step - loss: 13.2797 - mean_absolute_error: 3.44560s - loss: 13.\n",
      "Epoch 2/5\n",
      "785404/785404 [==============================] - 53s 67us/step - loss: 3.8299 - mean_absolute_error: 1.5043 0s - loss: 3.8328 - mean_absolute_error: 1.5\n",
      "Epoch 3/5\n",
      "785404/785404 [==============================] - 48s 62us/step - loss: 1.6356 - mean_absolute_error: 0.9352\n",
      "Epoch 4/5\n",
      "785404/785404 [==============================] - 48s 62us/step - loss: 1.1507 - mean_absolute_error: 0.7962\n",
      "Epoch 5/5\n",
      "785404/785404 [==============================] - 49s 63us/step - loss: 0.9517 - mean_absolute_error: 0.7326\n"
     ]
    },
    {
     "data": {
      "image/png": "[encoded data removed]",
      "text/plain": [
       "<Figure size 432x288 with 1 Axes>"
      ]
     },
     "metadata": {},
     "output_type": "display_data"
    }
   ],
   "source": [
    "model = train_and_save(model, 'dot_product.h5')"
   ]
  },
  {
   "cell_type": "code",
   "execution_count": 15,
   "metadata": {},
   "outputs": [
    {
     "data": {
      "text/plain": [
       "['mse, mae']"
      ]
     },
     "metadata": {},
     "output_type": "display_data"
    },
    {
     "name": "stdout",
     "output_type": "stream",
     "text": [
      "196352/196352 [==============================] - 2s 9us/step\n"
     ]
    },
    {
     "data": {
      "text/plain": [
       "[1.1218068912295038, 0.7770441920245176]"
      ]
     },
     "metadata": {},
     "output_type": "display_data"
    },
    {
     "name": "stdout",
     "output_type": "stream",
     "text": [
      "predicted actual\n",
      "[5.317064] 5\n",
      "[4.15283] 4\n",
      "[3.7400064] 3\n",
      "[4.1460543] 5\n",
      "[3.3015592] 3\n",
      "[3.6210608] 3\n",
      "[4.144544] 3\n",
      "[4.9545507] 4\n",
      "[3.8728712] 3\n",
      "[4.1982117] 5\n"
     ]
    },
    {
     "data": {
      "text/plain": [
       "[None, None, None, None, None, None, None, None, None, None]"
      ]
     },
     "execution_count": 15,
     "metadata": {},
     "output_type": "execute_result"
    }
   ],
   "source": [
    "# Evaluate model\n",
    "display(['mse, mae'])\n",
    "display(model.evaluate([test.user_id, test.book_id], test.rating))\n",
    "\n",
    "\n",
    "# make prediction\n",
    "predictions = model.predict([test.user_id.head(10), test.book_id.head(10)])\n",
    "\n",
    "print('predicted', 'actual')\n",
    "[print(predictions[i], test.rating.iloc[i]) for i in range(0, 10)]\n"
   ]
  },
  {
   "cell_type": "markdown",
   "metadata": {},
   "source": [
    "## Creating Neural Network\n",
    "\n",
    "Neural Networks proved their effectiveness for almost every machine learning problems with enough data. Neurals Networks perform exceptionally well for recommendation systems. "
   ]
  },
  {
   "cell_type": "markdown",
   "metadata": {},
   "source": [
    "### Model 1 \n",
    "Use Embedding multiplication and Fully connected Dense NN layer. So that model can learn complex non-linear relationship.\n",
    "\n",
    "<img src=\"../data/books_dataset/images/model1.png\" alt=\"Model 1\" style=\"width: 500px;\" />"
   ]
  },
  {
   "cell_type": "code",
   "execution_count": 16,
   "metadata": {},
   "outputs": [
    {
     "name": "stdout",
     "output_type": "stream",
     "text": [
      "WARNING:tensorflow:From /Users/avinash/github/venv/lib/python3.6/site-packages/keras/backend/tensorflow_backend.py:3445: calling dropout (from tensorflow.python.ops.nn_ops) with keep_prob is deprecated and will be removed in a future version.\n",
      "Instructions for updating:\n",
      "Please use `rate` instead of `keep_prob`. Rate should be set to `rate = 1 - keep_prob`.\n"
     ]
    }
   ],
   "source": [
    "# creating book embedding path\n",
    "book_input = Input(shape=[1], name=\"Book-Input\")\n",
    "book_embedding = Embedding(n_books+1, output_dim=5, name=\"Book-Embedding\")(book_input)\n",
    "\n",
    "# creating user embedding path\n",
    "user_input = Input(shape=[1], name=\"User-Input\")\n",
    "user_embedding = Embedding(n_users+1, output_dim=5, name=\"User-Embedding\")(user_input)\n",
    "\n",
    "# Combine features\n",
    "o = multiply([book_embedding, user_embedding])\n",
    "o = Dropout(0.5)(o)\n",
    "o = Flatten(name=\"Flatten-Embeddings\")(o)\n",
    "\n",
    "# add fully-connected-layers\n",
    "out = Dense(1)(o)\n",
    "\n",
    "# Create model and compile it\n",
    "model1 = Model([user_input, book_input], out)\n",
    "model1.compile(optimizer='adam', loss='mean_squared_error', metrics=['mae'])"
   ]
  },
  {
   "cell_type": "code",
   "execution_count": 17,
   "metadata": {},
   "outputs": [
    {
     "data": {
      "image/svg+xml": [
       "<svg height=\"458pt\" viewBox=\"0.00 0.00 675.71 458.00\" width=\"676pt\" xmlns=\"http://www.w3.org/2000/svg\" xmlns:xlink=\"http://www.w3.org/1999/xlink\">\n",
       "<g class=\"graph\" id=\"graph0\" transform=\"scale(1 1) rotate(0) translate(4 454)\">\n",
       "<title>G</title>\n",
       "<polygon fill=\"#ffffff\" points=\"-4,4 -4,-454 671.7085,-454 671.7085,4 -4,4\" stroke=\"transparent\"/>\n",
       "<!-- 4517183896 -->\n",
       "<g class=\"node\" id=\"node1\">\n",
       "<title>4517183896</title>\n",
       "<polygon fill=\"none\" points=\"25.6724,-405.5 25.6724,-449.5 301.1245,-449.5 301.1245,-405.5 25.6724,-405.5\" stroke=\"#000000\"/>\n",
       "<text fill=\"#000000\" font-family=\"Times,serif\" font-size=\"14.00\" text-anchor=\"middle\" x=\"100.7397\" y=\"-423.3\">Book-Input: InputLayer</text>\n",
       "<polyline fill=\"none\" points=\"175.8071,-405.5 175.8071,-449.5 \" stroke=\"#000000\"/>\n",
       "<text fill=\"#000000\" font-family=\"Times,serif\" font-size=\"14.00\" text-anchor=\"middle\" x=\"203.6416\" y=\"-434.3\">input:</text>\n",
       "<polyline fill=\"none\" points=\"175.8071,-427.5 231.4761,-427.5 \" stroke=\"#000000\"/>\n",
       "<text fill=\"#000000\" font-family=\"Times,serif\" font-size=\"14.00\" text-anchor=\"middle\" x=\"203.6416\" y=\"-412.3\">output:</text>\n",
       "<polyline fill=\"none\" points=\"231.4761,-405.5 231.4761,-449.5 \" stroke=\"#000000\"/>\n",
       "<text fill=\"#000000\" font-family=\"Times,serif\" font-size=\"14.00\" text-anchor=\"middle\" x=\"266.3003\" y=\"-434.3\">(None, 1)</text>\n",
       "<polyline fill=\"none\" points=\"231.4761,-427.5 301.1245,-427.5 \" stroke=\"#000000\"/>\n",
       "<text fill=\"#000000\" font-family=\"Times,serif\" font-size=\"14.00\" text-anchor=\"middle\" x=\"266.3003\" y=\"-412.3\">(None, 1)</text>\n",
       "</g>\n",
       "<!-- 4517184624 -->\n",
       "<g class=\"node\" id=\"node3\">\n",
       "<title>4517184624</title>\n",
       "<polygon fill=\"none\" points=\"0,-324.5 0,-368.5 326.7969,-368.5 326.7969,-324.5 0,-324.5\" stroke=\"#000000\"/>\n",
       "<text fill=\"#000000\" font-family=\"Times,serif\" font-size=\"14.00\" text-anchor=\"middle\" x=\"93.7397\" y=\"-342.3\">Book-Embedding: Embedding</text>\n",
       "<polyline fill=\"none\" points=\"187.4795,-324.5 187.4795,-368.5 \" stroke=\"#000000\"/>\n",
       "<text fill=\"#000000\" font-family=\"Times,serif\" font-size=\"14.00\" text-anchor=\"middle\" x=\"215.314\" y=\"-353.3\">input:</text>\n",
       "<polyline fill=\"none\" points=\"187.4795,-346.5 243.1484,-346.5 \" stroke=\"#000000\"/>\n",
       "<text fill=\"#000000\" font-family=\"Times,serif\" font-size=\"14.00\" text-anchor=\"middle\" x=\"215.314\" y=\"-331.3\">output:</text>\n",
       "<polyline fill=\"none\" points=\"243.1484,-324.5 243.1484,-368.5 \" stroke=\"#000000\"/>\n",
       "<text fill=\"#000000\" font-family=\"Times,serif\" font-size=\"14.00\" text-anchor=\"middle\" x=\"284.9727\" y=\"-353.3\">(None, 1)</text>\n",
       "<polyline fill=\"none\" points=\"243.1484,-346.5 326.7969,-346.5 \" stroke=\"#000000\"/>\n",
       "<text fill=\"#000000\" font-family=\"Times,serif\" font-size=\"14.00\" text-anchor=\"middle\" x=\"284.9727\" y=\"-331.3\">(None, 1, 5)</text>\n",
       "</g>\n",
       "<!-- 4517183896&#45;&gt;4517184624 -->\n",
       "<g class=\"edge\" id=\"edge1\">\n",
       "<title>4517183896-&gt;4517184624</title>\n",
       "<path d=\"M163.3984,-405.3664C163.3984,-397.1516 163.3984,-387.6579 163.3984,-378.7252\" fill=\"none\" stroke=\"#000000\"/>\n",
       "<polygon fill=\"#000000\" points=\"166.8985,-378.6068 163.3984,-368.6068 159.8985,-378.6069 166.8985,-378.6068\" stroke=\"#000000\"/>\n",
       "</g>\n",
       "<!-- 4517184456 -->\n",
       "<g class=\"node\" id=\"node2\">\n",
       "<title>4517184456</title>\n",
       "<polygon fill=\"none\" points=\"370.7607,-405.5 370.7607,-449.5 642.0361,-449.5 642.0361,-405.5 370.7607,-405.5\" stroke=\"#000000\"/>\n",
       "<text fill=\"#000000\" font-family=\"Times,serif\" font-size=\"14.00\" text-anchor=\"middle\" x=\"443.7397\" y=\"-423.3\">User-Input: InputLayer</text>\n",
       "<polyline fill=\"none\" points=\"516.7188,-405.5 516.7188,-449.5 \" stroke=\"#000000\"/>\n",
       "<text fill=\"#000000\" font-family=\"Times,serif\" font-size=\"14.00\" text-anchor=\"middle\" x=\"544.5532\" y=\"-434.3\">input:</text>\n",
       "<polyline fill=\"none\" points=\"516.7188,-427.5 572.3877,-427.5 \" stroke=\"#000000\"/>\n",
       "<text fill=\"#000000\" font-family=\"Times,serif\" font-size=\"14.00\" text-anchor=\"middle\" x=\"544.5532\" y=\"-412.3\">output:</text>\n",
       "<polyline fill=\"none\" points=\"572.3877,-405.5 572.3877,-449.5 \" stroke=\"#000000\"/>\n",
       "<text fill=\"#000000\" font-family=\"Times,serif\" font-size=\"14.00\" text-anchor=\"middle\" x=\"607.2119\" y=\"-434.3\">(None, 1)</text>\n",
       "<polyline fill=\"none\" points=\"572.3877,-427.5 642.0361,-427.5 \" stroke=\"#000000\"/>\n",
       "<text fill=\"#000000\" font-family=\"Times,serif\" font-size=\"14.00\" text-anchor=\"middle\" x=\"607.2119\" y=\"-412.3\">(None, 1)</text>\n",
       "</g>\n",
       "<!-- 4517184400 -->\n",
       "<g class=\"node\" id=\"node4\">\n",
       "<title>4517184400</title>\n",
       "<polygon fill=\"none\" points=\"345.0884,-324.5 345.0884,-368.5 667.7085,-368.5 667.7085,-324.5 345.0884,-324.5\" stroke=\"#000000\"/>\n",
       "<text fill=\"#000000\" font-family=\"Times,serif\" font-size=\"14.00\" text-anchor=\"middle\" x=\"436.7397\" y=\"-342.3\">User-Embedding: Embedding</text>\n",
       "<polyline fill=\"none\" points=\"528.3911,-324.5 528.3911,-368.5 \" stroke=\"#000000\"/>\n",
       "<text fill=\"#000000\" font-family=\"Times,serif\" font-size=\"14.00\" text-anchor=\"middle\" x=\"556.2256\" y=\"-353.3\">input:</text>\n",
       "<polyline fill=\"none\" points=\"528.3911,-346.5 584.0601,-346.5 \" stroke=\"#000000\"/>\n",
       "<text fill=\"#000000\" font-family=\"Times,serif\" font-size=\"14.00\" text-anchor=\"middle\" x=\"556.2256\" y=\"-331.3\">output:</text>\n",
       "<polyline fill=\"none\" points=\"584.0601,-324.5 584.0601,-368.5 \" stroke=\"#000000\"/>\n",
       "<text fill=\"#000000\" font-family=\"Times,serif\" font-size=\"14.00\" text-anchor=\"middle\" x=\"625.8843\" y=\"-353.3\">(None, 1)</text>\n",
       "<polyline fill=\"none\" points=\"584.0601,-346.5 667.7085,-346.5 \" stroke=\"#000000\"/>\n",
       "<text fill=\"#000000\" font-family=\"Times,serif\" font-size=\"14.00\" text-anchor=\"middle\" x=\"625.8843\" y=\"-331.3\">(None, 1, 5)</text>\n",
       "</g>\n",
       "<!-- 4517184456&#45;&gt;4517184400 -->\n",
       "<g class=\"edge\" id=\"edge2\">\n",
       "<title>4517184456-&gt;4517184400</title>\n",
       "<path d=\"M506.3984,-405.3664C506.3984,-397.1516 506.3984,-387.6579 506.3984,-378.7252\" fill=\"none\" stroke=\"#000000\"/>\n",
       "<polygon fill=\"#000000\" points=\"509.8985,-378.6068 506.3984,-368.6068 502.8985,-378.6069 509.8985,-378.6068\" stroke=\"#000000\"/>\n",
       "</g>\n",
       "<!-- 4517186696 -->\n",
       "<g class=\"node\" id=\"node5\">\n",
       "<title>4517186696</title>\n",
       "<polygon fill=\"none\" points=\"155.8311,-243.5 155.8311,-287.5 512.9658,-287.5 512.9658,-243.5 155.8311,-243.5\" stroke=\"#000000\"/>\n",
       "<text fill=\"#000000\" font-family=\"Times,serif\" font-size=\"14.00\" text-anchor=\"middle\" x=\"222.7534\" y=\"-261.3\">multiply_1: Multiply</text>\n",
       "<polyline fill=\"none\" points=\"289.6758,-243.5 289.6758,-287.5 \" stroke=\"#000000\"/>\n",
       "<text fill=\"#000000\" font-family=\"Times,serif\" font-size=\"14.00\" text-anchor=\"middle\" x=\"317.5103\" y=\"-272.3\">input:</text>\n",
       "<polyline fill=\"none\" points=\"289.6758,-265.5 345.3447,-265.5 \" stroke=\"#000000\"/>\n",
       "<text fill=\"#000000\" font-family=\"Times,serif\" font-size=\"14.00\" text-anchor=\"middle\" x=\"317.5103\" y=\"-250.3\">output:</text>\n",
       "<polyline fill=\"none\" points=\"345.3447,-243.5 345.3447,-287.5 \" stroke=\"#000000\"/>\n",
       "<text fill=\"#000000\" font-family=\"Times,serif\" font-size=\"14.00\" text-anchor=\"middle\" x=\"429.1553\" y=\"-272.3\">[(None, 1, 5), (None, 1, 5)]</text>\n",
       "<polyline fill=\"none\" points=\"345.3447,-265.5 512.9658,-265.5 \" stroke=\"#000000\"/>\n",
       "<text fill=\"#000000\" font-family=\"Times,serif\" font-size=\"14.00\" text-anchor=\"middle\" x=\"428.6689\" y=\"-250.3\">(None, 1, 5)</text>\n",
       "</g>\n",
       "<!-- 4517184624&#45;&gt;4517186696 -->\n",
       "<g class=\"edge\" id=\"edge3\">\n",
       "<title>4517184624-&gt;4517186696</title>\n",
       "<path d=\"M210.1249,-324.3664C231.2372,-314.3658 256.3512,-302.4698 278.4584,-291.9979\" fill=\"none\" stroke=\"#000000\"/>\n",
       "<polygon fill=\"#000000\" points=\"280.1894,-295.0508 287.7284,-287.6068 277.1927,-288.7247 280.1894,-295.0508\" stroke=\"#000000\"/>\n",
       "</g>\n",
       "<!-- 4517184400&#45;&gt;4517186696 -->\n",
       "<g class=\"edge\" id=\"edge4\">\n",
       "<title>4517184400-&gt;4517186696</title>\n",
       "<path d=\"M459.3987,-324.3664C438.1629,-314.3658 412.9021,-302.4698 390.6656,-291.9979\" fill=\"none\" stroke=\"#000000\"/>\n",
       "<polygon fill=\"#000000\" points=\"391.8796,-288.701 381.3414,-287.6068 388.8972,-295.0339 391.8796,-288.701\" stroke=\"#000000\"/>\n",
       "</g>\n",
       "<!-- 4517186360 -->\n",
       "<g class=\"node\" id=\"node6\">\n",
       "<title>4517186360</title>\n",
       "<polygon fill=\"none\" points=\"200.938,-162.5 200.938,-206.5 467.8589,-206.5 467.8589,-162.5 200.938,-162.5\" stroke=\"#000000\"/>\n",
       "<text fill=\"#000000\" font-family=\"Times,serif\" font-size=\"14.00\" text-anchor=\"middle\" x=\"264.7397\" y=\"-180.3\">dropout_1: Dropout</text>\n",
       "<polyline fill=\"none\" points=\"328.5415,-162.5 328.5415,-206.5 \" stroke=\"#000000\"/>\n",
       "<text fill=\"#000000\" font-family=\"Times,serif\" font-size=\"14.00\" text-anchor=\"middle\" x=\"356.376\" y=\"-191.3\">input:</text>\n",
       "<polyline fill=\"none\" points=\"328.5415,-184.5 384.2104,-184.5 \" stroke=\"#000000\"/>\n",
       "<text fill=\"#000000\" font-family=\"Times,serif\" font-size=\"14.00\" text-anchor=\"middle\" x=\"356.376\" y=\"-169.3\">output:</text>\n",
       "<polyline fill=\"none\" points=\"384.2104,-162.5 384.2104,-206.5 \" stroke=\"#000000\"/>\n",
       "<text fill=\"#000000\" font-family=\"Times,serif\" font-size=\"14.00\" text-anchor=\"middle\" x=\"426.0347\" y=\"-191.3\">(None, 1, 5)</text>\n",
       "<polyline fill=\"none\" points=\"384.2104,-184.5 467.8589,-184.5 \" stroke=\"#000000\"/>\n",
       "<text fill=\"#000000\" font-family=\"Times,serif\" font-size=\"14.00\" text-anchor=\"middle\" x=\"426.0347\" y=\"-169.3\">(None, 1, 5)</text>\n",
       "</g>\n",
       "<!-- 4517186696&#45;&gt;4517186360 -->\n",
       "<g class=\"edge\" id=\"edge5\">\n",
       "<title>4517186696-&gt;4517186360</title>\n",
       "<path d=\"M334.3984,-243.3664C334.3984,-235.1516 334.3984,-225.6579 334.3984,-216.7252\" fill=\"none\" stroke=\"#000000\"/>\n",
       "<polygon fill=\"#000000\" points=\"337.8985,-216.6068 334.3984,-206.6068 330.8985,-216.6069 337.8985,-216.6068\" stroke=\"#000000\"/>\n",
       "</g>\n",
       "<!-- 4517186920 -->\n",
       "<g class=\"node\" id=\"node7\">\n",
       "<title>4517186920</title>\n",
       "<polygon fill=\"none\" points=\"176.8345,-81.5 176.8345,-125.5 491.9624,-125.5 491.9624,-81.5 176.8345,-81.5\" stroke=\"#000000\"/>\n",
       "<text fill=\"#000000\" font-family=\"Times,serif\" font-size=\"14.00\" text-anchor=\"middle\" x=\"264.7397\" y=\"-99.3\">Flatten-Embeddings: Flatten</text>\n",
       "<polyline fill=\"none\" points=\"352.645,-81.5 352.645,-125.5 \" stroke=\"#000000\"/>\n",
       "<text fill=\"#000000\" font-family=\"Times,serif\" font-size=\"14.00\" text-anchor=\"middle\" x=\"380.4795\" y=\"-110.3\">input:</text>\n",
       "<polyline fill=\"none\" points=\"352.645,-103.5 408.314,-103.5 \" stroke=\"#000000\"/>\n",
       "<text fill=\"#000000\" font-family=\"Times,serif\" font-size=\"14.00\" text-anchor=\"middle\" x=\"380.4795\" y=\"-88.3\">output:</text>\n",
       "<polyline fill=\"none\" points=\"408.314,-81.5 408.314,-125.5 \" stroke=\"#000000\"/>\n",
       "<text fill=\"#000000\" font-family=\"Times,serif\" font-size=\"14.00\" text-anchor=\"middle\" x=\"450.1382\" y=\"-110.3\">(None, 1, 5)</text>\n",
       "<polyline fill=\"none\" points=\"408.314,-103.5 491.9624,-103.5 \" stroke=\"#000000\"/>\n",
       "<text fill=\"#000000\" font-family=\"Times,serif\" font-size=\"14.00\" text-anchor=\"middle\" x=\"450.1382\" y=\"-88.3\">(None, 5)</text>\n",
       "</g>\n",
       "<!-- 4517186360&#45;&gt;4517186920 -->\n",
       "<g class=\"edge\" id=\"edge6\">\n",
       "<title>4517186360-&gt;4517186920</title>\n",
       "<path d=\"M334.3984,-162.3664C334.3984,-154.1516 334.3984,-144.6579 334.3984,-135.7252\" fill=\"none\" stroke=\"#000000\"/>\n",
       "<polygon fill=\"#000000\" points=\"337.8985,-135.6068 334.3984,-125.6068 330.8985,-135.6069 337.8985,-135.6068\" stroke=\"#000000\"/>\n",
       "</g>\n",
       "<!-- 4517186808 -->\n",
       "<g class=\"node\" id=\"node8\">\n",
       "<title>4517186808</title>\n",
       "<polygon fill=\"none\" points=\"219.6138,-.5 219.6138,-44.5 449.1831,-44.5 449.1831,-.5 219.6138,-.5\" stroke=\"#000000\"/>\n",
       "<text fill=\"#000000\" font-family=\"Times,serif\" font-size=\"14.00\" text-anchor=\"middle\" x=\"271.7397\" y=\"-18.3\">dense_1: Dense</text>\n",
       "<polyline fill=\"none\" points=\"323.8657,-.5 323.8657,-44.5 \" stroke=\"#000000\"/>\n",
       "<text fill=\"#000000\" font-family=\"Times,serif\" font-size=\"14.00\" text-anchor=\"middle\" x=\"351.7002\" y=\"-29.3\">input:</text>\n",
       "<polyline fill=\"none\" points=\"323.8657,-22.5 379.5347,-22.5 \" stroke=\"#000000\"/>\n",
       "<text fill=\"#000000\" font-family=\"Times,serif\" font-size=\"14.00\" text-anchor=\"middle\" x=\"351.7002\" y=\"-7.3\">output:</text>\n",
       "<polyline fill=\"none\" points=\"379.5347,-.5 379.5347,-44.5 \" stroke=\"#000000\"/>\n",
       "<text fill=\"#000000\" font-family=\"Times,serif\" font-size=\"14.00\" text-anchor=\"middle\" x=\"414.3589\" y=\"-29.3\">(None, 5)</text>\n",
       "<polyline fill=\"none\" points=\"379.5347,-22.5 449.1831,-22.5 \" stroke=\"#000000\"/>\n",
       "<text fill=\"#000000\" font-family=\"Times,serif\" font-size=\"14.00\" text-anchor=\"middle\" x=\"414.3589\" y=\"-7.3\">(None, 1)</text>\n",
       "</g>\n",
       "<!-- 4517186920&#45;&gt;4517186808 -->\n",
       "<g class=\"edge\" id=\"edge7\">\n",
       "<title>4517186920-&gt;4517186808</title>\n",
       "<path d=\"M334.3984,-81.3664C334.3984,-73.1516 334.3984,-63.6579 334.3984,-54.7252\" fill=\"none\" stroke=\"#000000\"/>\n",
       "<polygon fill=\"#000000\" points=\"337.8985,-54.6068 334.3984,-44.6068 330.8985,-54.6069 337.8985,-54.6068\" stroke=\"#000000\"/>\n",
       "</g>\n",
       "</g>\n",
       "</svg>"
      ],
      "text/plain": [
       "<IPython.core.display.SVG object>"
      ]
     },
     "execution_count": 17,
     "metadata": {},
     "output_type": "execute_result"
    }
   ],
   "source": [
    "# Model visualization\n",
    "SVG(model_to_dot(model1, show_shapes=True).create(prog='dot', format='svg'))"
   ]
  },
  {
   "cell_type": "code",
   "execution_count": 18,
   "metadata": {},
   "outputs": [
    {
     "name": "stdout",
     "output_type": "stream",
     "text": [
      "Epoch 1/5\n",
      "785404/785404 [==============================] - 53s 67us/step - loss: 1.8725 - mean_absolute_error: 1.0312\n",
      "Epoch 2/5\n",
      "785404/785404 [==============================] - 52s 66us/step - loss: 0.9227 - mean_absolute_error: 0.7654\n",
      "Epoch 3/5\n",
      "785404/785404 [==============================] - 53s 68us/step - loss: 0.8629 - mean_absolute_error: 0.7350\n",
      "Epoch 4/5\n",
      "785404/785404 [==============================] - 62s 79us/step - loss: 0.8246 - mean_absolute_error: 0.7143\n",
      "Epoch 5/5\n",
      "785404/785404 [==============================] - 54s 69us/step - loss: 0.7979 - mean_absolute_error: 0.6999\n"
     ]
    },
    {
     "data": {
      "image/png": "[encoded data removed]",
      "text/plain": [
       "<Figure size 432x288 with 1 Axes>"
      ]
     },
     "metadata": {},
     "output_type": "display_data"
    }
   ],
   "source": [
    "model1 = train_and_save(model1, 'model1.h5')"
   ]
  },
  {
   "cell_type": "code",
   "execution_count": 20,
   "metadata": {},
   "outputs": [
    {
     "data": {
      "text/plain": [
       "['mse, mae']"
      ]
     },
     "metadata": {},
     "output_type": "display_data"
    },
    {
     "data": {
      "text/plain": [
       "'Dot_product'"
      ]
     },
     "metadata": {},
     "output_type": "display_data"
    },
    {
     "name": "stdout",
     "output_type": "stream",
     "text": [
      "196352/196352 [==============================] - 2s 10us/step\n"
     ]
    },
    {
     "data": {
      "text/plain": [
       "[1.1218068912295038, 0.7770441920245176]"
      ]
     },
     "metadata": {},
     "output_type": "display_data"
    },
    {
     "name": "stdout",
     "output_type": "stream",
     "text": [
      "model 1\n",
      "196352/196352 [==============================] - 2s 10us/step\n"
     ]
    },
    {
     "data": {
      "text/plain": [
       "[0.8386083249551531, 0.7261866005052566]"
      ]
     },
     "metadata": {},
     "output_type": "display_data"
    },
    {
     "name": "stdout",
     "output_type": "stream",
     "text": [
      "predicted actual\n",
      "[4.455324] 5\n",
      "[3.721556] 4\n",
      "[4.010911] 3\n",
      "[3.9443326] 5\n",
      "[3.4590263] 3\n",
      "[4.0319667] 3\n",
      "[3.5645003] 3\n",
      "[3.980524] 4\n",
      "[4.025294] 3\n",
      "[3.9859614] 5\n"
     ]
    },
    {
     "data": {
      "text/plain": [
       "[None, None, None, None, None, None, None, None, None, None]"
      ]
     },
     "execution_count": 20,
     "metadata": {},
     "output_type": "execute_result"
    }
   ],
   "source": [
    "# Evaluate model\n",
    "display(['mse, mae'])\n",
    "display(\"Dot_product\")\n",
    "display(model.evaluate([test.user_id, test.book_id], test.rating))\n",
    "print('model 1')\n",
    "display(model1.evaluate([test.user_id, test.book_id], test.rating))\n",
    "\n",
    "\n",
    "# make prediction\n",
    "predictions = model1.predict([test.user_id.head(10), test.book_id.head(10)])\n",
    "print('predicted', 'actual')\n",
    "[print(predictions[i], test.rating.iloc[i]) for i in range(0, 10)]\n"
   ]
  },
  {
   "cell_type": "markdown",
   "metadata": {},
   "source": [
    "### Model 2 \n",
    "Add bias that a user might have in giving consistently high scores to every book he read or a book having consistently bad scores for all users.\n",
    "\n",
    "<img src=\"../data/books_dataset/images/model2.png\" alt=\"Model 2\" style=\"width: 500px;\" />"
   ]
  },
  {
   "cell_type": "code",
   "execution_count": 21,
   "metadata": {},
   "outputs": [],
   "source": [
    "bias = 1\n",
    "\n",
    "# creating book embedding path\n",
    "book_input = Input(shape=[1], name=\"Book-Input\")\n",
    "book_embedding = Embedding(n_books+1, output_dim=5, name=\"Book-Embedding\")(book_input)\n",
    "book_bias = Embedding(n_books+1, bias, name=\"Book-Bias-Embedding\")(book_input)\n",
    "\n",
    "# creating user embedding path\n",
    "user_input = Input(shape=[1], name=\"User-Input\")\n",
    "user_embedding = Embedding(n_users+1, output_dim=5, name=\"User-Embedding\")(user_input)\n",
    "user_bias = Embedding(n_users+1, bias, name=\"User-Bias-Embedding\")(user_input)\n",
    "\n",
    "# Combine features\n",
    "o = multiply([book_embedding, user_embedding])\n",
    "o = concatenate([o, book_bias, user_bias])\n",
    "o = Dropout(0.5)(o)\n",
    "o = Flatten(name=\"Flatten-Features\")(o)\n",
    "\n",
    "# add fully-connected-layers\n",
    "out = Dense(1)(o)\n",
    "\n",
    "# Create model and compile it\n",
    "model2 = Model([user_input, book_input], out)\n",
    "model2.compile(optimizer='adam', loss='mean_squared_error', metrics=['mae'])"
   ]
  },
  {
   "cell_type": "code",
   "execution_count": 22,
   "metadata": {},
   "outputs": [
    {
     "data": {
      "image/svg+xml": [
       "<svg height=\"539pt\" viewBox=\"0.00 0.00 1110.26 539.00\" width=\"1110pt\" xmlns=\"http://www.w3.org/2000/svg\" xmlns:xlink=\"http://www.w3.org/1999/xlink\">\n",
       "<g class=\"graph\" id=\"graph0\" transform=\"scale(1 1) rotate(0) translate(4 535)\">\n",
       "<title>G</title>\n",
       "<polygon fill=\"#ffffff\" points=\"-4,4 -4,-535 1106.2603,-535 1106.2603,4 -4,4\" stroke=\"transparent\"/>\n",
       "<!-- 4347949240 -->\n",
       "<g class=\"node\" id=\"node1\">\n",
       "<title>4347949240</title>\n",
       "<polygon fill=\"none\" points=\"154.4482,-486.5 154.4482,-530.5 429.9004,-530.5 429.9004,-486.5 154.4482,-486.5\" stroke=\"#000000\"/>\n",
       "<text fill=\"#000000\" font-family=\"Times,serif\" font-size=\"14.00\" text-anchor=\"middle\" x=\"229.5156\" y=\"-504.3\">Book-Input: InputLayer</text>\n",
       "<polyline fill=\"none\" points=\"304.583,-486.5 304.583,-530.5 \" stroke=\"#000000\"/>\n",
       "<text fill=\"#000000\" font-family=\"Times,serif\" font-size=\"14.00\" text-anchor=\"middle\" x=\"332.4175\" y=\"-515.3\">input:</text>\n",
       "<polyline fill=\"none\" points=\"304.583,-508.5 360.252,-508.5 \" stroke=\"#000000\"/>\n",
       "<text fill=\"#000000\" font-family=\"Times,serif\" font-size=\"14.00\" text-anchor=\"middle\" x=\"332.4175\" y=\"-493.3\">output:</text>\n",
       "<polyline fill=\"none\" points=\"360.252,-486.5 360.252,-530.5 \" stroke=\"#000000\"/>\n",
       "<text fill=\"#000000\" font-family=\"Times,serif\" font-size=\"14.00\" text-anchor=\"middle\" x=\"395.0762\" y=\"-515.3\">(None, 1)</text>\n",
       "<polyline fill=\"none\" points=\"360.252,-508.5 429.9004,-508.5 \" stroke=\"#000000\"/>\n",
       "<text fill=\"#000000\" font-family=\"Times,serif\" font-size=\"14.00\" text-anchor=\"middle\" x=\"395.0762\" y=\"-493.3\">(None, 1)</text>\n",
       "</g>\n",
       "<!-- 4347953104 -->\n",
       "<g class=\"node\" id=\"node3\">\n",
       "<title>4347953104</title>\n",
       "<polygon fill=\"none\" points=\"223.7759,-405.5 223.7759,-449.5 550.5728,-449.5 550.5728,-405.5 223.7759,-405.5\" stroke=\"#000000\"/>\n",
       "<text fill=\"#000000\" font-family=\"Times,serif\" font-size=\"14.00\" text-anchor=\"middle\" x=\"317.5156\" y=\"-423.3\">Book-Embedding: Embedding</text>\n",
       "<polyline fill=\"none\" points=\"411.2554,-405.5 411.2554,-449.5 \" stroke=\"#000000\"/>\n",
       "<text fill=\"#000000\" font-family=\"Times,serif\" font-size=\"14.00\" text-anchor=\"middle\" x=\"439.0898\" y=\"-434.3\">input:</text>\n",
       "<polyline fill=\"none\" points=\"411.2554,-427.5 466.9243,-427.5 \" stroke=\"#000000\"/>\n",
       "<text fill=\"#000000\" font-family=\"Times,serif\" font-size=\"14.00\" text-anchor=\"middle\" x=\"439.0898\" y=\"-412.3\">output:</text>\n",
       "<polyline fill=\"none\" points=\"466.9243,-405.5 466.9243,-449.5 \" stroke=\"#000000\"/>\n",
       "<text fill=\"#000000\" font-family=\"Times,serif\" font-size=\"14.00\" text-anchor=\"middle\" x=\"508.7485\" y=\"-434.3\">(None, 1)</text>\n",
       "<polyline fill=\"none\" points=\"466.9243,-427.5 550.5728,-427.5 \" stroke=\"#000000\"/>\n",
       "<text fill=\"#000000\" font-family=\"Times,serif\" font-size=\"14.00\" text-anchor=\"middle\" x=\"508.7485\" y=\"-412.3\">(None, 1, 5)</text>\n",
       "</g>\n",
       "<!-- 4347949240&#45;&gt;4347953104 -->\n",
       "<g class=\"edge\" id=\"edge1\">\n",
       "<title>4347949240-&gt;4347953104</title>\n",
       "<path d=\"M318.1335,-486.3664C329.0247,-477.0802 341.8329,-466.1595 353.4406,-456.2625\" fill=\"none\" stroke=\"#000000\"/>\n",
       "<polygon fill=\"#000000\" points=\"355.9079,-458.7583 361.2465,-449.6068 351.3662,-453.4316 355.9079,-458.7583\" stroke=\"#000000\"/>\n",
       "</g>\n",
       "<!-- 4347952320 -->\n",
       "<g class=\"node\" id=\"node6\">\n",
       "<title>4347952320</title>\n",
       "<polygon fill=\"none\" points=\"0,-324.5 0,-368.5 356.3486,-368.5 356.3486,-324.5 0,-324.5\" stroke=\"#000000\"/>\n",
       "<text fill=\"#000000\" font-family=\"Times,serif\" font-size=\"14.00\" text-anchor=\"middle\" x=\"108.5156\" y=\"-342.3\">Book-Bias-Embedding: Embedding</text>\n",
       "<polyline fill=\"none\" points=\"217.0313,-324.5 217.0313,-368.5 \" stroke=\"#000000\"/>\n",
       "<text fill=\"#000000\" font-family=\"Times,serif\" font-size=\"14.00\" text-anchor=\"middle\" x=\"244.8657\" y=\"-353.3\">input:</text>\n",
       "<polyline fill=\"none\" points=\"217.0313,-346.5 272.7002,-346.5 \" stroke=\"#000000\"/>\n",
       "<text fill=\"#000000\" font-family=\"Times,serif\" font-size=\"14.00\" text-anchor=\"middle\" x=\"244.8657\" y=\"-331.3\">output:</text>\n",
       "<polyline fill=\"none\" points=\"272.7002,-324.5 272.7002,-368.5 \" stroke=\"#000000\"/>\n",
       "<text fill=\"#000000\" font-family=\"Times,serif\" font-size=\"14.00\" text-anchor=\"middle\" x=\"314.5244\" y=\"-353.3\">(None, 1)</text>\n",
       "<polyline fill=\"none\" points=\"272.7002,-346.5 356.3486,-346.5 \" stroke=\"#000000\"/>\n",
       "<text fill=\"#000000\" font-family=\"Times,serif\" font-size=\"14.00\" text-anchor=\"middle\" x=\"314.5244\" y=\"-331.3\">(None, 1, 1)</text>\n",
       "</g>\n",
       "<!-- 4347949240&#45;&gt;4347952320 -->\n",
       "<g class=\"edge\" id=\"edge5\">\n",
       "<title>4347949240-&gt;4347952320</title>\n",
       "<path d=\"M254.2816,-486.2941C240.4165,-476.6175 225.5912,-464.2209 215.1743,-450 199.5988,-428.7367 190.0596,-400.2883 184.5772,-378.5982\" fill=\"none\" stroke=\"#000000\"/>\n",
       "<polygon fill=\"#000000\" points=\"187.9805,-377.781 182.2698,-368.8569 181.169,-379.3944 187.9805,-377.781\" stroke=\"#000000\"/>\n",
       "</g>\n",
       "<!-- 4347952432 -->\n",
       "<g class=\"node\" id=\"node2\">\n",
       "<title>4347952432</title>\n",
       "<polygon fill=\"none\" points=\"692.5366,-486.5 692.5366,-530.5 963.812,-530.5 963.812,-486.5 692.5366,-486.5\" stroke=\"#000000\"/>\n",
       "<text fill=\"#000000\" font-family=\"Times,serif\" font-size=\"14.00\" text-anchor=\"middle\" x=\"765.5156\" y=\"-504.3\">User-Input: InputLayer</text>\n",
       "<polyline fill=\"none\" points=\"838.4946,-486.5 838.4946,-530.5 \" stroke=\"#000000\"/>\n",
       "<text fill=\"#000000\" font-family=\"Times,serif\" font-size=\"14.00\" text-anchor=\"middle\" x=\"866.3291\" y=\"-515.3\">input:</text>\n",
       "<polyline fill=\"none\" points=\"838.4946,-508.5 894.1636,-508.5 \" stroke=\"#000000\"/>\n",
       "<text fill=\"#000000\" font-family=\"Times,serif\" font-size=\"14.00\" text-anchor=\"middle\" x=\"866.3291\" y=\"-493.3\">output:</text>\n",
       "<polyline fill=\"none\" points=\"894.1636,-486.5 894.1636,-530.5 \" stroke=\"#000000\"/>\n",
       "<text fill=\"#000000\" font-family=\"Times,serif\" font-size=\"14.00\" text-anchor=\"middle\" x=\"928.9878\" y=\"-515.3\">(None, 1)</text>\n",
       "<polyline fill=\"none\" points=\"894.1636,-508.5 963.812,-508.5 \" stroke=\"#000000\"/>\n",
       "<text fill=\"#000000\" font-family=\"Times,serif\" font-size=\"14.00\" text-anchor=\"middle\" x=\"928.9878\" y=\"-493.3\">(None, 1)</text>\n",
       "</g>\n",
       "<!-- 4347952264 -->\n",
       "<g class=\"node\" id=\"node4\">\n",
       "<title>4347952264</title>\n",
       "<polygon fill=\"none\" points=\"571.8643,-405.5 571.8643,-449.5 894.4844,-449.5 894.4844,-405.5 571.8643,-405.5\" stroke=\"#000000\"/>\n",
       "<text fill=\"#000000\" font-family=\"Times,serif\" font-size=\"14.00\" text-anchor=\"middle\" x=\"663.5156\" y=\"-423.3\">User-Embedding: Embedding</text>\n",
       "<polyline fill=\"none\" points=\"755.167,-405.5 755.167,-449.5 \" stroke=\"#000000\"/>\n",
       "<text fill=\"#000000\" font-family=\"Times,serif\" font-size=\"14.00\" text-anchor=\"middle\" x=\"783.0015\" y=\"-434.3\">input:</text>\n",
       "<polyline fill=\"none\" points=\"755.167,-427.5 810.8359,-427.5 \" stroke=\"#000000\"/>\n",
       "<text fill=\"#000000\" font-family=\"Times,serif\" font-size=\"14.00\" text-anchor=\"middle\" x=\"783.0015\" y=\"-412.3\">output:</text>\n",
       "<polyline fill=\"none\" points=\"810.8359,-405.5 810.8359,-449.5 \" stroke=\"#000000\"/>\n",
       "<text fill=\"#000000\" font-family=\"Times,serif\" font-size=\"14.00\" text-anchor=\"middle\" x=\"852.6602\" y=\"-434.3\">(None, 1)</text>\n",
       "<polyline fill=\"none\" points=\"810.8359,-427.5 894.4844,-427.5 \" stroke=\"#000000\"/>\n",
       "<text fill=\"#000000\" font-family=\"Times,serif\" font-size=\"14.00\" text-anchor=\"middle\" x=\"852.6602\" y=\"-412.3\">(None, 1, 5)</text>\n",
       "</g>\n",
       "<!-- 4347952432&#45;&gt;4347952264 -->\n",
       "<g class=\"edge\" id=\"edge2\">\n",
       "<title>4347952432-&gt;4347952264</title>\n",
       "<path d=\"M802.2151,-486.3664C791.3239,-477.0802 778.5157,-466.1595 766.9081,-456.2625\" fill=\"none\" stroke=\"#000000\"/>\n",
       "<polygon fill=\"#000000\" points=\"768.9825,-453.4316 759.1021,-449.6068 764.4408,-458.7583 768.9825,-453.4316\" stroke=\"#000000\"/>\n",
       "</g>\n",
       "<!-- 4347951256 -->\n",
       "<g class=\"node\" id=\"node7\">\n",
       "<title>4347951256</title>\n",
       "<polygon fill=\"none\" points=\"750.0884,-324.5 750.0884,-368.5 1102.2603,-368.5 1102.2603,-324.5 750.0884,-324.5\" stroke=\"#000000\"/>\n",
       "<text fill=\"#000000\" font-family=\"Times,serif\" font-size=\"14.00\" text-anchor=\"middle\" x=\"856.5156\" y=\"-342.3\">User-Bias-Embedding: Embedding</text>\n",
       "<polyline fill=\"none\" points=\"962.9429,-324.5 962.9429,-368.5 \" stroke=\"#000000\"/>\n",
       "<text fill=\"#000000\" font-family=\"Times,serif\" font-size=\"14.00\" text-anchor=\"middle\" x=\"990.7773\" y=\"-353.3\">input:</text>\n",
       "<polyline fill=\"none\" points=\"962.9429,-346.5 1018.6118,-346.5 \" stroke=\"#000000\"/>\n",
       "<text fill=\"#000000\" font-family=\"Times,serif\" font-size=\"14.00\" text-anchor=\"middle\" x=\"990.7773\" y=\"-331.3\">output:</text>\n",
       "<polyline fill=\"none\" points=\"1018.6118,-324.5 1018.6118,-368.5 \" stroke=\"#000000\"/>\n",
       "<text fill=\"#000000\" font-family=\"Times,serif\" font-size=\"14.00\" text-anchor=\"middle\" x=\"1060.436\" y=\"-353.3\">(None, 1)</text>\n",
       "<polyline fill=\"none\" points=\"1018.6118,-346.5 1102.2603,-346.5 \" stroke=\"#000000\"/>\n",
       "<text fill=\"#000000\" font-family=\"Times,serif\" font-size=\"14.00\" text-anchor=\"middle\" x=\"1060.436\" y=\"-331.3\">(None, 1, 1)</text>\n",
       "</g>\n",
       "<!-- 4347952432&#45;&gt;4347951256 -->\n",
       "<g class=\"edge\" id=\"edge6\">\n",
       "<title>4347952432-&gt;4347951256</title>\n",
       "<path d=\"M866.3953,-486.4748C879.9026,-476.8955 894.0006,-464.5185 903.1743,-450 916.6939,-428.6037 922.3257,-400.3333 924.6427,-378.7457\" fill=\"none\" stroke=\"#000000\"/>\n",
       "<polygon fill=\"#000000\" points=\"928.1324,-379.0156 925.5339,-368.7444 921.16,-378.3942 928.1324,-379.0156\" stroke=\"#000000\"/>\n",
       "</g>\n",
       "<!-- 4347950864 -->\n",
       "<g class=\"node\" id=\"node5\">\n",
       "<title>4347950864</title>\n",
       "<polygon fill=\"none\" points=\"374.6069,-324.5 374.6069,-368.5 731.7417,-368.5 731.7417,-324.5 374.6069,-324.5\" stroke=\"#000000\"/>\n",
       "<text fill=\"#000000\" font-family=\"Times,serif\" font-size=\"14.00\" text-anchor=\"middle\" x=\"441.5293\" y=\"-342.3\">multiply_2: Multiply</text>\n",
       "<polyline fill=\"none\" points=\"508.4517,-324.5 508.4517,-368.5 \" stroke=\"#000000\"/>\n",
       "<text fill=\"#000000\" font-family=\"Times,serif\" font-size=\"14.00\" text-anchor=\"middle\" x=\"536.2861\" y=\"-353.3\">input:</text>\n",
       "<polyline fill=\"none\" points=\"508.4517,-346.5 564.1206,-346.5 \" stroke=\"#000000\"/>\n",
       "<text fill=\"#000000\" font-family=\"Times,serif\" font-size=\"14.00\" text-anchor=\"middle\" x=\"536.2861\" y=\"-331.3\">output:</text>\n",
       "<polyline fill=\"none\" points=\"564.1206,-324.5 564.1206,-368.5 \" stroke=\"#000000\"/>\n",
       "<text fill=\"#000000\" font-family=\"Times,serif\" font-size=\"14.00\" text-anchor=\"middle\" x=\"647.9312\" y=\"-353.3\">[(None, 1, 5), (None, 1, 5)]</text>\n",
       "<polyline fill=\"none\" points=\"564.1206,-346.5 731.7417,-346.5 \" stroke=\"#000000\"/>\n",
       "<text fill=\"#000000\" font-family=\"Times,serif\" font-size=\"14.00\" text-anchor=\"middle\" x=\"647.4448\" y=\"-331.3\">(None, 1, 5)</text>\n",
       "</g>\n",
       "<!-- 4347953104&#45;&gt;4347950864 -->\n",
       "<g class=\"edge\" id=\"edge3\">\n",
       "<title>4347953104-&gt;4347950864</title>\n",
       "<path d=\"M432.5345,-405.3664C453.0295,-395.3658 477.4091,-383.4698 498.87,-372.9979\" fill=\"none\" stroke=\"#000000\"/>\n",
       "<polygon fill=\"#000000\" points=\"500.4166,-376.1377 507.8689,-368.6068 497.3469,-369.8467 500.4166,-376.1377\" stroke=\"#000000\"/>\n",
       "</g>\n",
       "<!-- 4347952264&#45;&gt;4347950864 -->\n",
       "<g class=\"edge\" id=\"edge4\">\n",
       "<title>4347952264-&gt;4347950864</title>\n",
       "<path d=\"M683.9885,-405.3664C661.5666,-395.2765 634.8569,-383.2572 611.436,-372.7177\" fill=\"none\" stroke=\"#000000\"/>\n",
       "<polygon fill=\"#000000\" points=\"612.8562,-369.5188 602.3006,-368.6068 609.9836,-375.9023 612.8562,-369.5188\" stroke=\"#000000\"/>\n",
       "</g>\n",
       "<!-- 4347950976 -->\n",
       "<g class=\"node\" id=\"node8\">\n",
       "<title>4347950976</title>\n",
       "<polygon fill=\"none\" points=\"317.8857,-243.5 317.8857,-287.5 788.4629,-287.5 788.4629,-243.5 317.8857,-243.5\" stroke=\"#000000\"/>\n",
       "<text fill=\"#000000\" font-family=\"Times,serif\" font-size=\"14.00\" text-anchor=\"middle\" x=\"404.2051\" y=\"-261.3\">concatenate_1: Concatenate</text>\n",
       "<polyline fill=\"none\" points=\"490.5244,-243.5 490.5244,-287.5 \" stroke=\"#000000\"/>\n",
       "<text fill=\"#000000\" font-family=\"Times,serif\" font-size=\"14.00\" text-anchor=\"middle\" x=\"518.3589\" y=\"-272.3\">input:</text>\n",
       "<polyline fill=\"none\" points=\"490.5244,-265.5 546.1934,-265.5 \" stroke=\"#000000\"/>\n",
       "<text fill=\"#000000\" font-family=\"Times,serif\" font-size=\"14.00\" text-anchor=\"middle\" x=\"518.3589\" y=\"-250.3\">output:</text>\n",
       "<polyline fill=\"none\" points=\"546.1934,-243.5 546.1934,-287.5 \" stroke=\"#000000\"/>\n",
       "<text fill=\"#000000\" font-family=\"Times,serif\" font-size=\"14.00\" text-anchor=\"middle\" x=\"667.3281\" y=\"-272.3\">[(None, 1, 5), (None, 1, 1), (None, 1, 1)]</text>\n",
       "<polyline fill=\"none\" points=\"546.1934,-265.5 788.4629,-265.5 \" stroke=\"#000000\"/>\n",
       "<text fill=\"#000000\" font-family=\"Times,serif\" font-size=\"14.00\" text-anchor=\"middle\" x=\"667.0176\" y=\"-250.3\">(None, 1, 7)</text>\n",
       "</g>\n",
       "<!-- 4347950864&#45;&gt;4347950976 -->\n",
       "<g class=\"edge\" id=\"edge7\">\n",
       "<title>4347950864-&gt;4347950976</title>\n",
       "<path d=\"M553.1743,-324.3664C553.1743,-316.1516 553.1743,-306.6579 553.1743,-297.7252\" fill=\"none\" stroke=\"#000000\"/>\n",
       "<polygon fill=\"#000000\" points=\"556.6744,-297.6068 553.1743,-287.6068 549.6744,-297.6069 556.6744,-297.6068\" stroke=\"#000000\"/>\n",
       "</g>\n",
       "<!-- 4347952320&#45;&gt;4347950976 -->\n",
       "<g class=\"edge\" id=\"edge8\">\n",
       "<title>4347952320-&gt;4347950976</title>\n",
       "<path d=\"M280.1494,-324.4734C329.9651,-313.7132 390.0314,-300.7389 441.126,-289.7024\" fill=\"none\" stroke=\"#000000\"/>\n",
       "<polygon fill=\"#000000\" points=\"442.184,-293.0547 451.2196,-287.5222 440.706,-286.2125 442.184,-293.0547\" stroke=\"#000000\"/>\n",
       "</g>\n",
       "<!-- 4347951256&#45;&gt;4347950976 -->\n",
       "<g class=\"edge\" id=\"edge9\">\n",
       "<title>4347951256-&gt;4347950976</title>\n",
       "<path d=\"M824.7431,-324.4734C775.1931,-313.7132 715.4471,-300.7389 664.6251,-289.7024\" fill=\"none\" stroke=\"#000000\"/>\n",
       "<polygon fill=\"#000000\" points=\"665.1003,-286.2241 654.5853,-287.5222 663.6148,-293.0647 665.1003,-286.2241\" stroke=\"#000000\"/>\n",
       "</g>\n",
       "<!-- 4347987728 -->\n",
       "<g class=\"node\" id=\"node9\">\n",
       "<title>4347987728</title>\n",
       "<polygon fill=\"none\" points=\"419.7139,-162.5 419.7139,-206.5 686.6348,-206.5 686.6348,-162.5 419.7139,-162.5\" stroke=\"#000000\"/>\n",
       "<text fill=\"#000000\" font-family=\"Times,serif\" font-size=\"14.00\" text-anchor=\"middle\" x=\"483.5156\" y=\"-180.3\">dropout_2: Dropout</text>\n",
       "<polyline fill=\"none\" points=\"547.3174,-162.5 547.3174,-206.5 \" stroke=\"#000000\"/>\n",
       "<text fill=\"#000000\" font-family=\"Times,serif\" font-size=\"14.00\" text-anchor=\"middle\" x=\"575.1519\" y=\"-191.3\">input:</text>\n",
       "<polyline fill=\"none\" points=\"547.3174,-184.5 602.9863,-184.5 \" stroke=\"#000000\"/>\n",
       "<text fill=\"#000000\" font-family=\"Times,serif\" font-size=\"14.00\" text-anchor=\"middle\" x=\"575.1519\" y=\"-169.3\">output:</text>\n",
       "<polyline fill=\"none\" points=\"602.9863,-162.5 602.9863,-206.5 \" stroke=\"#000000\"/>\n",
       "<text fill=\"#000000\" font-family=\"Times,serif\" font-size=\"14.00\" text-anchor=\"middle\" x=\"644.8105\" y=\"-191.3\">(None, 1, 7)</text>\n",
       "<polyline fill=\"none\" points=\"602.9863,-184.5 686.6348,-184.5 \" stroke=\"#000000\"/>\n",
       "<text fill=\"#000000\" font-family=\"Times,serif\" font-size=\"14.00\" text-anchor=\"middle\" x=\"644.8105\" y=\"-169.3\">(None, 1, 7)</text>\n",
       "</g>\n",
       "<!-- 4347950976&#45;&gt;4347987728 -->\n",
       "<g class=\"edge\" id=\"edge10\">\n",
       "<title>4347950976-&gt;4347987728</title>\n",
       "<path d=\"M553.1743,-243.3664C553.1743,-235.1516 553.1743,-225.6579 553.1743,-216.7252\" fill=\"none\" stroke=\"#000000\"/>\n",
       "<polygon fill=\"#000000\" points=\"556.6744,-216.6068 553.1743,-206.6068 549.6744,-216.6069 556.6744,-216.6068\" stroke=\"#000000\"/>\n",
       "</g>\n",
       "<!-- 4347989072 -->\n",
       "<g class=\"node\" id=\"node10\">\n",
       "<title>4347989072</title>\n",
       "<polygon fill=\"none\" points=\"406.8931,-81.5 406.8931,-125.5 699.4556,-125.5 699.4556,-81.5 406.8931,-81.5\" stroke=\"#000000\"/>\n",
       "<text fill=\"#000000\" font-family=\"Times,serif\" font-size=\"14.00\" text-anchor=\"middle\" x=\"483.5156\" y=\"-99.3\">Flatten-Features: Flatten</text>\n",
       "<polyline fill=\"none\" points=\"560.1382,-81.5 560.1382,-125.5 \" stroke=\"#000000\"/>\n",
       "<text fill=\"#000000\" font-family=\"Times,serif\" font-size=\"14.00\" text-anchor=\"middle\" x=\"587.9727\" y=\"-110.3\">input:</text>\n",
       "<polyline fill=\"none\" points=\"560.1382,-103.5 615.8071,-103.5 \" stroke=\"#000000\"/>\n",
       "<text fill=\"#000000\" font-family=\"Times,serif\" font-size=\"14.00\" text-anchor=\"middle\" x=\"587.9727\" y=\"-88.3\">output:</text>\n",
       "<polyline fill=\"none\" points=\"615.8071,-81.5 615.8071,-125.5 \" stroke=\"#000000\"/>\n",
       "<text fill=\"#000000\" font-family=\"Times,serif\" font-size=\"14.00\" text-anchor=\"middle\" x=\"657.6313\" y=\"-110.3\">(None, 1, 7)</text>\n",
       "<polyline fill=\"none\" points=\"615.8071,-103.5 699.4556,-103.5 \" stroke=\"#000000\"/>\n",
       "<text fill=\"#000000\" font-family=\"Times,serif\" font-size=\"14.00\" text-anchor=\"middle\" x=\"657.6313\" y=\"-88.3\">(None, 7)</text>\n",
       "</g>\n",
       "<!-- 4347987728&#45;&gt;4347989072 -->\n",
       "<g class=\"edge\" id=\"edge11\">\n",
       "<title>4347987728-&gt;4347989072</title>\n",
       "<path d=\"M553.1743,-162.3664C553.1743,-154.1516 553.1743,-144.6579 553.1743,-135.7252\" fill=\"none\" stroke=\"#000000\"/>\n",
       "<polygon fill=\"#000000\" points=\"556.6744,-135.6068 553.1743,-125.6068 549.6744,-135.6069 556.6744,-135.6068\" stroke=\"#000000\"/>\n",
       "</g>\n",
       "<!-- 4347834264 -->\n",
       "<g class=\"node\" id=\"node11\">\n",
       "<title>4347834264</title>\n",
       "<polygon fill=\"none\" points=\"438.3896,-.5 438.3896,-44.5 667.959,-44.5 667.959,-.5 438.3896,-.5\" stroke=\"#000000\"/>\n",
       "<text fill=\"#000000\" font-family=\"Times,serif\" font-size=\"14.00\" text-anchor=\"middle\" x=\"490.5156\" y=\"-18.3\">dense_2: Dense</text>\n",
       "<polyline fill=\"none\" points=\"542.6416,-.5 542.6416,-44.5 \" stroke=\"#000000\"/>\n",
       "<text fill=\"#000000\" font-family=\"Times,serif\" font-size=\"14.00\" text-anchor=\"middle\" x=\"570.4761\" y=\"-29.3\">input:</text>\n",
       "<polyline fill=\"none\" points=\"542.6416,-22.5 598.3105,-22.5 \" stroke=\"#000000\"/>\n",
       "<text fill=\"#000000\" font-family=\"Times,serif\" font-size=\"14.00\" text-anchor=\"middle\" x=\"570.4761\" y=\"-7.3\">output:</text>\n",
       "<polyline fill=\"none\" points=\"598.3105,-.5 598.3105,-44.5 \" stroke=\"#000000\"/>\n",
       "<text fill=\"#000000\" font-family=\"Times,serif\" font-size=\"14.00\" text-anchor=\"middle\" x=\"633.1348\" y=\"-29.3\">(None, 7)</text>\n",
       "<polyline fill=\"none\" points=\"598.3105,-22.5 667.959,-22.5 \" stroke=\"#000000\"/>\n",
       "<text fill=\"#000000\" font-family=\"Times,serif\" font-size=\"14.00\" text-anchor=\"middle\" x=\"633.1348\" y=\"-7.3\">(None, 1)</text>\n",
       "</g>\n",
       "<!-- 4347989072&#45;&gt;4347834264 -->\n",
       "<g class=\"edge\" id=\"edge12\">\n",
       "<title>4347989072-&gt;4347834264</title>\n",
       "<path d=\"M553.1743,-81.3664C553.1743,-73.1516 553.1743,-63.6579 553.1743,-54.7252\" fill=\"none\" stroke=\"#000000\"/>\n",
       "<polygon fill=\"#000000\" points=\"556.6744,-54.6068 553.1743,-44.6068 549.6744,-54.6069 556.6744,-54.6068\" stroke=\"#000000\"/>\n",
       "</g>\n",
       "</g>\n",
       "</svg>"
      ],
      "text/plain": [
       "<IPython.core.display.SVG object>"
      ]
     },
     "execution_count": 22,
     "metadata": {},
     "output_type": "execute_result"
    }
   ],
   "source": [
    "# Model visualization\n",
    "SVG(model_to_dot(model2, show_shapes=True).create(prog='dot', format='svg'))"
   ]
  },
  {
   "cell_type": "code",
   "execution_count": 23,
   "metadata": {},
   "outputs": [
    {
     "name": "stdout",
     "output_type": "stream",
     "text": [
      "Epoch 1/5\n",
      "785404/785404 [==============================] - 63s 80us/step - loss: 1.7681 - mean_absolute_error: 0.9955\n",
      "Epoch 2/5\n",
      "785404/785404 [==============================] - 61s 78us/step - loss: 0.8329 - mean_absolute_error: 0.7240\n",
      "Epoch 3/5\n",
      "785404/785404 [==============================] - 61s 78us/step - loss: 0.7897 - mean_absolute_error: 0.6989\n",
      "Epoch 4/5\n",
      "785404/785404 [==============================] - 62s 79us/step - loss: 0.7607 - mean_absolute_error: 0.6829\n",
      "Epoch 5/5\n",
      "785404/785404 [==============================] - 62s 79us/step - loss: 0.7423 - mean_absolute_error: 0.6722\n"
     ]
    },
    {
     "data": {
      "image/png": "[encoded data removed]",
      "text/plain": [
       "<Figure size 432x288 with 1 Axes>"
      ]
     },
     "metadata": {},
     "output_type": "display_data"
    }
   ],
   "source": [
    "model2 = train_and_save(model2, 'model2.h5')"
   ]
  },
  {
   "cell_type": "code",
   "execution_count": 24,
   "metadata": {},
   "outputs": [
    {
     "data": {
      "text/plain": [
       "['mse, mae']"
      ]
     },
     "metadata": {},
     "output_type": "display_data"
    },
    {
     "data": {
      "text/plain": [
       "'Dot_product'"
      ]
     },
     "metadata": {},
     "output_type": "display_data"
    },
    {
     "name": "stdout",
     "output_type": "stream",
     "text": [
      "196352/196352 [==============================] - 2s 10us/step\n"
     ]
    },
    {
     "data": {
      "text/plain": [
       "[1.1218068912295038, 0.7770441920245176]"
      ]
     },
     "metadata": {},
     "output_type": "display_data"
    },
    {
     "name": "stdout",
     "output_type": "stream",
     "text": [
      "model 1\n",
      "196352/196352 [==============================] - 2s 10us/step\n"
     ]
    },
    {
     "data": {
      "text/plain": [
       "[0.8386083249551531, 0.7261866005052566]"
      ]
     },
     "metadata": {},
     "output_type": "display_data"
    },
    {
     "name": "stdout",
     "output_type": "stream",
     "text": [
      "model 2\n",
      "196352/196352 [==============================] - 2s 11us/step\n"
     ]
    },
    {
     "data": {
      "text/plain": [
       "[0.773098948252578, 0.6960891861968821]"
      ]
     },
     "metadata": {},
     "output_type": "display_data"
    },
    {
     "name": "stdout",
     "output_type": "stream",
     "text": [
      "predicted actual\n",
      "[4.510354] 5\n",
      "[3.7819052] 4\n",
      "[3.357685] 3\n",
      "[4.0284576] 5\n",
      "[3.5222375] 3\n",
      "[3.9120607] 3\n",
      "[3.7803028] 3\n",
      "[4.3521137] 4\n",
      "[4.1111712] 3\n",
      "[4.184941] 5\n"
     ]
    },
    {
     "data": {
      "text/plain": [
       "[None, None, None, None, None, None, None, None, None, None]"
      ]
     },
     "execution_count": 24,
     "metadata": {},
     "output_type": "execute_result"
    }
   ],
   "source": [
    "# Evaluate model\n",
    "display(['mse, mae'])\n",
    "display(\"Dot_product\")\n",
    "display(model.evaluate([test.user_id, test.book_id], test.rating))\n",
    "print('model 1')\n",
    "display(model1.evaluate([test.user_id, test.book_id], test.rating))\n",
    "print('model 2')\n",
    "display(model2.evaluate([test.user_id, test.book_id], test.rating))\n",
    "\n",
    "\n",
    "# make prediction\n",
    "predictions = model2.predict([test.user_id.head(10), test.book_id.head(10)])\n",
    "print('predicted', 'actual')\n",
    "[print(predictions[i], test.rating.iloc[i]) for i in range(0, 10)]"
   ]
  },
  {
   "cell_type": "markdown",
   "metadata": {},
   "source": [
    "### Model 3 \n",
    "Add `relu` activation function. The nicest thing about relu is that it’s gradient is always equal to 1, this way we can pass the maximum amount of the error through the network during back-propagation.\n",
    "\n",
    "<img src=\"../data/books_dataset/images/model3.png\" alt=\"Model 3\" style=\"width: 500px;\" />"
   ]
  },
  {
   "cell_type": "code",
   "execution_count": 25,
   "metadata": {},
   "outputs": [],
   "source": [
    "bias = 1\n",
    "\n",
    "# creating book embedding path\n",
    "book_input = Input(shape=[1], name=\"Book-Input\")\n",
    "book_embedding = Embedding(n_books+1, output_dim=5, name=\"Book-Embedding\")(book_input)\n",
    "book_bias = Embedding(n_books+1, bias, name=\"Book-Bias-Embedding\")(book_input)\n",
    "\n",
    "# creating user embedding path\n",
    "user_input = Input(shape=[1], name=\"User-Input\")\n",
    "user_embedding = Embedding(n_users+1, output_dim=5, name=\"User-Embedding\")(user_input)\n",
    "user_bias = Embedding(n_users+1, bias, name=\"User-Bias-Embedding\")(user_input)\n",
    "\n",
    "# Combine features\n",
    "o = multiply([book_embedding, user_embedding])\n",
    "o = concatenate([o, book_bias, user_bias])\n",
    "o = Dropout(0.5)(o)\n",
    "o = Flatten(name=\"Flatten-Features\")(o)\n",
    "\n",
    "# add fully-connected-layers\n",
    "o = Dense(10, activation='relu')(o)\n",
    "out = Dense(1, activation='relu')(o)\n",
    "\n",
    "# Create model and compile it\n",
    "model3 = Model([user_input, book_input], out)\n",
    "model3.compile(optimizer='adam', loss='mean_squared_error', metrics=['mae'])"
   ]
  },
  {
   "cell_type": "code",
   "execution_count": 26,
   "metadata": {},
   "outputs": [
    {
     "data": {
      "image/svg+xml": [
       "<svg height=\"620pt\" viewBox=\"0.00 0.00 1110.26 620.00\" width=\"1110pt\" xmlns=\"http://www.w3.org/2000/svg\" xmlns:xlink=\"http://www.w3.org/1999/xlink\">\n",
       "<g class=\"graph\" id=\"graph0\" transform=\"scale(1 1) rotate(0) translate(4 616)\">\n",
       "<title>G</title>\n",
       "<polygon fill=\"#ffffff\" points=\"-4,4 -4,-616 1106.2603,-616 1106.2603,4 -4,4\" stroke=\"transparent\"/>\n",
       "<!-- 4341342504 -->\n",
       "<g class=\"node\" id=\"node1\">\n",
       "<title>4341342504</title>\n",
       "<polygon fill=\"none\" points=\"154.4482,-567.5 154.4482,-611.5 429.9004,-611.5 429.9004,-567.5 154.4482,-567.5\" stroke=\"#000000\"/>\n",
       "<text fill=\"#000000\" font-family=\"Times,serif\" font-size=\"14.00\" text-anchor=\"middle\" x=\"229.5156\" y=\"-585.3\">Book-Input: InputLayer</text>\n",
       "<polyline fill=\"none\" points=\"304.583,-567.5 304.583,-611.5 \" stroke=\"#000000\"/>\n",
       "<text fill=\"#000000\" font-family=\"Times,serif\" font-size=\"14.00\" text-anchor=\"middle\" x=\"332.4175\" y=\"-596.3\">input:</text>\n",
       "<polyline fill=\"none\" points=\"304.583,-589.5 360.252,-589.5 \" stroke=\"#000000\"/>\n",
       "<text fill=\"#000000\" font-family=\"Times,serif\" font-size=\"14.00\" text-anchor=\"middle\" x=\"332.4175\" y=\"-574.3\">output:</text>\n",
       "<polyline fill=\"none\" points=\"360.252,-567.5 360.252,-611.5 \" stroke=\"#000000\"/>\n",
       "<text fill=\"#000000\" font-family=\"Times,serif\" font-size=\"14.00\" text-anchor=\"middle\" x=\"395.0762\" y=\"-596.3\">(None, 1)</text>\n",
       "<polyline fill=\"none\" points=\"360.252,-589.5 429.9004,-589.5 \" stroke=\"#000000\"/>\n",
       "<text fill=\"#000000\" font-family=\"Times,serif\" font-size=\"14.00\" text-anchor=\"middle\" x=\"395.0762\" y=\"-574.3\">(None, 1)</text>\n",
       "</g>\n",
       "<!-- 4341342336 -->\n",
       "<g class=\"node\" id=\"node3\">\n",
       "<title>4341342336</title>\n",
       "<polygon fill=\"none\" points=\"223.7759,-486.5 223.7759,-530.5 550.5728,-530.5 550.5728,-486.5 223.7759,-486.5\" stroke=\"#000000\"/>\n",
       "<text fill=\"#000000\" font-family=\"Times,serif\" font-size=\"14.00\" text-anchor=\"middle\" x=\"317.5156\" y=\"-504.3\">Book-Embedding: Embedding</text>\n",
       "<polyline fill=\"none\" points=\"411.2554,-486.5 411.2554,-530.5 \" stroke=\"#000000\"/>\n",
       "<text fill=\"#000000\" font-family=\"Times,serif\" font-size=\"14.00\" text-anchor=\"middle\" x=\"439.0898\" y=\"-515.3\">input:</text>\n",
       "<polyline fill=\"none\" points=\"411.2554,-508.5 466.9243,-508.5 \" stroke=\"#000000\"/>\n",
       "<text fill=\"#000000\" font-family=\"Times,serif\" font-size=\"14.00\" text-anchor=\"middle\" x=\"439.0898\" y=\"-493.3\">output:</text>\n",
       "<polyline fill=\"none\" points=\"466.9243,-486.5 466.9243,-530.5 \" stroke=\"#000000\"/>\n",
       "<text fill=\"#000000\" font-family=\"Times,serif\" font-size=\"14.00\" text-anchor=\"middle\" x=\"508.7485\" y=\"-515.3\">(None, 1)</text>\n",
       "<polyline fill=\"none\" points=\"466.9243,-508.5 550.5728,-508.5 \" stroke=\"#000000\"/>\n",
       "<text fill=\"#000000\" font-family=\"Times,serif\" font-size=\"14.00\" text-anchor=\"middle\" x=\"508.7485\" y=\"-493.3\">(None, 1, 5)</text>\n",
       "</g>\n",
       "<!-- 4341342504&#45;&gt;4341342336 -->\n",
       "<g class=\"edge\" id=\"edge1\">\n",
       "<title>4341342504-&gt;4341342336</title>\n",
       "<path d=\"M318.1335,-567.3664C329.0247,-558.0802 341.8329,-547.1595 353.4406,-537.2625\" fill=\"none\" stroke=\"#000000\"/>\n",
       "<polygon fill=\"#000000\" points=\"355.9079,-539.7583 361.2465,-530.6068 351.3662,-534.4316 355.9079,-539.7583\" stroke=\"#000000\"/>\n",
       "</g>\n",
       "<!-- 4341342392 -->\n",
       "<g class=\"node\" id=\"node6\">\n",
       "<title>4341342392</title>\n",
       "<polygon fill=\"none\" points=\"0,-405.5 0,-449.5 356.3486,-449.5 356.3486,-405.5 0,-405.5\" stroke=\"#000000\"/>\n",
       "<text fill=\"#000000\" font-family=\"Times,serif\" font-size=\"14.00\" text-anchor=\"middle\" x=\"108.5156\" y=\"-423.3\">Book-Bias-Embedding: Embedding</text>\n",
       "<polyline fill=\"none\" points=\"217.0313,-405.5 217.0313,-449.5 \" stroke=\"#000000\"/>\n",
       "<text fill=\"#000000\" font-family=\"Times,serif\" font-size=\"14.00\" text-anchor=\"middle\" x=\"244.8657\" y=\"-434.3\">input:</text>\n",
       "<polyline fill=\"none\" points=\"217.0313,-427.5 272.7002,-427.5 \" stroke=\"#000000\"/>\n",
       "<text fill=\"#000000\" font-family=\"Times,serif\" font-size=\"14.00\" text-anchor=\"middle\" x=\"244.8657\" y=\"-412.3\">output:</text>\n",
       "<polyline fill=\"none\" points=\"272.7002,-405.5 272.7002,-449.5 \" stroke=\"#000000\"/>\n",
       "<text fill=\"#000000\" font-family=\"Times,serif\" font-size=\"14.00\" text-anchor=\"middle\" x=\"314.5244\" y=\"-434.3\">(None, 1)</text>\n",
       "<polyline fill=\"none\" points=\"272.7002,-427.5 356.3486,-427.5 \" stroke=\"#000000\"/>\n",
       "<text fill=\"#000000\" font-family=\"Times,serif\" font-size=\"14.00\" text-anchor=\"middle\" x=\"314.5244\" y=\"-412.3\">(None, 1, 1)</text>\n",
       "</g>\n",
       "<!-- 4341342504&#45;&gt;4341342392 -->\n",
       "<g class=\"edge\" id=\"edge5\">\n",
       "<title>4341342504-&gt;4341342392</title>\n",
       "<path d=\"M254.2816,-567.2941C240.4165,-557.6175 225.5912,-545.2209 215.1743,-531 199.5988,-509.7367 190.0596,-481.2883 184.5772,-459.5982\" fill=\"none\" stroke=\"#000000\"/>\n",
       "<polygon fill=\"#000000\" points=\"187.9805,-458.781 182.2698,-449.8569 181.169,-460.3944 187.9805,-458.781\" stroke=\"#000000\"/>\n",
       "</g>\n",
       "<!-- 4341342448 -->\n",
       "<g class=\"node\" id=\"node2\">\n",
       "<title>4341342448</title>\n",
       "<polygon fill=\"none\" points=\"692.5366,-567.5 692.5366,-611.5 963.812,-611.5 963.812,-567.5 692.5366,-567.5\" stroke=\"#000000\"/>\n",
       "<text fill=\"#000000\" font-family=\"Times,serif\" font-size=\"14.00\" text-anchor=\"middle\" x=\"765.5156\" y=\"-585.3\">User-Input: InputLayer</text>\n",
       "<polyline fill=\"none\" points=\"838.4946,-567.5 838.4946,-611.5 \" stroke=\"#000000\"/>\n",
       "<text fill=\"#000000\" font-family=\"Times,serif\" font-size=\"14.00\" text-anchor=\"middle\" x=\"866.3291\" y=\"-596.3\">input:</text>\n",
       "<polyline fill=\"none\" points=\"838.4946,-589.5 894.1636,-589.5 \" stroke=\"#000000\"/>\n",
       "<text fill=\"#000000\" font-family=\"Times,serif\" font-size=\"14.00\" text-anchor=\"middle\" x=\"866.3291\" y=\"-574.3\">output:</text>\n",
       "<polyline fill=\"none\" points=\"894.1636,-567.5 894.1636,-611.5 \" stroke=\"#000000\"/>\n",
       "<text fill=\"#000000\" font-family=\"Times,serif\" font-size=\"14.00\" text-anchor=\"middle\" x=\"928.9878\" y=\"-596.3\">(None, 1)</text>\n",
       "<polyline fill=\"none\" points=\"894.1636,-589.5 963.812,-589.5 \" stroke=\"#000000\"/>\n",
       "<text fill=\"#000000\" font-family=\"Times,serif\" font-size=\"14.00\" text-anchor=\"middle\" x=\"928.9878\" y=\"-574.3\">(None, 1)</text>\n",
       "</g>\n",
       "<!-- 4341321856 -->\n",
       "<g class=\"node\" id=\"node4\">\n",
       "<title>4341321856</title>\n",
       "<polygon fill=\"none\" points=\"571.8643,-486.5 571.8643,-530.5 894.4844,-530.5 894.4844,-486.5 571.8643,-486.5\" stroke=\"#000000\"/>\n",
       "<text fill=\"#000000\" font-family=\"Times,serif\" font-size=\"14.00\" text-anchor=\"middle\" x=\"663.5156\" y=\"-504.3\">User-Embedding: Embedding</text>\n",
       "<polyline fill=\"none\" points=\"755.167,-486.5 755.167,-530.5 \" stroke=\"#000000\"/>\n",
       "<text fill=\"#000000\" font-family=\"Times,serif\" font-size=\"14.00\" text-anchor=\"middle\" x=\"783.0015\" y=\"-515.3\">input:</text>\n",
       "<polyline fill=\"none\" points=\"755.167,-508.5 810.8359,-508.5 \" stroke=\"#000000\"/>\n",
       "<text fill=\"#000000\" font-family=\"Times,serif\" font-size=\"14.00\" text-anchor=\"middle\" x=\"783.0015\" y=\"-493.3\">output:</text>\n",
       "<polyline fill=\"none\" points=\"810.8359,-486.5 810.8359,-530.5 \" stroke=\"#000000\"/>\n",
       "<text fill=\"#000000\" font-family=\"Times,serif\" font-size=\"14.00\" text-anchor=\"middle\" x=\"852.6602\" y=\"-515.3\">(None, 1)</text>\n",
       "<polyline fill=\"none\" points=\"810.8359,-508.5 894.4844,-508.5 \" stroke=\"#000000\"/>\n",
       "<text fill=\"#000000\" font-family=\"Times,serif\" font-size=\"14.00\" text-anchor=\"middle\" x=\"852.6602\" y=\"-493.3\">(None, 1, 5)</text>\n",
       "</g>\n",
       "<!-- 4341342448&#45;&gt;4341321856 -->\n",
       "<g class=\"edge\" id=\"edge2\">\n",
       "<title>4341342448-&gt;4341321856</title>\n",
       "<path d=\"M802.2151,-567.3664C791.3239,-558.0802 778.5157,-547.1595 766.9081,-537.2625\" fill=\"none\" stroke=\"#000000\"/>\n",
       "<polygon fill=\"#000000\" points=\"768.9825,-534.4316 759.1021,-530.6068 764.4408,-539.7583 768.9825,-534.4316\" stroke=\"#000000\"/>\n",
       "</g>\n",
       "<!-- 4341324264 -->\n",
       "<g class=\"node\" id=\"node7\">\n",
       "<title>4341324264</title>\n",
       "<polygon fill=\"none\" points=\"750.0884,-405.5 750.0884,-449.5 1102.2603,-449.5 1102.2603,-405.5 750.0884,-405.5\" stroke=\"#000000\"/>\n",
       "<text fill=\"#000000\" font-family=\"Times,serif\" font-size=\"14.00\" text-anchor=\"middle\" x=\"856.5156\" y=\"-423.3\">User-Bias-Embedding: Embedding</text>\n",
       "<polyline fill=\"none\" points=\"962.9429,-405.5 962.9429,-449.5 \" stroke=\"#000000\"/>\n",
       "<text fill=\"#000000\" font-family=\"Times,serif\" font-size=\"14.00\" text-anchor=\"middle\" x=\"990.7773\" y=\"-434.3\">input:</text>\n",
       "<polyline fill=\"none\" points=\"962.9429,-427.5 1018.6118,-427.5 \" stroke=\"#000000\"/>\n",
       "<text fill=\"#000000\" font-family=\"Times,serif\" font-size=\"14.00\" text-anchor=\"middle\" x=\"990.7773\" y=\"-412.3\">output:</text>\n",
       "<polyline fill=\"none\" points=\"1018.6118,-405.5 1018.6118,-449.5 \" stroke=\"#000000\"/>\n",
       "<text fill=\"#000000\" font-family=\"Times,serif\" font-size=\"14.00\" text-anchor=\"middle\" x=\"1060.436\" y=\"-434.3\">(None, 1)</text>\n",
       "<polyline fill=\"none\" points=\"1018.6118,-427.5 1102.2603,-427.5 \" stroke=\"#000000\"/>\n",
       "<text fill=\"#000000\" font-family=\"Times,serif\" font-size=\"14.00\" text-anchor=\"middle\" x=\"1060.436\" y=\"-412.3\">(None, 1, 1)</text>\n",
       "</g>\n",
       "<!-- 4341342448&#45;&gt;4341324264 -->\n",
       "<g class=\"edge\" id=\"edge6\">\n",
       "<title>4341342448-&gt;4341324264</title>\n",
       "<path d=\"M866.3953,-567.4748C879.9026,-557.8955 894.0006,-545.5185 903.1743,-531 916.6939,-509.6037 922.3257,-481.3333 924.6427,-459.7457\" fill=\"none\" stroke=\"#000000\"/>\n",
       "<polygon fill=\"#000000\" points=\"928.1324,-460.0156 925.5339,-449.7444 921.16,-459.3942 928.1324,-460.0156\" stroke=\"#000000\"/>\n",
       "</g>\n",
       "<!-- 4341322304 -->\n",
       "<g class=\"node\" id=\"node5\">\n",
       "<title>4341322304</title>\n",
       "<polygon fill=\"none\" points=\"374.6069,-405.5 374.6069,-449.5 731.7417,-449.5 731.7417,-405.5 374.6069,-405.5\" stroke=\"#000000\"/>\n",
       "<text fill=\"#000000\" font-family=\"Times,serif\" font-size=\"14.00\" text-anchor=\"middle\" x=\"441.5293\" y=\"-423.3\">multiply_3: Multiply</text>\n",
       "<polyline fill=\"none\" points=\"508.4517,-405.5 508.4517,-449.5 \" stroke=\"#000000\"/>\n",
       "<text fill=\"#000000\" font-family=\"Times,serif\" font-size=\"14.00\" text-anchor=\"middle\" x=\"536.2861\" y=\"-434.3\">input:</text>\n",
       "<polyline fill=\"none\" points=\"508.4517,-427.5 564.1206,-427.5 \" stroke=\"#000000\"/>\n",
       "<text fill=\"#000000\" font-family=\"Times,serif\" font-size=\"14.00\" text-anchor=\"middle\" x=\"536.2861\" y=\"-412.3\">output:</text>\n",
       "<polyline fill=\"none\" points=\"564.1206,-405.5 564.1206,-449.5 \" stroke=\"#000000\"/>\n",
       "<text fill=\"#000000\" font-family=\"Times,serif\" font-size=\"14.00\" text-anchor=\"middle\" x=\"647.9312\" y=\"-434.3\">[(None, 1, 5), (None, 1, 5)]</text>\n",
       "<polyline fill=\"none\" points=\"564.1206,-427.5 731.7417,-427.5 \" stroke=\"#000000\"/>\n",
       "<text fill=\"#000000\" font-family=\"Times,serif\" font-size=\"14.00\" text-anchor=\"middle\" x=\"647.4448\" y=\"-412.3\">(None, 1, 5)</text>\n",
       "</g>\n",
       "<!-- 4341342336&#45;&gt;4341322304 -->\n",
       "<g class=\"edge\" id=\"edge3\">\n",
       "<title>4341342336-&gt;4341322304</title>\n",
       "<path d=\"M432.5345,-486.3664C453.0295,-476.3658 477.4091,-464.4698 498.87,-453.9979\" fill=\"none\" stroke=\"#000000\"/>\n",
       "<polygon fill=\"#000000\" points=\"500.4166,-457.1377 507.8689,-449.6068 497.3469,-450.8467 500.4166,-457.1377\" stroke=\"#000000\"/>\n",
       "</g>\n",
       "<!-- 4341321856&#45;&gt;4341322304 -->\n",
       "<g class=\"edge\" id=\"edge4\">\n",
       "<title>4341321856-&gt;4341322304</title>\n",
       "<path d=\"M683.9885,-486.3664C661.5666,-476.2765 634.8569,-464.2572 611.436,-453.7177\" fill=\"none\" stroke=\"#000000\"/>\n",
       "<polygon fill=\"#000000\" points=\"612.8562,-450.5188 602.3006,-449.6068 609.9836,-456.9023 612.8562,-450.5188\" stroke=\"#000000\"/>\n",
       "</g>\n",
       "<!-- 4341322472 -->\n",
       "<g class=\"node\" id=\"node8\">\n",
       "<title>4341322472</title>\n",
       "<polygon fill=\"none\" points=\"317.8857,-324.5 317.8857,-368.5 788.4629,-368.5 788.4629,-324.5 317.8857,-324.5\" stroke=\"#000000\"/>\n",
       "<text fill=\"#000000\" font-family=\"Times,serif\" font-size=\"14.00\" text-anchor=\"middle\" x=\"404.2051\" y=\"-342.3\">concatenate_2: Concatenate</text>\n",
       "<polyline fill=\"none\" points=\"490.5244,-324.5 490.5244,-368.5 \" stroke=\"#000000\"/>\n",
       "<text fill=\"#000000\" font-family=\"Times,serif\" font-size=\"14.00\" text-anchor=\"middle\" x=\"518.3589\" y=\"-353.3\">input:</text>\n",
       "<polyline fill=\"none\" points=\"490.5244,-346.5 546.1934,-346.5 \" stroke=\"#000000\"/>\n",
       "<text fill=\"#000000\" font-family=\"Times,serif\" font-size=\"14.00\" text-anchor=\"middle\" x=\"518.3589\" y=\"-331.3\">output:</text>\n",
       "<polyline fill=\"none\" points=\"546.1934,-324.5 546.1934,-368.5 \" stroke=\"#000000\"/>\n",
       "<text fill=\"#000000\" font-family=\"Times,serif\" font-size=\"14.00\" text-anchor=\"middle\" x=\"667.3281\" y=\"-353.3\">[(None, 1, 5), (None, 1, 1), (None, 1, 1)]</text>\n",
       "<polyline fill=\"none\" points=\"546.1934,-346.5 788.4629,-346.5 \" stroke=\"#000000\"/>\n",
       "<text fill=\"#000000\" font-family=\"Times,serif\" font-size=\"14.00\" text-anchor=\"middle\" x=\"667.0176\" y=\"-331.3\">(None, 1, 7)</text>\n",
       "</g>\n",
       "<!-- 4341322304&#45;&gt;4341322472 -->\n",
       "<g class=\"edge\" id=\"edge7\">\n",
       "<title>4341322304-&gt;4341322472</title>\n",
       "<path d=\"M553.1743,-405.3664C553.1743,-397.1516 553.1743,-387.6579 553.1743,-378.7252\" fill=\"none\" stroke=\"#000000\"/>\n",
       "<polygon fill=\"#000000\" points=\"556.6744,-378.6068 553.1743,-368.6068 549.6744,-378.6069 556.6744,-378.6068\" stroke=\"#000000\"/>\n",
       "</g>\n",
       "<!-- 4341342392&#45;&gt;4341322472 -->\n",
       "<g class=\"edge\" id=\"edge8\">\n",
       "<title>4341342392-&gt;4341322472</title>\n",
       "<path d=\"M280.1494,-405.4734C329.9651,-394.7132 390.0314,-381.7389 441.126,-370.7024\" fill=\"none\" stroke=\"#000000\"/>\n",
       "<polygon fill=\"#000000\" points=\"442.184,-374.0547 451.2196,-368.5222 440.706,-367.2125 442.184,-374.0547\" stroke=\"#000000\"/>\n",
       "</g>\n",
       "<!-- 4341324264&#45;&gt;4341322472 -->\n",
       "<g class=\"edge\" id=\"edge9\">\n",
       "<title>4341324264-&gt;4341322472</title>\n",
       "<path d=\"M824.7431,-405.4734C775.1931,-394.7132 715.4471,-381.7389 664.6251,-370.7024\" fill=\"none\" stroke=\"#000000\"/>\n",
       "<polygon fill=\"#000000\" points=\"665.1003,-367.2241 654.5853,-368.5222 663.6148,-374.0647 665.1003,-367.2241\" stroke=\"#000000\"/>\n",
       "</g>\n",
       "<!-- 4341324208 -->\n",
       "<g class=\"node\" id=\"node9\">\n",
       "<title>4341324208</title>\n",
       "<polygon fill=\"none\" points=\"419.7139,-243.5 419.7139,-287.5 686.6348,-287.5 686.6348,-243.5 419.7139,-243.5\" stroke=\"#000000\"/>\n",
       "<text fill=\"#000000\" font-family=\"Times,serif\" font-size=\"14.00\" text-anchor=\"middle\" x=\"483.5156\" y=\"-261.3\">dropout_3: Dropout</text>\n",
       "<polyline fill=\"none\" points=\"547.3174,-243.5 547.3174,-287.5 \" stroke=\"#000000\"/>\n",
       "<text fill=\"#000000\" font-family=\"Times,serif\" font-size=\"14.00\" text-anchor=\"middle\" x=\"575.1519\" y=\"-272.3\">input:</text>\n",
       "<polyline fill=\"none\" points=\"547.3174,-265.5 602.9863,-265.5 \" stroke=\"#000000\"/>\n",
       "<text fill=\"#000000\" font-family=\"Times,serif\" font-size=\"14.00\" text-anchor=\"middle\" x=\"575.1519\" y=\"-250.3\">output:</text>\n",
       "<polyline fill=\"none\" points=\"602.9863,-243.5 602.9863,-287.5 \" stroke=\"#000000\"/>\n",
       "<text fill=\"#000000\" font-family=\"Times,serif\" font-size=\"14.00\" text-anchor=\"middle\" x=\"644.8105\" y=\"-272.3\">(None, 1, 7)</text>\n",
       "<polyline fill=\"none\" points=\"602.9863,-265.5 686.6348,-265.5 \" stroke=\"#000000\"/>\n",
       "<text fill=\"#000000\" font-family=\"Times,serif\" font-size=\"14.00\" text-anchor=\"middle\" x=\"644.8105\" y=\"-250.3\">(None, 1, 7)</text>\n",
       "</g>\n",
       "<!-- 4341322472&#45;&gt;4341324208 -->\n",
       "<g class=\"edge\" id=\"edge10\">\n",
       "<title>4341322472-&gt;4341324208</title>\n",
       "<path d=\"M553.1743,-324.3664C553.1743,-316.1516 553.1743,-306.6579 553.1743,-297.7252\" fill=\"none\" stroke=\"#000000\"/>\n",
       "<polygon fill=\"#000000\" points=\"556.6744,-297.6068 553.1743,-287.6068 549.6744,-297.6069 556.6744,-297.6068\" stroke=\"#000000\"/>\n",
       "</g>\n",
       "<!-- 4341274888 -->\n",
       "<g class=\"node\" id=\"node10\">\n",
       "<title>4341274888</title>\n",
       "<polygon fill=\"none\" points=\"406.8931,-162.5 406.8931,-206.5 699.4556,-206.5 699.4556,-162.5 406.8931,-162.5\" stroke=\"#000000\"/>\n",
       "<text fill=\"#000000\" font-family=\"Times,serif\" font-size=\"14.00\" text-anchor=\"middle\" x=\"483.5156\" y=\"-180.3\">Flatten-Features: Flatten</text>\n",
       "<polyline fill=\"none\" points=\"560.1382,-162.5 560.1382,-206.5 \" stroke=\"#000000\"/>\n",
       "<text fill=\"#000000\" font-family=\"Times,serif\" font-size=\"14.00\" text-anchor=\"middle\" x=\"587.9727\" y=\"-191.3\">input:</text>\n",
       "<polyline fill=\"none\" points=\"560.1382,-184.5 615.8071,-184.5 \" stroke=\"#000000\"/>\n",
       "<text fill=\"#000000\" font-family=\"Times,serif\" font-size=\"14.00\" text-anchor=\"middle\" x=\"587.9727\" y=\"-169.3\">output:</text>\n",
       "<polyline fill=\"none\" points=\"615.8071,-162.5 615.8071,-206.5 \" stroke=\"#000000\"/>\n",
       "<text fill=\"#000000\" font-family=\"Times,serif\" font-size=\"14.00\" text-anchor=\"middle\" x=\"657.6313\" y=\"-191.3\">(None, 1, 7)</text>\n",
       "<polyline fill=\"none\" points=\"615.8071,-184.5 699.4556,-184.5 \" stroke=\"#000000\"/>\n",
       "<text fill=\"#000000\" font-family=\"Times,serif\" font-size=\"14.00\" text-anchor=\"middle\" x=\"657.6313\" y=\"-169.3\">(None, 7)</text>\n",
       "</g>\n",
       "<!-- 4341324208&#45;&gt;4341274888 -->\n",
       "<g class=\"edge\" id=\"edge11\">\n",
       "<title>4341324208-&gt;4341274888</title>\n",
       "<path d=\"M553.1743,-243.3664C553.1743,-235.1516 553.1743,-225.6579 553.1743,-216.7252\" fill=\"none\" stroke=\"#000000\"/>\n",
       "<polygon fill=\"#000000\" points=\"556.6744,-216.6068 553.1743,-206.6068 549.6744,-216.6069 556.6744,-216.6068\" stroke=\"#000000\"/>\n",
       "</g>\n",
       "<!-- 4341275056 -->\n",
       "<g class=\"node\" id=\"node11\">\n",
       "<title>4341275056</title>\n",
       "<polygon fill=\"none\" points=\"434.8896,-81.5 434.8896,-125.5 671.459,-125.5 671.459,-81.5 434.8896,-81.5\" stroke=\"#000000\"/>\n",
       "<text fill=\"#000000\" font-family=\"Times,serif\" font-size=\"14.00\" text-anchor=\"middle\" x=\"487.0156\" y=\"-99.3\">dense_3: Dense</text>\n",
       "<polyline fill=\"none\" points=\"539.1416,-81.5 539.1416,-125.5 \" stroke=\"#000000\"/>\n",
       "<text fill=\"#000000\" font-family=\"Times,serif\" font-size=\"14.00\" text-anchor=\"middle\" x=\"566.9761\" y=\"-110.3\">input:</text>\n",
       "<polyline fill=\"none\" points=\"539.1416,-103.5 594.8105,-103.5 \" stroke=\"#000000\"/>\n",
       "<text fill=\"#000000\" font-family=\"Times,serif\" font-size=\"14.00\" text-anchor=\"middle\" x=\"566.9761\" y=\"-88.3\">output:</text>\n",
       "<polyline fill=\"none\" points=\"594.8105,-81.5 594.8105,-125.5 \" stroke=\"#000000\"/>\n",
       "<text fill=\"#000000\" font-family=\"Times,serif\" font-size=\"14.00\" text-anchor=\"middle\" x=\"633.1348\" y=\"-110.3\">(None, 7)</text>\n",
       "<polyline fill=\"none\" points=\"594.8105,-103.5 671.459,-103.5 \" stroke=\"#000000\"/>\n",
       "<text fill=\"#000000\" font-family=\"Times,serif\" font-size=\"14.00\" text-anchor=\"middle\" x=\"633.1348\" y=\"-88.3\">(None, 10)</text>\n",
       "</g>\n",
       "<!-- 4341274888&#45;&gt;4341275056 -->\n",
       "<g class=\"edge\" id=\"edge12\">\n",
       "<title>4341274888-&gt;4341275056</title>\n",
       "<path d=\"M553.1743,-162.3664C553.1743,-154.1516 553.1743,-144.6579 553.1743,-135.7252\" fill=\"none\" stroke=\"#000000\"/>\n",
       "<polygon fill=\"#000000\" points=\"556.6744,-135.6068 553.1743,-125.6068 549.6744,-135.6069 556.6744,-135.6068\" stroke=\"#000000\"/>\n",
       "</g>\n",
       "<!-- 4341294136 -->\n",
       "<g class=\"node\" id=\"node12\">\n",
       "<title>4341294136</title>\n",
       "<polygon fill=\"none\" points=\"434.8896,-.5 434.8896,-44.5 671.459,-44.5 671.459,-.5 434.8896,-.5\" stroke=\"#000000\"/>\n",
       "<text fill=\"#000000\" font-family=\"Times,serif\" font-size=\"14.00\" text-anchor=\"middle\" x=\"487.0156\" y=\"-18.3\">dense_4: Dense</text>\n",
       "<polyline fill=\"none\" points=\"539.1416,-.5 539.1416,-44.5 \" stroke=\"#000000\"/>\n",
       "<text fill=\"#000000\" font-family=\"Times,serif\" font-size=\"14.00\" text-anchor=\"middle\" x=\"566.9761\" y=\"-29.3\">input:</text>\n",
       "<polyline fill=\"none\" points=\"539.1416,-22.5 594.8105,-22.5 \" stroke=\"#000000\"/>\n",
       "<text fill=\"#000000\" font-family=\"Times,serif\" font-size=\"14.00\" text-anchor=\"middle\" x=\"566.9761\" y=\"-7.3\">output:</text>\n",
       "<polyline fill=\"none\" points=\"594.8105,-.5 594.8105,-44.5 \" stroke=\"#000000\"/>\n",
       "<text fill=\"#000000\" font-family=\"Times,serif\" font-size=\"14.00\" text-anchor=\"middle\" x=\"633.1348\" y=\"-29.3\">(None, 10)</text>\n",
       "<polyline fill=\"none\" points=\"594.8105,-22.5 671.459,-22.5 \" stroke=\"#000000\"/>\n",
       "<text fill=\"#000000\" font-family=\"Times,serif\" font-size=\"14.00\" text-anchor=\"middle\" x=\"633.1348\" y=\"-7.3\">(None, 1)</text>\n",
       "</g>\n",
       "<!-- 4341275056&#45;&gt;4341294136 -->\n",
       "<g class=\"edge\" id=\"edge13\">\n",
       "<title>4341275056-&gt;4341294136</title>\n",
       "<path d=\"M553.1743,-81.3664C553.1743,-73.1516 553.1743,-63.6579 553.1743,-54.7252\" fill=\"none\" stroke=\"#000000\"/>\n",
       "<polygon fill=\"#000000\" points=\"556.6744,-54.6068 553.1743,-44.6068 549.6744,-54.6069 556.6744,-54.6068\" stroke=\"#000000\"/>\n",
       "</g>\n",
       "</g>\n",
       "</svg>"
      ],
      "text/plain": [
       "<IPython.core.display.SVG object>"
      ]
     },
     "execution_count": 26,
     "metadata": {},
     "output_type": "execute_result"
    }
   ],
   "source": [
    "# Model visualization\n",
    "SVG(model_to_dot(model3, show_shapes=True).create(prog='dot', format='svg'))"
   ]
  },
  {
   "cell_type": "code",
   "execution_count": 27,
   "metadata": {},
   "outputs": [
    {
     "name": "stdout",
     "output_type": "stream",
     "text": [
      "Epoch 1/5\n",
      "785404/785404 [==============================] - 66s 84us/step - loss: 1.0297 - mean_absolute_error: 0.7859\n",
      "Epoch 2/5\n",
      "785404/785404 [==============================] - 63s 80us/step - loss: 0.8266 - mean_absolute_error: 0.7154\n",
      "Epoch 3/5\n",
      "785404/785404 [==============================] - 63s 80us/step - loss: 0.7866 - mean_absolute_error: 0.6921\n",
      "Epoch 4/5\n",
      "785404/785404 [==============================] - 63s 80us/step - loss: 0.7594 - mean_absolute_error: 0.6770\n",
      "Epoch 5/5\n",
      "785404/785404 [==============================] - 63s 81us/step - loss: 0.7408 - mean_absolute_error: 0.6659\n"
     ]
    },
    {
     "data": {
      "image/png": "[encoded data removed]",
      "text/plain": [
       "<Figure size 432x288 with 1 Axes>"
      ]
     },
     "metadata": {},
     "output_type": "display_data"
    }
   ],
   "source": [
    "model3 = train_and_save(model3, 'model3.h5')"
   ]
  },
  {
   "cell_type": "code",
   "execution_count": 28,
   "metadata": {},
   "outputs": [
    {
     "data": {
      "text/plain": [
       "['mse, mae']"
      ]
     },
     "metadata": {},
     "output_type": "display_data"
    },
    {
     "data": {
      "text/plain": [
       "'Dot_product'"
      ]
     },
     "metadata": {},
     "output_type": "display_data"
    },
    {
     "name": "stdout",
     "output_type": "stream",
     "text": [
      "196352/196352 [==============================] - 2s 12us/step\n"
     ]
    },
    {
     "data": {
      "text/plain": [
       "[1.1218068912295038, 0.7770441920245176]"
      ]
     },
     "metadata": {},
     "output_type": "display_data"
    },
    {
     "name": "stdout",
     "output_type": "stream",
     "text": [
      "model 1\n",
      "196352/196352 [==============================] - 2s 11us/step\n"
     ]
    },
    {
     "data": {
      "text/plain": [
       "[0.8386083249551531, 0.7261866005052566]"
      ]
     },
     "metadata": {},
     "output_type": "display_data"
    },
    {
     "name": "stdout",
     "output_type": "stream",
     "text": [
      "model 2\n",
      "196352/196352 [==============================] - 2s 11us/step\n"
     ]
    },
    {
     "data": {
      "text/plain": [
       "[0.773098948252578, 0.6960891861968821]"
      ]
     },
     "metadata": {},
     "output_type": "display_data"
    },
    {
     "name": "stdout",
     "output_type": "stream",
     "text": [
      "model 3\n",
      "196352/196352 [==============================] - 3s 13us/step\n"
     ]
    },
    {
     "data": {
      "text/plain": [
       "[0.7634245301396471, 0.6825098093973068]"
      ]
     },
     "metadata": {},
     "output_type": "display_data"
    },
    {
     "name": "stdout",
     "output_type": "stream",
     "text": [
      "predicted actual\n",
      "[4.4398975] 5\n",
      "[3.98724] 4\n",
      "[3.7663424] 3\n",
      "[4.025962] 5\n",
      "[3.774051] 3\n",
      "[4.210328] 3\n",
      "[3.726186] 3\n",
      "[4.3456645] 4\n",
      "[4.124619] 3\n",
      "[4.1173205] 5\n"
     ]
    },
    {
     "data": {
      "text/plain": [
       "[None, None, None, None, None, None, None, None, None, None]"
      ]
     },
     "execution_count": 28,
     "metadata": {},
     "output_type": "execute_result"
    }
   ],
   "source": [
    "# Evaluate model\n",
    "display(['mse, mae'])\n",
    "display(\"Dot_product\")\n",
    "display(model.evaluate([test.user_id, test.book_id], test.rating))\n",
    "print('model 1')\n",
    "display(model1.evaluate([test.user_id, test.book_id], test.rating))\n",
    "print('model 2')\n",
    "display(model2.evaluate([test.user_id, test.book_id], test.rating))\n",
    "\n",
    "print('model 3')\n",
    "display(model3.evaluate([test.user_id, test.book_id], test.rating))\n",
    "\n",
    "\n",
    "# make prediction\n",
    "predictions = model3.predict([test.user_id.head(10), test.book_id.head(10)])\n",
    "print('predicted', 'actual')\n",
    "[print(predictions[i], test.rating.iloc[i]) for i in range(0, 10)]"
   ]
  },
  {
   "cell_type": "markdown",
   "metadata": {},
   "source": [
    "### Model 4 \n",
    "Increase Dense layers to check if model improves."
   ]
  },
  {
   "cell_type": "code",
   "execution_count": 29,
   "metadata": {},
   "outputs": [],
   "source": [
    "bias = 1\n",
    "\n",
    "# creating book embedding path\n",
    "book_input = Input(shape=[1], name=\"Book-Input\")\n",
    "book_embedding = Embedding(n_books+1, output_dim=5, name=\"Book-Embedding\")(book_input)\n",
    "book_bias = Embedding(n_books+1, bias, name=\"Book-Bias-Embedding\")(book_input)\n",
    "\n",
    "# creating user embedding path\n",
    "user_input = Input(shape=[1], name=\"User-Input\")\n",
    "user_embedding = Embedding(n_users+1, output_dim=5, name=\"User-Embedding\")(user_input)\n",
    "user_bias = Embedding(n_users+1, bias, name=\"User-Bias-Embedding\")(user_input)\n",
    "\n",
    "# Combine features\n",
    "o = multiply([book_embedding, user_embedding])\n",
    "o = concatenate([o, book_bias, user_bias])\n",
    "o = Dropout(0.5)(o)\n",
    "o = Flatten(name=\"Flatten-Features\")(o)\n",
    "\n",
    "# add fully-connected-layers\n",
    "o = Dense(128, activation='relu')(o)\n",
    "o = Dropout(0.2)(o)\n",
    "o = Dense(32, activation='relu')(o)\n",
    "o = Dropout(0.2)(o)\n",
    "out = Dense(1, activation='relu')(o)\n",
    "\n",
    "# Create model and compile it\n",
    "model4 = Model([user_input, book_input], out)\n",
    "model4.compile(optimizer='adam', loss='mean_squared_error', metrics=['mae'])"
   ]
  },
  {
   "cell_type": "code",
   "execution_count": 30,
   "metadata": {},
   "outputs": [
    {
     "data": {
      "image/svg+xml": [
       "<svg height=\"863pt\" viewBox=\"0.00 0.00 1110.26 863.00\" width=\"1110pt\" xmlns=\"http://www.w3.org/2000/svg\" xmlns:xlink=\"http://www.w3.org/1999/xlink\">\n",
       "<g class=\"graph\" id=\"graph0\" transform=\"scale(1 1) rotate(0) translate(4 859)\">\n",
       "<title>G</title>\n",
       "<polygon fill=\"#ffffff\" points=\"-4,4 -4,-859 1106.2603,-859 1106.2603,4 -4,4\" stroke=\"transparent\"/>\n",
       "<!-- 5017659656 -->\n",
       "<g class=\"node\" id=\"node1\">\n",
       "<title>5017659656</title>\n",
       "<polygon fill=\"none\" points=\"154.4482,-810.5 154.4482,-854.5 429.9004,-854.5 429.9004,-810.5 154.4482,-810.5\" stroke=\"#000000\"/>\n",
       "<text fill=\"#000000\" font-family=\"Times,serif\" font-size=\"14.00\" text-anchor=\"middle\" x=\"229.5156\" y=\"-828.3\">Book-Input: InputLayer</text>\n",
       "<polyline fill=\"none\" points=\"304.583,-810.5 304.583,-854.5 \" stroke=\"#000000\"/>\n",
       "<text fill=\"#000000\" font-family=\"Times,serif\" font-size=\"14.00\" text-anchor=\"middle\" x=\"332.4175\" y=\"-839.3\">input:</text>\n",
       "<polyline fill=\"none\" points=\"304.583,-832.5 360.252,-832.5 \" stroke=\"#000000\"/>\n",
       "<text fill=\"#000000\" font-family=\"Times,serif\" font-size=\"14.00\" text-anchor=\"middle\" x=\"332.4175\" y=\"-817.3\">output:</text>\n",
       "<polyline fill=\"none\" points=\"360.252,-810.5 360.252,-854.5 \" stroke=\"#000000\"/>\n",
       "<text fill=\"#000000\" font-family=\"Times,serif\" font-size=\"14.00\" text-anchor=\"middle\" x=\"395.0762\" y=\"-839.3\">(None, 1)</text>\n",
       "<polyline fill=\"none\" points=\"360.252,-832.5 429.9004,-832.5 \" stroke=\"#000000\"/>\n",
       "<text fill=\"#000000\" font-family=\"Times,serif\" font-size=\"14.00\" text-anchor=\"middle\" x=\"395.0762\" y=\"-817.3\">(None, 1)</text>\n",
       "</g>\n",
       "<!-- 5017659824 -->\n",
       "<g class=\"node\" id=\"node3\">\n",
       "<title>5017659824</title>\n",
       "<polygon fill=\"none\" points=\"223.7759,-729.5 223.7759,-773.5 550.5728,-773.5 550.5728,-729.5 223.7759,-729.5\" stroke=\"#000000\"/>\n",
       "<text fill=\"#000000\" font-family=\"Times,serif\" font-size=\"14.00\" text-anchor=\"middle\" x=\"317.5156\" y=\"-747.3\">Book-Embedding: Embedding</text>\n",
       "<polyline fill=\"none\" points=\"411.2554,-729.5 411.2554,-773.5 \" stroke=\"#000000\"/>\n",
       "<text fill=\"#000000\" font-family=\"Times,serif\" font-size=\"14.00\" text-anchor=\"middle\" x=\"439.0898\" y=\"-758.3\">input:</text>\n",
       "<polyline fill=\"none\" points=\"411.2554,-751.5 466.9243,-751.5 \" stroke=\"#000000\"/>\n",
       "<text fill=\"#000000\" font-family=\"Times,serif\" font-size=\"14.00\" text-anchor=\"middle\" x=\"439.0898\" y=\"-736.3\">output:</text>\n",
       "<polyline fill=\"none\" points=\"466.9243,-729.5 466.9243,-773.5 \" stroke=\"#000000\"/>\n",
       "<text fill=\"#000000\" font-family=\"Times,serif\" font-size=\"14.00\" text-anchor=\"middle\" x=\"508.7485\" y=\"-758.3\">(None, 1)</text>\n",
       "<polyline fill=\"none\" points=\"466.9243,-751.5 550.5728,-751.5 \" stroke=\"#000000\"/>\n",
       "<text fill=\"#000000\" font-family=\"Times,serif\" font-size=\"14.00\" text-anchor=\"middle\" x=\"508.7485\" y=\"-736.3\">(None, 1, 5)</text>\n",
       "</g>\n",
       "<!-- 5017659656&#45;&gt;5017659824 -->\n",
       "<g class=\"edge\" id=\"edge1\">\n",
       "<title>5017659656-&gt;5017659824</title>\n",
       "<path d=\"M318.1335,-810.3664C329.0247,-801.0802 341.8329,-790.1595 353.4406,-780.2625\" fill=\"none\" stroke=\"#000000\"/>\n",
       "<polygon fill=\"#000000\" points=\"355.9079,-782.7583 361.2465,-773.6068 351.3662,-777.4316 355.9079,-782.7583\" stroke=\"#000000\"/>\n",
       "</g>\n",
       "<!-- 5017659768 -->\n",
       "<g class=\"node\" id=\"node6\">\n",
       "<title>5017659768</title>\n",
       "<polygon fill=\"none\" points=\"0,-648.5 0,-692.5 356.3486,-692.5 356.3486,-648.5 0,-648.5\" stroke=\"#000000\"/>\n",
       "<text fill=\"#000000\" font-family=\"Times,serif\" font-size=\"14.00\" text-anchor=\"middle\" x=\"108.5156\" y=\"-666.3\">Book-Bias-Embedding: Embedding</text>\n",
       "<polyline fill=\"none\" points=\"217.0313,-648.5 217.0313,-692.5 \" stroke=\"#000000\"/>\n",
       "<text fill=\"#000000\" font-family=\"Times,serif\" font-size=\"14.00\" text-anchor=\"middle\" x=\"244.8657\" y=\"-677.3\">input:</text>\n",
       "<polyline fill=\"none\" points=\"217.0313,-670.5 272.7002,-670.5 \" stroke=\"#000000\"/>\n",
       "<text fill=\"#000000\" font-family=\"Times,serif\" font-size=\"14.00\" text-anchor=\"middle\" x=\"244.8657\" y=\"-655.3\">output:</text>\n",
       "<polyline fill=\"none\" points=\"272.7002,-648.5 272.7002,-692.5 \" stroke=\"#000000\"/>\n",
       "<text fill=\"#000000\" font-family=\"Times,serif\" font-size=\"14.00\" text-anchor=\"middle\" x=\"314.5244\" y=\"-677.3\">(None, 1)</text>\n",
       "<polyline fill=\"none\" points=\"272.7002,-670.5 356.3486,-670.5 \" stroke=\"#000000\"/>\n",
       "<text fill=\"#000000\" font-family=\"Times,serif\" font-size=\"14.00\" text-anchor=\"middle\" x=\"314.5244\" y=\"-655.3\">(None, 1, 1)</text>\n",
       "</g>\n",
       "<!-- 5017659656&#45;&gt;5017659768 -->\n",
       "<g class=\"edge\" id=\"edge5\">\n",
       "<title>5017659656-&gt;5017659768</title>\n",
       "<path d=\"M254.2816,-810.2941C240.4165,-800.6175 225.5912,-788.2209 215.1743,-774 199.5988,-752.7367 190.0596,-724.2883 184.5772,-702.5982\" fill=\"none\" stroke=\"#000000\"/>\n",
       "<polygon fill=\"#000000\" points=\"187.9805,-701.781 182.2698,-692.8569 181.169,-703.3944 187.9805,-701.781\" stroke=\"#000000\"/>\n",
       "</g>\n",
       "<!-- 5017660496 -->\n",
       "<g class=\"node\" id=\"node2\">\n",
       "<title>5017660496</title>\n",
       "<polygon fill=\"none\" points=\"692.5366,-810.5 692.5366,-854.5 963.812,-854.5 963.812,-810.5 692.5366,-810.5\" stroke=\"#000000\"/>\n",
       "<text fill=\"#000000\" font-family=\"Times,serif\" font-size=\"14.00\" text-anchor=\"middle\" x=\"765.5156\" y=\"-828.3\">User-Input: InputLayer</text>\n",
       "<polyline fill=\"none\" points=\"838.4946,-810.5 838.4946,-854.5 \" stroke=\"#000000\"/>\n",
       "<text fill=\"#000000\" font-family=\"Times,serif\" font-size=\"14.00\" text-anchor=\"middle\" x=\"866.3291\" y=\"-839.3\">input:</text>\n",
       "<polyline fill=\"none\" points=\"838.4946,-832.5 894.1636,-832.5 \" stroke=\"#000000\"/>\n",
       "<text fill=\"#000000\" font-family=\"Times,serif\" font-size=\"14.00\" text-anchor=\"middle\" x=\"866.3291\" y=\"-817.3\">output:</text>\n",
       "<polyline fill=\"none\" points=\"894.1636,-810.5 894.1636,-854.5 \" stroke=\"#000000\"/>\n",
       "<text fill=\"#000000\" font-family=\"Times,serif\" font-size=\"14.00\" text-anchor=\"middle\" x=\"928.9878\" y=\"-839.3\">(None, 1)</text>\n",
       "<polyline fill=\"none\" points=\"894.1636,-832.5 963.812,-832.5 \" stroke=\"#000000\"/>\n",
       "<text fill=\"#000000\" font-family=\"Times,serif\" font-size=\"14.00\" text-anchor=\"middle\" x=\"928.9878\" y=\"-817.3\">(None, 1)</text>\n",
       "</g>\n",
       "<!-- 5017659880 -->\n",
       "<g class=\"node\" id=\"node4\">\n",
       "<title>5017659880</title>\n",
       "<polygon fill=\"none\" points=\"571.8643,-729.5 571.8643,-773.5 894.4844,-773.5 894.4844,-729.5 571.8643,-729.5\" stroke=\"#000000\"/>\n",
       "<text fill=\"#000000\" font-family=\"Times,serif\" font-size=\"14.00\" text-anchor=\"middle\" x=\"663.5156\" y=\"-747.3\">User-Embedding: Embedding</text>\n",
       "<polyline fill=\"none\" points=\"755.167,-729.5 755.167,-773.5 \" stroke=\"#000000\"/>\n",
       "<text fill=\"#000000\" font-family=\"Times,serif\" font-size=\"14.00\" text-anchor=\"middle\" x=\"783.0015\" y=\"-758.3\">input:</text>\n",
       "<polyline fill=\"none\" points=\"755.167,-751.5 810.8359,-751.5 \" stroke=\"#000000\"/>\n",
       "<text fill=\"#000000\" font-family=\"Times,serif\" font-size=\"14.00\" text-anchor=\"middle\" x=\"783.0015\" y=\"-736.3\">output:</text>\n",
       "<polyline fill=\"none\" points=\"810.8359,-729.5 810.8359,-773.5 \" stroke=\"#000000\"/>\n",
       "<text fill=\"#000000\" font-family=\"Times,serif\" font-size=\"14.00\" text-anchor=\"middle\" x=\"852.6602\" y=\"-758.3\">(None, 1)</text>\n",
       "<polyline fill=\"none\" points=\"810.8359,-751.5 894.4844,-751.5 \" stroke=\"#000000\"/>\n",
       "<text fill=\"#000000\" font-family=\"Times,serif\" font-size=\"14.00\" text-anchor=\"middle\" x=\"852.6602\" y=\"-736.3\">(None, 1, 5)</text>\n",
       "</g>\n",
       "<!-- 5017660496&#45;&gt;5017659880 -->\n",
       "<g class=\"edge\" id=\"edge2\">\n",
       "<title>5017660496-&gt;5017659880</title>\n",
       "<path d=\"M802.2151,-810.3664C791.3239,-801.0802 778.5157,-790.1595 766.9081,-780.2625\" fill=\"none\" stroke=\"#000000\"/>\n",
       "<polygon fill=\"#000000\" points=\"768.9825,-777.4316 759.1021,-773.6068 764.4408,-782.7583 768.9825,-777.4316\" stroke=\"#000000\"/>\n",
       "</g>\n",
       "<!-- 5017661280 -->\n",
       "<g class=\"node\" id=\"node7\">\n",
       "<title>5017661280</title>\n",
       "<polygon fill=\"none\" points=\"750.0884,-648.5 750.0884,-692.5 1102.2603,-692.5 1102.2603,-648.5 750.0884,-648.5\" stroke=\"#000000\"/>\n",
       "<text fill=\"#000000\" font-family=\"Times,serif\" font-size=\"14.00\" text-anchor=\"middle\" x=\"856.5156\" y=\"-666.3\">User-Bias-Embedding: Embedding</text>\n",
       "<polyline fill=\"none\" points=\"962.9429,-648.5 962.9429,-692.5 \" stroke=\"#000000\"/>\n",
       "<text fill=\"#000000\" font-family=\"Times,serif\" font-size=\"14.00\" text-anchor=\"middle\" x=\"990.7773\" y=\"-677.3\">input:</text>\n",
       "<polyline fill=\"none\" points=\"962.9429,-670.5 1018.6118,-670.5 \" stroke=\"#000000\"/>\n",
       "<text fill=\"#000000\" font-family=\"Times,serif\" font-size=\"14.00\" text-anchor=\"middle\" x=\"990.7773\" y=\"-655.3\">output:</text>\n",
       "<polyline fill=\"none\" points=\"1018.6118,-648.5 1018.6118,-692.5 \" stroke=\"#000000\"/>\n",
       "<text fill=\"#000000\" font-family=\"Times,serif\" font-size=\"14.00\" text-anchor=\"middle\" x=\"1060.436\" y=\"-677.3\">(None, 1)</text>\n",
       "<polyline fill=\"none\" points=\"1018.6118,-670.5 1102.2603,-670.5 \" stroke=\"#000000\"/>\n",
       "<text fill=\"#000000\" font-family=\"Times,serif\" font-size=\"14.00\" text-anchor=\"middle\" x=\"1060.436\" y=\"-655.3\">(None, 1, 1)</text>\n",
       "</g>\n",
       "<!-- 5017660496&#45;&gt;5017661280 -->\n",
       "<g class=\"edge\" id=\"edge6\">\n",
       "<title>5017660496-&gt;5017661280</title>\n",
       "<path d=\"M866.3953,-810.4748C879.9026,-800.8955 894.0006,-788.5185 903.1743,-774 916.6939,-752.6037 922.3257,-724.3333 924.6427,-702.7457\" fill=\"none\" stroke=\"#000000\"/>\n",
       "<polygon fill=\"#000000\" points=\"928.1324,-703.0156 925.5339,-692.7444 921.16,-702.3942 928.1324,-703.0156\" stroke=\"#000000\"/>\n",
       "</g>\n",
       "<!-- 5017660440 -->\n",
       "<g class=\"node\" id=\"node5\">\n",
       "<title>5017660440</title>\n",
       "<polygon fill=\"none\" points=\"374.6069,-648.5 374.6069,-692.5 731.7417,-692.5 731.7417,-648.5 374.6069,-648.5\" stroke=\"#000000\"/>\n",
       "<text fill=\"#000000\" font-family=\"Times,serif\" font-size=\"14.00\" text-anchor=\"middle\" x=\"441.5293\" y=\"-666.3\">multiply_4: Multiply</text>\n",
       "<polyline fill=\"none\" points=\"508.4517,-648.5 508.4517,-692.5 \" stroke=\"#000000\"/>\n",
       "<text fill=\"#000000\" font-family=\"Times,serif\" font-size=\"14.00\" text-anchor=\"middle\" x=\"536.2861\" y=\"-677.3\">input:</text>\n",
       "<polyline fill=\"none\" points=\"508.4517,-670.5 564.1206,-670.5 \" stroke=\"#000000\"/>\n",
       "<text fill=\"#000000\" font-family=\"Times,serif\" font-size=\"14.00\" text-anchor=\"middle\" x=\"536.2861\" y=\"-655.3\">output:</text>\n",
       "<polyline fill=\"none\" points=\"564.1206,-648.5 564.1206,-692.5 \" stroke=\"#000000\"/>\n",
       "<text fill=\"#000000\" font-family=\"Times,serif\" font-size=\"14.00\" text-anchor=\"middle\" x=\"647.9312\" y=\"-677.3\">[(None, 1, 5), (None, 1, 5)]</text>\n",
       "<polyline fill=\"none\" points=\"564.1206,-670.5 731.7417,-670.5 \" stroke=\"#000000\"/>\n",
       "<text fill=\"#000000\" font-family=\"Times,serif\" font-size=\"14.00\" text-anchor=\"middle\" x=\"647.4448\" y=\"-655.3\">(None, 1, 5)</text>\n",
       "</g>\n",
       "<!-- 5017659824&#45;&gt;5017660440 -->\n",
       "<g class=\"edge\" id=\"edge3\">\n",
       "<title>5017659824-&gt;5017660440</title>\n",
       "<path d=\"M432.5345,-729.3664C453.0295,-719.3658 477.4091,-707.4698 498.87,-696.9979\" fill=\"none\" stroke=\"#000000\"/>\n",
       "<polygon fill=\"#000000\" points=\"500.4166,-700.1377 507.8689,-692.6068 497.3469,-693.8467 500.4166,-700.1377\" stroke=\"#000000\"/>\n",
       "</g>\n",
       "<!-- 5017659880&#45;&gt;5017660440 -->\n",
       "<g class=\"edge\" id=\"edge4\">\n",
       "<title>5017659880-&gt;5017660440</title>\n",
       "<path d=\"M683.9885,-729.3664C661.5666,-719.2765 634.8569,-707.2572 611.436,-696.7177\" fill=\"none\" stroke=\"#000000\"/>\n",
       "<polygon fill=\"#000000\" points=\"612.8562,-693.5188 602.3006,-692.6068 609.9836,-699.9023 612.8562,-693.5188\" stroke=\"#000000\"/>\n",
       "</g>\n",
       "<!-- 5017660776 -->\n",
       "<g class=\"node\" id=\"node8\">\n",
       "<title>5017660776</title>\n",
       "<polygon fill=\"none\" points=\"317.8857,-567.5 317.8857,-611.5 788.4629,-611.5 788.4629,-567.5 317.8857,-567.5\" stroke=\"#000000\"/>\n",
       "<text fill=\"#000000\" font-family=\"Times,serif\" font-size=\"14.00\" text-anchor=\"middle\" x=\"404.2051\" y=\"-585.3\">concatenate_3: Concatenate</text>\n",
       "<polyline fill=\"none\" points=\"490.5244,-567.5 490.5244,-611.5 \" stroke=\"#000000\"/>\n",
       "<text fill=\"#000000\" font-family=\"Times,serif\" font-size=\"14.00\" text-anchor=\"middle\" x=\"518.3589\" y=\"-596.3\">input:</text>\n",
       "<polyline fill=\"none\" points=\"490.5244,-589.5 546.1934,-589.5 \" stroke=\"#000000\"/>\n",
       "<text fill=\"#000000\" font-family=\"Times,serif\" font-size=\"14.00\" text-anchor=\"middle\" x=\"518.3589\" y=\"-574.3\">output:</text>\n",
       "<polyline fill=\"none\" points=\"546.1934,-567.5 546.1934,-611.5 \" stroke=\"#000000\"/>\n",
       "<text fill=\"#000000\" font-family=\"Times,serif\" font-size=\"14.00\" text-anchor=\"middle\" x=\"667.3281\" y=\"-596.3\">[(None, 1, 5), (None, 1, 1), (None, 1, 1)]</text>\n",
       "<polyline fill=\"none\" points=\"546.1934,-589.5 788.4629,-589.5 \" stroke=\"#000000\"/>\n",
       "<text fill=\"#000000\" font-family=\"Times,serif\" font-size=\"14.00\" text-anchor=\"middle\" x=\"667.0176\" y=\"-574.3\">(None, 1, 7)</text>\n",
       "</g>\n",
       "<!-- 5017660440&#45;&gt;5017660776 -->\n",
       "<g class=\"edge\" id=\"edge7\">\n",
       "<title>5017660440-&gt;5017660776</title>\n",
       "<path d=\"M553.1743,-648.3664C553.1743,-640.1516 553.1743,-630.6579 553.1743,-621.7252\" fill=\"none\" stroke=\"#000000\"/>\n",
       "<polygon fill=\"#000000\" points=\"556.6744,-621.6068 553.1743,-611.6068 549.6744,-621.6069 556.6744,-621.6068\" stroke=\"#000000\"/>\n",
       "</g>\n",
       "<!-- 5017659768&#45;&gt;5017660776 -->\n",
       "<g class=\"edge\" id=\"edge8\">\n",
       "<title>5017659768-&gt;5017660776</title>\n",
       "<path d=\"M280.1494,-648.4734C329.9651,-637.7132 390.0314,-624.7389 441.126,-613.7024\" fill=\"none\" stroke=\"#000000\"/>\n",
       "<polygon fill=\"#000000\" points=\"442.184,-617.0547 451.2196,-611.5222 440.706,-610.2125 442.184,-617.0547\" stroke=\"#000000\"/>\n",
       "</g>\n",
       "<!-- 5017661280&#45;&gt;5017660776 -->\n",
       "<g class=\"edge\" id=\"edge9\">\n",
       "<title>5017661280-&gt;5017660776</title>\n",
       "<path d=\"M824.7431,-648.4734C775.1931,-637.7132 715.4471,-624.7389 664.6251,-613.7024\" fill=\"none\" stroke=\"#000000\"/>\n",
       "<polygon fill=\"#000000\" points=\"665.1003,-610.2241 654.5853,-611.5222 663.6148,-617.0647 665.1003,-610.2241\" stroke=\"#000000\"/>\n",
       "</g>\n",
       "<!-- 5017660160 -->\n",
       "<g class=\"node\" id=\"node9\">\n",
       "<title>5017660160</title>\n",
       "<polygon fill=\"none\" points=\"419.7139,-486.5 419.7139,-530.5 686.6348,-530.5 686.6348,-486.5 419.7139,-486.5\" stroke=\"#000000\"/>\n",
       "<text fill=\"#000000\" font-family=\"Times,serif\" font-size=\"14.00\" text-anchor=\"middle\" x=\"483.5156\" y=\"-504.3\">dropout_4: Dropout</text>\n",
       "<polyline fill=\"none\" points=\"547.3174,-486.5 547.3174,-530.5 \" stroke=\"#000000\"/>\n",
       "<text fill=\"#000000\" font-family=\"Times,serif\" font-size=\"14.00\" text-anchor=\"middle\" x=\"575.1519\" y=\"-515.3\">input:</text>\n",
       "<polyline fill=\"none\" points=\"547.3174,-508.5 602.9863,-508.5 \" stroke=\"#000000\"/>\n",
       "<text fill=\"#000000\" font-family=\"Times,serif\" font-size=\"14.00\" text-anchor=\"middle\" x=\"575.1519\" y=\"-493.3\">output:</text>\n",
       "<polyline fill=\"none\" points=\"602.9863,-486.5 602.9863,-530.5 \" stroke=\"#000000\"/>\n",
       "<text fill=\"#000000\" font-family=\"Times,serif\" font-size=\"14.00\" text-anchor=\"middle\" x=\"644.8105\" y=\"-515.3\">(None, 1, 7)</text>\n",
       "<polyline fill=\"none\" points=\"602.9863,-508.5 686.6348,-508.5 \" stroke=\"#000000\"/>\n",
       "<text fill=\"#000000\" font-family=\"Times,serif\" font-size=\"14.00\" text-anchor=\"middle\" x=\"644.8105\" y=\"-493.3\">(None, 1, 7)</text>\n",
       "</g>\n",
       "<!-- 5017660776&#45;&gt;5017660160 -->\n",
       "<g class=\"edge\" id=\"edge10\">\n",
       "<title>5017660776-&gt;5017660160</title>\n",
       "<path d=\"M553.1743,-567.3664C553.1743,-559.1516 553.1743,-549.6579 553.1743,-540.7252\" fill=\"none\" stroke=\"#000000\"/>\n",
       "<polygon fill=\"#000000\" points=\"556.6744,-540.6068 553.1743,-530.6068 549.6744,-540.6069 556.6744,-540.6068\" stroke=\"#000000\"/>\n",
       "</g>\n",
       "<!-- 5025877744 -->\n",
       "<g class=\"node\" id=\"node10\">\n",
       "<title>5025877744</title>\n",
       "<polygon fill=\"none\" points=\"406.8931,-405.5 406.8931,-449.5 699.4556,-449.5 699.4556,-405.5 406.8931,-405.5\" stroke=\"#000000\"/>\n",
       "<text fill=\"#000000\" font-family=\"Times,serif\" font-size=\"14.00\" text-anchor=\"middle\" x=\"483.5156\" y=\"-423.3\">Flatten-Features: Flatten</text>\n",
       "<polyline fill=\"none\" points=\"560.1382,-405.5 560.1382,-449.5 \" stroke=\"#000000\"/>\n",
       "<text fill=\"#000000\" font-family=\"Times,serif\" font-size=\"14.00\" text-anchor=\"middle\" x=\"587.9727\" y=\"-434.3\">input:</text>\n",
       "<polyline fill=\"none\" points=\"560.1382,-427.5 615.8071,-427.5 \" stroke=\"#000000\"/>\n",
       "<text fill=\"#000000\" font-family=\"Times,serif\" font-size=\"14.00\" text-anchor=\"middle\" x=\"587.9727\" y=\"-412.3\">output:</text>\n",
       "<polyline fill=\"none\" points=\"615.8071,-405.5 615.8071,-449.5 \" stroke=\"#000000\"/>\n",
       "<text fill=\"#000000\" font-family=\"Times,serif\" font-size=\"14.00\" text-anchor=\"middle\" x=\"657.6313\" y=\"-434.3\">(None, 1, 7)</text>\n",
       "<polyline fill=\"none\" points=\"615.8071,-427.5 699.4556,-427.5 \" stroke=\"#000000\"/>\n",
       "<text fill=\"#000000\" font-family=\"Times,serif\" font-size=\"14.00\" text-anchor=\"middle\" x=\"657.6313\" y=\"-412.3\">(None, 7)</text>\n",
       "</g>\n",
       "<!-- 5017660160&#45;&gt;5025877744 -->\n",
       "<g class=\"edge\" id=\"edge11\">\n",
       "<title>5017660160-&gt;5025877744</title>\n",
       "<path d=\"M553.1743,-486.3664C553.1743,-478.1516 553.1743,-468.6579 553.1743,-459.7252\" fill=\"none\" stroke=\"#000000\"/>\n",
       "<polygon fill=\"#000000\" points=\"556.6744,-459.6068 553.1743,-449.6068 549.6744,-459.6069 556.6744,-459.6068\" stroke=\"#000000\"/>\n",
       "</g>\n",
       "<!-- 5025877408 -->\n",
       "<g class=\"node\" id=\"node11\">\n",
       "<title>5025877408</title>\n",
       "<polygon fill=\"none\" points=\"431.3896,-324.5 431.3896,-368.5 674.959,-368.5 674.959,-324.5 431.3896,-324.5\" stroke=\"#000000\"/>\n",
       "<text fill=\"#000000\" font-family=\"Times,serif\" font-size=\"14.00\" text-anchor=\"middle\" x=\"483.5156\" y=\"-342.3\">dense_5: Dense</text>\n",
       "<polyline fill=\"none\" points=\"535.6416,-324.5 535.6416,-368.5 \" stroke=\"#000000\"/>\n",
       "<text fill=\"#000000\" font-family=\"Times,serif\" font-size=\"14.00\" text-anchor=\"middle\" x=\"563.4761\" y=\"-353.3\">input:</text>\n",
       "<polyline fill=\"none\" points=\"535.6416,-346.5 591.3105,-346.5 \" stroke=\"#000000\"/>\n",
       "<text fill=\"#000000\" font-family=\"Times,serif\" font-size=\"14.00\" text-anchor=\"middle\" x=\"563.4761\" y=\"-331.3\">output:</text>\n",
       "<polyline fill=\"none\" points=\"591.3105,-324.5 591.3105,-368.5 \" stroke=\"#000000\"/>\n",
       "<text fill=\"#000000\" font-family=\"Times,serif\" font-size=\"14.00\" text-anchor=\"middle\" x=\"633.1348\" y=\"-353.3\">(None, 7)</text>\n",
       "<polyline fill=\"none\" points=\"591.3105,-346.5 674.959,-346.5 \" stroke=\"#000000\"/>\n",
       "<text fill=\"#000000\" font-family=\"Times,serif\" font-size=\"14.00\" text-anchor=\"middle\" x=\"633.1348\" y=\"-331.3\">(None, 128)</text>\n",
       "</g>\n",
       "<!-- 5025877744&#45;&gt;5025877408 -->\n",
       "<g class=\"edge\" id=\"edge12\">\n",
       "<title>5025877744-&gt;5025877408</title>\n",
       "<path d=\"M553.1743,-405.3664C553.1743,-397.1516 553.1743,-387.6579 553.1743,-378.7252\" fill=\"none\" stroke=\"#000000\"/>\n",
       "<polygon fill=\"#000000\" points=\"556.6744,-378.6068 553.1743,-368.6068 549.6744,-378.6069 556.6744,-378.6068\" stroke=\"#000000\"/>\n",
       "</g>\n",
       "<!-- 5025410352 -->\n",
       "<g class=\"node\" id=\"node12\">\n",
       "<title>5025410352</title>\n",
       "<polygon fill=\"none\" points=\"419.7139,-243.5 419.7139,-287.5 686.6348,-287.5 686.6348,-243.5 419.7139,-243.5\" stroke=\"#000000\"/>\n",
       "<text fill=\"#000000\" font-family=\"Times,serif\" font-size=\"14.00\" text-anchor=\"middle\" x=\"483.5156\" y=\"-261.3\">dropout_5: Dropout</text>\n",
       "<polyline fill=\"none\" points=\"547.3174,-243.5 547.3174,-287.5 \" stroke=\"#000000\"/>\n",
       "<text fill=\"#000000\" font-family=\"Times,serif\" font-size=\"14.00\" text-anchor=\"middle\" x=\"575.1519\" y=\"-272.3\">input:</text>\n",
       "<polyline fill=\"none\" points=\"547.3174,-265.5 602.9863,-265.5 \" stroke=\"#000000\"/>\n",
       "<text fill=\"#000000\" font-family=\"Times,serif\" font-size=\"14.00\" text-anchor=\"middle\" x=\"575.1519\" y=\"-250.3\">output:</text>\n",
       "<polyline fill=\"none\" points=\"602.9863,-243.5 602.9863,-287.5 \" stroke=\"#000000\"/>\n",
       "<text fill=\"#000000\" font-family=\"Times,serif\" font-size=\"14.00\" text-anchor=\"middle\" x=\"644.8105\" y=\"-272.3\">(None, 128)</text>\n",
       "<polyline fill=\"none\" points=\"602.9863,-265.5 686.6348,-265.5 \" stroke=\"#000000\"/>\n",
       "<text fill=\"#000000\" font-family=\"Times,serif\" font-size=\"14.00\" text-anchor=\"middle\" x=\"644.8105\" y=\"-250.3\">(None, 128)</text>\n",
       "</g>\n",
       "<!-- 5025877408&#45;&gt;5025410352 -->\n",
       "<g class=\"edge\" id=\"edge13\">\n",
       "<title>5025877408-&gt;5025410352</title>\n",
       "<path d=\"M553.1743,-324.3664C553.1743,-316.1516 553.1743,-306.6579 553.1743,-297.7252\" fill=\"none\" stroke=\"#000000\"/>\n",
       "<polygon fill=\"#000000\" points=\"556.6744,-297.6068 553.1743,-287.6068 549.6744,-297.6069 556.6744,-297.6068\" stroke=\"#000000\"/>\n",
       "</g>\n",
       "<!-- 5026331616 -->\n",
       "<g class=\"node\" id=\"node13\">\n",
       "<title>5026331616</title>\n",
       "<polygon fill=\"none\" points=\"431.3896,-162.5 431.3896,-206.5 674.959,-206.5 674.959,-162.5 431.3896,-162.5\" stroke=\"#000000\"/>\n",
       "<text fill=\"#000000\" font-family=\"Times,serif\" font-size=\"14.00\" text-anchor=\"middle\" x=\"483.5156\" y=\"-180.3\">dense_6: Dense</text>\n",
       "<polyline fill=\"none\" points=\"535.6416,-162.5 535.6416,-206.5 \" stroke=\"#000000\"/>\n",
       "<text fill=\"#000000\" font-family=\"Times,serif\" font-size=\"14.00\" text-anchor=\"middle\" x=\"563.4761\" y=\"-191.3\">input:</text>\n",
       "<polyline fill=\"none\" points=\"535.6416,-184.5 591.3105,-184.5 \" stroke=\"#000000\"/>\n",
       "<text fill=\"#000000\" font-family=\"Times,serif\" font-size=\"14.00\" text-anchor=\"middle\" x=\"563.4761\" y=\"-169.3\">output:</text>\n",
       "<polyline fill=\"none\" points=\"591.3105,-162.5 591.3105,-206.5 \" stroke=\"#000000\"/>\n",
       "<text fill=\"#000000\" font-family=\"Times,serif\" font-size=\"14.00\" text-anchor=\"middle\" x=\"633.1348\" y=\"-191.3\">(None, 128)</text>\n",
       "<polyline fill=\"none\" points=\"591.3105,-184.5 674.959,-184.5 \" stroke=\"#000000\"/>\n",
       "<text fill=\"#000000\" font-family=\"Times,serif\" font-size=\"14.00\" text-anchor=\"middle\" x=\"633.1348\" y=\"-169.3\">(None, 32)</text>\n",
       "</g>\n",
       "<!-- 5025410352&#45;&gt;5026331616 -->\n",
       "<g class=\"edge\" id=\"edge14\">\n",
       "<title>5025410352-&gt;5026331616</title>\n",
       "<path d=\"M553.1743,-243.3664C553.1743,-235.1516 553.1743,-225.6579 553.1743,-216.7252\" fill=\"none\" stroke=\"#000000\"/>\n",
       "<polygon fill=\"#000000\" points=\"556.6744,-216.6068 553.1743,-206.6068 549.6744,-216.6069 556.6744,-216.6068\" stroke=\"#000000\"/>\n",
       "</g>\n",
       "<!-- 5026331448 -->\n",
       "<g class=\"node\" id=\"node14\">\n",
       "<title>5026331448</title>\n",
       "<polygon fill=\"none\" points=\"423.2139,-81.5 423.2139,-125.5 683.1348,-125.5 683.1348,-81.5 423.2139,-81.5\" stroke=\"#000000\"/>\n",
       "<text fill=\"#000000\" font-family=\"Times,serif\" font-size=\"14.00\" text-anchor=\"middle\" x=\"487.0156\" y=\"-99.3\">dropout_6: Dropout</text>\n",
       "<polyline fill=\"none\" points=\"550.8174,-81.5 550.8174,-125.5 \" stroke=\"#000000\"/>\n",
       "<text fill=\"#000000\" font-family=\"Times,serif\" font-size=\"14.00\" text-anchor=\"middle\" x=\"578.6519\" y=\"-110.3\">input:</text>\n",
       "<polyline fill=\"none\" points=\"550.8174,-103.5 606.4863,-103.5 \" stroke=\"#000000\"/>\n",
       "<text fill=\"#000000\" font-family=\"Times,serif\" font-size=\"14.00\" text-anchor=\"middle\" x=\"578.6519\" y=\"-88.3\">output:</text>\n",
       "<polyline fill=\"none\" points=\"606.4863,-81.5 606.4863,-125.5 \" stroke=\"#000000\"/>\n",
       "<text fill=\"#000000\" font-family=\"Times,serif\" font-size=\"14.00\" text-anchor=\"middle\" x=\"644.8105\" y=\"-110.3\">(None, 32)</text>\n",
       "<polyline fill=\"none\" points=\"606.4863,-103.5 683.1348,-103.5 \" stroke=\"#000000\"/>\n",
       "<text fill=\"#000000\" font-family=\"Times,serif\" font-size=\"14.00\" text-anchor=\"middle\" x=\"644.8105\" y=\"-88.3\">(None, 32)</text>\n",
       "</g>\n",
       "<!-- 5026331616&#45;&gt;5026331448 -->\n",
       "<g class=\"edge\" id=\"edge15\">\n",
       "<title>5026331616-&gt;5026331448</title>\n",
       "<path d=\"M553.1743,-162.3664C553.1743,-154.1516 553.1743,-144.6579 553.1743,-135.7252\" fill=\"none\" stroke=\"#000000\"/>\n",
       "<polygon fill=\"#000000\" points=\"556.6744,-135.6068 553.1743,-125.6068 549.6744,-135.6069 556.6744,-135.6068\" stroke=\"#000000\"/>\n",
       "</g>\n",
       "<!-- 5016537240 -->\n",
       "<g class=\"node\" id=\"node15\">\n",
       "<title>5016537240</title>\n",
       "<polygon fill=\"none\" points=\"434.8896,-.5 434.8896,-44.5 671.459,-44.5 671.459,-.5 434.8896,-.5\" stroke=\"#000000\"/>\n",
       "<text fill=\"#000000\" font-family=\"Times,serif\" font-size=\"14.00\" text-anchor=\"middle\" x=\"487.0156\" y=\"-18.3\">dense_7: Dense</text>\n",
       "<polyline fill=\"none\" points=\"539.1416,-.5 539.1416,-44.5 \" stroke=\"#000000\"/>\n",
       "<text fill=\"#000000\" font-family=\"Times,serif\" font-size=\"14.00\" text-anchor=\"middle\" x=\"566.9761\" y=\"-29.3\">input:</text>\n",
       "<polyline fill=\"none\" points=\"539.1416,-22.5 594.8105,-22.5 \" stroke=\"#000000\"/>\n",
       "<text fill=\"#000000\" font-family=\"Times,serif\" font-size=\"14.00\" text-anchor=\"middle\" x=\"566.9761\" y=\"-7.3\">output:</text>\n",
       "<polyline fill=\"none\" points=\"594.8105,-.5 594.8105,-44.5 \" stroke=\"#000000\"/>\n",
       "<text fill=\"#000000\" font-family=\"Times,serif\" font-size=\"14.00\" text-anchor=\"middle\" x=\"633.1348\" y=\"-29.3\">(None, 32)</text>\n",
       "<polyline fill=\"none\" points=\"594.8105,-22.5 671.459,-22.5 \" stroke=\"#000000\"/>\n",
       "<text fill=\"#000000\" font-family=\"Times,serif\" font-size=\"14.00\" text-anchor=\"middle\" x=\"633.1348\" y=\"-7.3\">(None, 1)</text>\n",
       "</g>\n",
       "<!-- 5026331448&#45;&gt;5016537240 -->\n",
       "<g class=\"edge\" id=\"edge16\">\n",
       "<title>5026331448-&gt;5016537240</title>\n",
       "<path d=\"M553.1743,-81.3664C553.1743,-73.1516 553.1743,-63.6579 553.1743,-54.7252\" fill=\"none\" stroke=\"#000000\"/>\n",
       "<polygon fill=\"#000000\" points=\"556.6744,-54.6068 553.1743,-44.6068 549.6744,-54.6069 556.6744,-54.6068\" stroke=\"#000000\"/>\n",
       "</g>\n",
       "</g>\n",
       "</svg>"
      ],
      "text/plain": [
       "<IPython.core.display.SVG object>"
      ]
     },
     "execution_count": 30,
     "metadata": {},
     "output_type": "execute_result"
    }
   ],
   "source": [
    "# Model visualization\n",
    "SVG(model_to_dot(model4, show_shapes=True).create(prog='dot', format='svg'))"
   ]
  },
  {
   "cell_type": "code",
   "execution_count": 31,
   "metadata": {},
   "outputs": [
    {
     "name": "stdout",
     "output_type": "stream",
     "text": [
      "Epoch 1/5\n",
      "785404/785404 [==============================] - 73s 93us/step - loss: 1.0068 - mean_absolute_error: 0.7997\n",
      "Epoch 2/5\n",
      "785404/785404 [==============================] - 74s 95us/step - loss: 0.8379 - mean_absolute_error: 0.7239\n",
      "Epoch 3/5\n",
      "785404/785404 [==============================] - 71s 91us/step - loss: 0.7875 - mean_absolute_error: 0.6995\n",
      "Epoch 4/5\n",
      "785404/785404 [==============================] - 73s 93us/step - loss: 0.7568 - mean_absolute_error: 0.6815\n",
      "Epoch 5/5\n",
      "785404/785404 [==============================] - 73s 93us/step - loss: 0.7350 - mean_absolute_error: 0.6689\n"
     ]
    },
    {
     "data": {
      "image/png": "[encoded data removed]",
      "text/plain": [
       "<Figure size 432x288 with 1 Axes>"
      ]
     },
     "metadata": {},
     "output_type": "display_data"
    }
   ],
   "source": [
    "model4 = train_and_save(model4, 'model4.h5')"
   ]
  },
  {
   "cell_type": "code",
   "execution_count": 32,
   "metadata": {},
   "outputs": [
    {
     "data": {
      "text/plain": [
       "['mse, mae']"
      ]
     },
     "metadata": {},
     "output_type": "display_data"
    },
    {
     "data": {
      "text/plain": [
       "'Dot_product'"
      ]
     },
     "metadata": {},
     "output_type": "display_data"
    },
    {
     "name": "stdout",
     "output_type": "stream",
     "text": [
      "196352/196352 [==============================] - 2s 11us/step\n"
     ]
    },
    {
     "data": {
      "text/plain": [
       "[1.1218068912295038, 0.7770441920245176]"
      ]
     },
     "metadata": {},
     "output_type": "display_data"
    },
    {
     "name": "stdout",
     "output_type": "stream",
     "text": [
      "model 1\n",
      "196352/196352 [==============================] - 2s 11us/step\n"
     ]
    },
    {
     "data": {
      "text/plain": [
       "[0.8386083249551531, 0.7261866005052566]"
      ]
     },
     "metadata": {},
     "output_type": "display_data"
    },
    {
     "name": "stdout",
     "output_type": "stream",
     "text": [
      "model 2\n",
      "196352/196352 [==============================] - 2s 12us/step\n"
     ]
    },
    {
     "data": {
      "text/plain": [
       "[0.773098948252578, 0.6960891861968821]"
      ]
     },
     "metadata": {},
     "output_type": "display_data"
    },
    {
     "name": "stdout",
     "output_type": "stream",
     "text": [
      "model 3\n",
      "196352/196352 [==============================] - 3s 13us/step\n"
     ]
    },
    {
     "data": {
      "text/plain": [
       "[0.7634245301396471, 0.6825098093973068]"
      ]
     },
     "metadata": {},
     "output_type": "display_data"
    },
    {
     "data": {
      "text/plain": [
       "'model 4'"
      ]
     },
     "metadata": {},
     "output_type": "display_data"
    },
    {
     "name": "stdout",
     "output_type": "stream",
     "text": [
      "196352/196352 [==============================] - 3s 16us/step\n"
     ]
    },
    {
     "data": {
      "text/plain": [
       "[0.7515956426143763, 0.6818110979462074]"
      ]
     },
     "metadata": {},
     "output_type": "display_data"
    },
    {
     "name": "stdout",
     "output_type": "stream",
     "text": [
      "predicted actual\n",
      "[4.6202974] 5\n",
      "[3.8527005] 4\n",
      "[3.5620632] 3\n",
      "[4.2047024] 5\n",
      "[3.5519028] 3\n",
      "[4.0241213] 3\n",
      "[3.707457] 3\n",
      "[4.5370827] 4\n",
      "[4.2204423] 3\n",
      "[4.0417385] 5\n"
     ]
    },
    {
     "data": {
      "text/plain": [
       "[None, None, None, None, None, None, None, None, None, None]"
      ]
     },
     "execution_count": 32,
     "metadata": {},
     "output_type": "execute_result"
    }
   ],
   "source": [
    "# Evaluate model\n",
    "display(['mse, mae'])\n",
    "display(\"Dot_product\")\n",
    "display(model.evaluate([test.user_id, test.book_id], test.rating))\n",
    "print('model 1')\n",
    "display(model1.evaluate([test.user_id, test.book_id], test.rating))\n",
    "print('model 2')\n",
    "display(model2.evaluate([test.user_id, test.book_id], test.rating))\n",
    "print('model 3')\n",
    "display(model3.evaluate([test.user_id, test.book_id], test.rating))\n",
    "\n",
    "display('model 4')\n",
    "display(model4.evaluate([test.user_id, test.book_id], test.rating))\n",
    "\n",
    "\n",
    "# make prediction\n",
    "predictions = model4.predict([test.user_id.head(10), test.book_id.head(10)])\n",
    "print('predicted', 'actual')\n",
    "[print(predictions[i], test.rating.iloc[i]) for i in range(0, 10)]"
   ]
  },
  {
   "cell_type": "markdown",
   "metadata": {},
   "source": [
    "### Using extra information \n",
    "Often, along with the user-interaction data, other information such as user metadata and item metadata is also given. With the above networks, it's trivial to add this metadata to our model. Let's see how."
   ]
  },
  {
   "cell_type": "markdown",
   "metadata": {},
   "source": [
    "model = Model([user_input, book_input, age_input, book_contextual_input], out)\n"
   ]
  },
  {
   "cell_type": "markdown",
   "metadata": {},
   "source": [
    "### Visualizing Embeddings\n",
    "Embeddings are weights that are learned to represent some specific variables like books and user in our case and therefore we can not only use them to get good results on our recommendation problem but also to extract inside about our data. \n",
    "\n",
    "__[Tensorflow embedding projector](http://projector.tensorflow.org/)__"
   ]
  },
  {
   "cell_type": "code",
   "execution_count": 33,
   "metadata": {},
   "outputs": [],
   "source": [
    "# Extract embeddings\n",
    "book_em = model4.get_layer('Book-Embedding')   # Book-Embedding is same name that we provided to Embedding layer\n",
    "book_em_weights = book_em.get_weights()[0]"
   ]
  },
  {
   "cell_type": "code",
   "execution_count": 34,
   "metadata": {},
   "outputs": [
    {
     "data": {
      "text/plain": [
       "array([[-0.00117069,  0.03524328,  0.01401868, -0.01382911, -0.02225442],\n",
       "       [ 0.09990386, -0.010031  , -0.51286304, -0.7864025 , -0.15627657],\n",
       "       [-0.00663378, -0.04430636, -0.60219824,  0.31686187, -0.04221382],\n",
       "       [ 0.1284795 , -0.38519636,  0.01454445,  0.21171196, -0.5563464 ],\n",
       "       [-0.8227816 , -0.04688111, -0.21962403, -0.5060309 ,  0.05366889]],\n",
       "      dtype=float32)"
      ]
     },
     "execution_count": 34,
     "metadata": {},
     "output_type": "execute_result"
    }
   ],
   "source": [
    "book_em_weights[:5]"
   ]
  },
  {
   "cell_type": "code",
   "execution_count": 35,
   "metadata": {},
   "outputs": [
    {
     "data": {
      "text/plain": [
       "<matplotlib.axes._subplots.AxesSubplot at 0x12c9a8a20>"
      ]
     },
     "execution_count": 35,
     "metadata": {},
     "output_type": "execute_result"
    },
    {
     "data": {
      "image/png": "[encoded data removed]",
      "text/plain": [
       "<Figure size 432x288 with 1 Axes>"
      ]
     },
     "metadata": {},
     "output_type": "display_data"
    }
   ],
   "source": [
    "from sklearn.decomposition import PCA\n",
    "import seaborn as sns\n",
    "\n",
    "pca = PCA(n_components=2)   # We used output_dim=5 so 1 < n_components <=5 \n",
    "pca_result = pca.fit_transform(book_em_weights)\n",
    "sns.scatterplot(x=pca_result[:, 0], y=pca_result[:,1])"
   ]
  },
  {
   "cell_type": "markdown",
   "metadata": {},
   "source": [
    "### Making recommendations"
   ]
  },
  {
   "cell_type": "code",
   "execution_count": 36,
   "metadata": {},
   "outputs": [
    {
     "data": {
      "text/plain": [
       "array([1, 2, 3, 4, 5])"
      ]
     },
     "execution_count": 36,
     "metadata": {},
     "output_type": "execute_result"
    }
   ],
   "source": [
    "# Creating dataset for making recommendations for the first user\n",
    "book_data = ratings_df.book_id.unique()\n",
    "book_data[:5]"
   ]
  },
  {
   "cell_type": "code",
   "execution_count": 37,
   "metadata": {},
   "outputs": [
    {
     "data": {
      "text/plain": [
       "array([    1,     2,     3, ..., 53422, 53423, 53424])"
      ]
     },
     "execution_count": 37,
     "metadata": {},
     "output_type": "execute_result"
    }
   ],
   "source": [
    "np.sort(ratings_df.user_id.unique())"
   ]
  },
  {
   "cell_type": "code",
   "execution_count": 38,
   "metadata": {},
   "outputs": [
    {
     "data": {
      "text/plain": [
       "array([1, 1, 1, 1, 1])"
      ]
     },
     "execution_count": 38,
     "metadata": {},
     "output_type": "execute_result"
    }
   ],
   "source": [
    "user = np.array([1 for i in range(len(book_data))])\n",
    "user[:5]"
   ]
  },
  {
   "cell_type": "code",
   "execution_count": 39,
   "metadata": {},
   "outputs": [
    {
     "data": {
      "text/plain": [
       "array([7946, 8945, 7253, 5206, 6589])"
      ]
     },
     "execution_count": 39,
     "metadata": {},
     "output_type": "execute_result"
    }
   ],
   "source": [
    "predictions = model4.predict([user, book_data])\n",
    "\n",
    "predictions = np.array([a[0] for a in predictions])\n",
    "\n",
    "recommended_book_ids = (-predictions).argsort()[:5]  # sort values in decreasing order and return index\n",
    "\n",
    "recommended_book_ids"
   ]
  },
  {
   "cell_type": "code",
   "execution_count": 40,
   "metadata": {},
   "outputs": [
    {
     "data": {
      "text/plain": [
       "array([4.5959406, 4.519026 , 4.503858 , 4.4934273, 4.454032 ],\n",
       "      dtype=float32)"
      ]
     },
     "execution_count": 40,
     "metadata": {},
     "output_type": "execute_result"
    }
   ],
   "source": [
    "# print predicted scores\n",
    "predictions[recommended_book_ids]"
   ]
  },
  {
   "cell_type": "code",
   "execution_count": 41,
   "metadata": {},
   "outputs": [
    {
     "data": {
      "text/html": [
       "<div>\n",
       "<style scoped>\n",
       "    .dataframe tbody tr th:only-of-type {\n",
       "        vertical-align: middle;\n",
       "    }\n",
       "\n",
       "    .dataframe tbody tr th {\n",
       "        vertical-align: top;\n",
       "    }\n",
       "\n",
       "    .dataframe thead th {\n",
       "        text-align: right;\n",
       "    }\n",
       "</style>\n",
       "<table border=\"1\" class=\"dataframe\">\n",
       "  <thead>\n",
       "    <tr style=\"text-align: right;\">\n",
       "      <th></th>\n",
       "      <th>id</th>\n",
       "      <th>book_id</th>\n",
       "      <th>best_book_id</th>\n",
       "      <th>work_id</th>\n",
       "      <th>books_count</th>\n",
       "      <th>isbn</th>\n",
       "      <th>isbn13</th>\n",
       "      <th>authors</th>\n",
       "      <th>original_publication_year</th>\n",
       "      <th>original_title</th>\n",
       "    </tr>\n",
       "  </thead>\n",
       "  <tbody>\n",
       "    <tr>\n",
       "      <th>0</th>\n",
       "      <td>1</td>\n",
       "      <td>2767052</td>\n",
       "      <td>2767052</td>\n",
       "      <td>2792775</td>\n",
       "      <td>272</td>\n",
       "      <td>439023483</td>\n",
       "      <td>9.780439e+12</td>\n",
       "      <td>Suzanne Collins</td>\n",
       "      <td>2008.0</td>\n",
       "      <td>The Hunger Games</td>\n",
       "    </tr>\n",
       "    <tr>\n",
       "      <th>1</th>\n",
       "      <td>2</td>\n",
       "      <td>3</td>\n",
       "      <td>3</td>\n",
       "      <td>4640799</td>\n",
       "      <td>491</td>\n",
       "      <td>439554934</td>\n",
       "      <td>9.780440e+12</td>\n",
       "      <td>J.K. Rowling, Mary GrandPré</td>\n",
       "      <td>1997.0</td>\n",
       "      <td>Harry Potter and the Philosopher's Stone</td>\n",
       "    </tr>\n",
       "    <tr>\n",
       "      <th>2</th>\n",
       "      <td>3</td>\n",
       "      <td>41865</td>\n",
       "      <td>41865</td>\n",
       "      <td>3212258</td>\n",
       "      <td>226</td>\n",
       "      <td>316015849</td>\n",
       "      <td>9.780316e+12</td>\n",
       "      <td>Stephenie Meyer</td>\n",
       "      <td>2005.0</td>\n",
       "      <td>Twilight</td>\n",
       "    </tr>\n",
       "    <tr>\n",
       "      <th>3</th>\n",
       "      <td>4</td>\n",
       "      <td>2657</td>\n",
       "      <td>2657</td>\n",
       "      <td>3275794</td>\n",
       "      <td>487</td>\n",
       "      <td>61120081</td>\n",
       "      <td>9.780061e+12</td>\n",
       "      <td>Harper Lee</td>\n",
       "      <td>1960.0</td>\n",
       "      <td>To Kill a Mockingbird</td>\n",
       "    </tr>\n",
       "    <tr>\n",
       "      <th>4</th>\n",
       "      <td>5</td>\n",
       "      <td>4671</td>\n",
       "      <td>4671</td>\n",
       "      <td>245494</td>\n",
       "      <td>1356</td>\n",
       "      <td>743273567</td>\n",
       "      <td>9.780743e+12</td>\n",
       "      <td>F. Scott Fitzgerald</td>\n",
       "      <td>1925.0</td>\n",
       "      <td>The Great Gatsby</td>\n",
       "    </tr>\n",
       "  </tbody>\n",
       "</table>\n",
       "</div>"
      ],
      "text/plain": [
       "   id  book_id  best_book_id  work_id  books_count       isbn        isbn13  \\\n",
       "0   1  2767052       2767052  2792775          272  439023483  9.780439e+12   \n",
       "1   2        3             3  4640799          491  439554934  9.780440e+12   \n",
       "2   3    41865         41865  3212258          226  316015849  9.780316e+12   \n",
       "3   4     2657          2657  3275794          487   61120081  9.780061e+12   \n",
       "4   5     4671          4671   245494         1356  743273567  9.780743e+12   \n",
       "\n",
       "                       authors  original_publication_year  \\\n",
       "0              Suzanne Collins                     2008.0   \n",
       "1  J.K. Rowling, Mary GrandPré                     1997.0   \n",
       "2              Stephenie Meyer                     2005.0   \n",
       "3                   Harper Lee                     1960.0   \n",
       "4          F. Scott Fitzgerald                     1925.0   \n",
       "\n",
       "                             original_title  \n",
       "0                          The Hunger Games  \n",
       "1  Harry Potter and the Philosopher's Stone  \n",
       "2                                  Twilight  \n",
       "3                     To Kill a Mockingbird  \n",
       "4                          The Great Gatsby  "
      ]
     },
     "execution_count": 41,
     "metadata": {},
     "output_type": "execute_result"
    }
   ],
   "source": [
    "books = pd.read_csv('../data/books_dataset/books.csv')\n",
    "books.iloc[:, :10].head()"
   ]
  },
  {
   "cell_type": "code",
   "execution_count": 42,
   "metadata": {},
   "outputs": [
    {
     "data": {
      "text/html": [
       "<div>\n",
       "<style scoped>\n",
       "    .dataframe tbody tr th:only-of-type {\n",
       "        vertical-align: middle;\n",
       "    }\n",
       "\n",
       "    .dataframe tbody tr th {\n",
       "        vertical-align: top;\n",
       "    }\n",
       "\n",
       "    .dataframe thead th {\n",
       "        text-align: right;\n",
       "    }\n",
       "</style>\n",
       "<table border=\"1\" class=\"dataframe\">\n",
       "  <thead>\n",
       "    <tr style=\"text-align: right;\">\n",
       "      <th></th>\n",
       "      <th>id</th>\n",
       "      <th>book_id</th>\n",
       "      <th>best_book_id</th>\n",
       "      <th>work_id</th>\n",
       "      <th>books_count</th>\n",
       "      <th>isbn</th>\n",
       "      <th>isbn13</th>\n",
       "      <th>authors</th>\n",
       "      <th>original_publication_year</th>\n",
       "      <th>original_title</th>\n",
       "    </tr>\n",
       "  </thead>\n",
       "  <tbody>\n",
       "    <tr>\n",
       "      <th>5205</th>\n",
       "      <td>5206</td>\n",
       "      <td>13066</td>\n",
       "      <td>13066</td>\n",
       "      <td>2257006</td>\n",
       "      <td>31</td>\n",
       "      <td>446695688</td>\n",
       "      <td>9.780447e+12</td>\n",
       "      <td>Carl Hiaasen</td>\n",
       "      <td>2000.0</td>\n",
       "      <td>Sick Puppy</td>\n",
       "    </tr>\n",
       "    <tr>\n",
       "      <th>6588</th>\n",
       "      <td>6589</td>\n",
       "      <td>41710</td>\n",
       "      <td>41710</td>\n",
       "      <td>3132229</td>\n",
       "      <td>66</td>\n",
       "      <td>425197387</td>\n",
       "      <td>9.780425e+12</td>\n",
       "      <td>Clive Cussler</td>\n",
       "      <td>1974.0</td>\n",
       "      <td>Iceberg</td>\n",
       "    </tr>\n",
       "    <tr>\n",
       "      <th>7252</th>\n",
       "      <td>7253</td>\n",
       "      <td>22875</td>\n",
       "      <td>22875</td>\n",
       "      <td>409548</td>\n",
       "      <td>34</td>\n",
       "      <td>345418476</td>\n",
       "      <td>9.780345e+12</td>\n",
       "      <td>Stephen R. Donaldson</td>\n",
       "      <td>1982.0</td>\n",
       "      <td>The One Tree</td>\n",
       "    </tr>\n",
       "    <tr>\n",
       "      <th>7945</th>\n",
       "      <td>7946</td>\n",
       "      <td>39926</td>\n",
       "      <td>39926</td>\n",
       "      <td>836516</td>\n",
       "      <td>43</td>\n",
       "      <td>60512180</td>\n",
       "      <td>9.780061e+12</td>\n",
       "      <td>Naomi Wolf</td>\n",
       "      <td>1990.0</td>\n",
       "      <td>The Beauty Myth: How Images of Beauty Are Used...</td>\n",
       "    </tr>\n",
       "    <tr>\n",
       "      <th>8944</th>\n",
       "      <td>8945</td>\n",
       "      <td>32529</td>\n",
       "      <td>32529</td>\n",
       "      <td>3214115</td>\n",
       "      <td>40</td>\n",
       "      <td>752848267</td>\n",
       "      <td>9.780753e+12</td>\n",
       "      <td>Lisa Gardner</td>\n",
       "      <td>2001.0</td>\n",
       "      <td>The Next Accident</td>\n",
       "    </tr>\n",
       "  </tbody>\n",
       "</table>\n",
       "</div>"
      ],
      "text/plain": [
       "        id  book_id  best_book_id  work_id  books_count       isbn  \\\n",
       "5205  5206    13066         13066  2257006           31  446695688   \n",
       "6588  6589    41710         41710  3132229           66  425197387   \n",
       "7252  7253    22875         22875   409548           34  345418476   \n",
       "7945  7946    39926         39926   836516           43   60512180   \n",
       "8944  8945    32529         32529  3214115           40  752848267   \n",
       "\n",
       "            isbn13               authors  original_publication_year  \\\n",
       "5205  9.780447e+12          Carl Hiaasen                     2000.0   \n",
       "6588  9.780425e+12         Clive Cussler                     1974.0   \n",
       "7252  9.780345e+12  Stephen R. Donaldson                     1982.0   \n",
       "7945  9.780061e+12            Naomi Wolf                     1990.0   \n",
       "8944  9.780753e+12          Lisa Gardner                     2001.0   \n",
       "\n",
       "                                         original_title  \n",
       "5205                                         Sick Puppy  \n",
       "6588                                            Iceberg  \n",
       "7252                                       The One Tree  \n",
       "7945  The Beauty Myth: How Images of Beauty Are Used...  \n",
       "8944                                  The Next Accident  "
      ]
     },
     "execution_count": 42,
     "metadata": {},
     "output_type": "execute_result"
    }
   ],
   "source": [
    "books[books['id'].isin(recommended_book_ids)].iloc[:, :10]"
   ]
  },
  {
   "cell_type": "markdown",
   "metadata": {},
   "source": [
    "### Youtube recommendation Engine\n",
    "[Paper link](http://static.googleusercontent.com/media/research.google.com/en//pubs/archive/45530.pdf)\n",
    "\n",
    "<img src=\"../data/books_dataset/images/YouTube.png\" alt=\"YouTube RecSys\" style=\"width: 600px;\" />"
   ]
  },
  {
   "cell_type": "markdown",
   "metadata": {},
   "source": [
    "### Summary\n",
    "\n",
    "1. RecSys is a good use case in Data Science domain.\n",
    "2. Dot product is easy to build and first step for Neural network.\n",
    "3. Built 4 Models:\n",
    "\t- Model 1 : Multiply(user_vec, book_vec) + Dense NN layer\n",
    "\t- Model 2 : Added bias inside concatenation layer concatenate([o, book_bias, user_bias])\n",
    "\t- Model 3 : Added 'relu' Activation function inside Dense NN layer. \n",
    "\t- Model 4 : Added more Dense layers to check if perfomance optimizes. \n",
    "4. Embedding visualization\n",
    "5. Book recommendation"
   ]
  },
  {
   "cell_type": "markdown",
   "metadata": {},
   "source": [
    "### Credit where it's due\n",
    " - A brilliant [fast.ai](https://course.fast.ai/videos/?lesson=4) course by Jeremy and Rachel. Refer to Lesson 4 for Collaborative Filtering lecture.\n",
    " - Deep learning class. [link](https://m2dsupsdlclass.github.io/lectures-labs/)\n",
    " - Reference: Keras Model guide. [link](http://faroit.com/keras-docs/1.0.4/getting-started/sequential-model-guide/)\n",
    "\n",
    "### For those who'd like to get deeper\n",
    " - Deep Recommender models using PyTorch - [Spotlight](https://github.com/maciejkula/spotlight). The [Keras implementation](https://github.com/maciejkula/triplet_recommendations_keras).\n",
    " - [YouTube Recommendation Engine](http://static.googleusercontent.com/media/research.google.com/en//pubs/archive/45530.pdf) (Combination of techniques)\n",
    " - [RecSys conference 2017 talks](https://towardsdatascience.com/recsys-2017-2d0879351097)\n"
   ]
  },
  {
   "cell_type": "markdown",
   "metadata": {},
   "source": [
    "<img src=\"https://media.tenor.com/images/69d1d66198f1aac60ad244f6c004f372/tenor.gif\" alt=\"Thank You\" style=\"width: 200px;\"/>"
   ]
  },
  {
   "cell_type": "code",
   "execution_count": null,
   "metadata": {},
   "outputs": [],
   "source": []
  }
 ],
 "metadata": {
  "kernelspec": {
   "display_name": "Python 3",
   "language": "python",
   "name": "python3"
  },
  "language_info": {
   "codemirror_mode": {
    "name": "ipython",
    "version": 3
   },
   "file_extension": ".py",
   "mimetype": "text/x-python",
   "name": "python",
   "nbconvert_exporter": "python",
   "pygments_lexer": "ipython3",
   "version": "3.6.5"
  }
 },
 "nbformat": 4,
 "nbformat_minor": 1
}
